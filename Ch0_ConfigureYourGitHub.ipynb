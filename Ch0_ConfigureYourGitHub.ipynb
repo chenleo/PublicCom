{
 "metadata": {
  "name": "",
  "signature": "sha256:4cf9a419bb64adfd959a8531b4621965dfa3a0f392cedfe2df88eb9b9d862856"
 },
 "nbformat": 3,
 "nbformat_minor": 0,
 "worksheets": [
  {
   "cells": [
    {
     "cell_type": "markdown",
     "metadata": {},
     "source": [
      "<style>\n",
      "div.cell, div.text_cell_render{\n",
      "  max-width:750px;\n",
      "  margin-left:auto;\n",
      "  margin-right:auto;\n",
      "}\n",
      "\n",
      ".rendered_html\n",
      "{\n",
      "  font-size: 140%;\n",
      "  }\n",
      "\n",
      ".rendered_html li\n",
      "{\n",
      "  line-height: 1.8;\n",
      "  }\n",
      "\n",
      ".rendered_html h1, h2 {\n",
      "  text-align:center;\n",
      "  font-familly:\"Charis SIL\", serif;\n",
      "}\n",
      "</style>"
     ]
    },
    {
     "cell_type": "markdown",
     "metadata": {},
     "source": [
      "# Configure Your GitHub"
     ]
    },
    {
     "cell_type": "markdown",
     "metadata": {},
     "source": [
      "###  [Theory Background:](http://nyuccl.org/pages/GitTutorial/)"
     ]
    },
    {
     "cell_type": "markdown",
     "metadata": {},
     "source": [
      "### [Reference for today:](http://nbviewer.ipython.org/github/jakevdp/2013_fall_ASTR599/blob/master/notebooks/07_GitIntro.ipynb)"
     ]
    },
    {
     "cell_type": "markdown",
     "metadata": {},
     "source": [
      "## Step 0: Sign up your github account [here](https://github.com/)"
     ]
    },
    {
     "cell_type": "markdown",
     "metadata": {},
     "source": [
      "## Step 0.5: Create your own webpage repository \n",
      "- New repo with name: [yourusername].github.io\n",
      "- Go to Settings\n",
      "- Click Automatic Page Generator\n",
      "- Choose your template\n",
      "- Done\n",
      "- Leave your domain name [here](https://github.com/chenleo/PublicCom/issues)"
     ]
    },
    {
     "cell_type": "markdown",
     "metadata": {},
     "source": [
      "## Local, single-user, linear workflow\n",
      "\n",
      "Simply type git to see a full list of all the 'core' commands. We'll now go through most of these via small practical exercises:"
     ]
    },
    {
     "cell_type": "code",
     "collapsed": false,
     "input": [
      "!git"
     ],
     "language": "python",
     "metadata": {},
     "outputs": [
      {
       "output_type": "stream",
       "stream": "stdout",
       "text": [
        "usage: git [--version] [--help] [-c name=value]\r\n",
        "           [--exec-path[=<path>]] [--html-path] [--man-path] [--info-path]\r\n",
        "           [-p|--paginate|--no-pager] [--no-replace-objects] [--bare]\r\n",
        "           [--git-dir=<path>] [--work-tree=<path>] [--namespace=<name>]\r\n",
        "           <command> [<args>]\r\n",
        "\r\n",
        "The most commonly used git commands are:\r\n",
        "   add        Add file contents to the index\r\n",
        "   bisect     Find by binary search the change that introduced a bug\r\n",
        "   branch     List, create, or delete branches\r\n",
        "   checkout   Checkout a branch or paths to the working tree\r\n",
        "   clone      Clone a repository into a new directory\r\n",
        "   commit     Record changes to the repository\r\n",
        "   diff       Show changes between commits, commit and working tree, etc\r\n",
        "   fetch      Download objects and refs from another repository\r\n",
        "   grep       Print lines matching a pattern\r\n",
        "   init       Create an empty Git repository or reinitialize an existing one\r\n",
        "   log        Show commit logs\r\n",
        "   merge      Join two or more development histories together\r\n",
        "   mv         Move or rename a file, a directory, or a symlink\r\n",
        "   pull       Fetch from and merge with another repository or a local branch\r\n",
        "   push       Update remote refs along with associated objects\r\n",
        "   rebase     Forward-port local commits to the updated upstream head\r\n",
        "   reset      Reset current HEAD to the specified state\r\n",
        "   rm         Remove files from the working tree and from the index\r\n",
        "   show       Show various types of objects\r\n",
        "   status     Show the working tree status\r\n",
        "   tag        Create, list, delete or verify a tag object signed with GPG\r\n",
        "\r\n",
        "'git help -a' and 'git help -g' lists available subcommands and some\r\n",
        "concept guides. See 'git help <command>' or 'git help <concept>'\r\n",
        "to read about a specific subcommand or concept.\r\n"
       ]
      }
     ],
     "prompt_number": 2
    },
    {
     "cell_type": "markdown",
     "metadata": {},
     "source": [
      "## Step 1: Create a new repo on your account.\n",
      "- Example: https://github.com/chenleo/PublicCom\n",
      "- Better with a readme file."
     ]
    },
    {
     "cell_type": "markdown",
     "metadata": {},
     "source": [
      "## Step 2: Git add: tell git about this new file(or changed file)"
     ]
    },
    {
     "cell_type": "code",
     "collapsed": false,
     "input": [
      "%%bash\n",
      "touch newfile.txt\n",
      "git add newfile.txt"
     ],
     "language": "python",
     "metadata": {},
     "outputs": [],
     "prompt_number": 4
    },
    {
     "cell_type": "code",
     "collapsed": false,
     "input": [
      "%%bash\n",
      "git status"
     ],
     "language": "python",
     "metadata": {},
     "outputs": [
      {
       "output_type": "stream",
       "stream": "stdout",
       "text": [
        "# On branch master\n",
        "# Changes to be committed:\n",
        "#   (use \"git reset HEAD <file>...\" to unstage)\n",
        "#\n",
        "#\tnew file:   newfile.txt\n",
        "#\n",
        "# Untracked files:\n",
        "#   (use \"git add <file>...\" to include in what will be committed)\n",
        "#\n",
        "#\t.ipynb_checkpoints/\n",
        "#\tCh0_ConfigureYourGitHub.ipynb\n"
       ]
      }
     ],
     "prompt_number": 5
    },
    {
     "cell_type": "markdown",
     "metadata": {},
     "source": [
      "## Step 3: git commit: permanently record our changes in git's database"
     ]
    },
    {
     "cell_type": "code",
     "collapsed": false,
     "input": [
      "%%bash\n",
      "git commit -m \"add newfile.txt\""
     ],
     "language": "python",
     "metadata": {},
     "outputs": [
      {
       "output_type": "stream",
       "stream": "stdout",
       "text": [
        "[master 51b5cab] add newfile.txt\n",
        " 1 file changed, 0 insertions(+), 0 deletions(-)\n",
        " create mode 100644 newfile.txt\n"
       ]
      }
     ],
     "prompt_number": 6
    },
    {
     "cell_type": "markdown",
     "metadata": {},
     "source": [
      "## Step 4: git push origin master: Push your change up onto your repo\n",
      "\n",
      "- You might be asked to input your account/password in this step"
     ]
    },
    {
     "cell_type": "code",
     "collapsed": false,
     "input": [
      "%%bash\n",
      "git push origin master"
     ],
     "language": "python",
     "metadata": {},
     "outputs": [
      {
       "output_type": "stream",
       "stream": "stderr",
       "text": [
        "To https://github.com/chenleo/PublicCom\n",
        "   09df9f2..51b5cab  master -> master\n"
       ]
      }
     ],
     "prompt_number": 8
    },
    {
     "cell_type": "markdown",
     "metadata": {},
     "source": [
      "## Step Extra: git diff: what have I changed?"
     ]
    },
    {
     "cell_type": "code",
     "collapsed": false,
     "input": [
      "%%bash\n",
      "echo \"someword\" >> newfile.txt"
     ],
     "language": "python",
     "metadata": {},
     "outputs": [],
     "prompt_number": 9
    },
    {
     "cell_type": "code",
     "collapsed": false,
     "input": [
      "%%bash\n",
      "git diff"
     ],
     "language": "python",
     "metadata": {},
     "outputs": [
      {
       "output_type": "stream",
       "stream": "stdout",
       "text": [
        "diff --git a/newfile.txt b/newfile.txt\n",
        "index e69de29..cb94376 100644\n",
        "--- a/newfile.txt\n",
        "+++ b/newfile.txt\n",
        "@@ -0,0 +1 @@\n",
        "+someword\n"
       ]
      }
     ],
     "prompt_number": 10
    },
    {
     "cell_type": "markdown",
     "metadata": {},
     "source": [
      "## The cycle of git: work, commit, work, commit, ..."
     ]
    },
    {
     "cell_type": "markdown",
     "metadata": {},
     "source": [
      "[Further study](http://nbviewer.ipython.org/github/jakevdp/2013_fall_ASTR599/blob/master/notebooks/07_GitIntro.ipynb)"
     ]
    },
    {
     "cell_type": "code",
     "collapsed": false,
     "input": [],
     "language": "python",
     "metadata": {},
     "outputs": []
    }
   ],
   "metadata": {}
  }
 ]
}