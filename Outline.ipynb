{
 "metadata": {
  "name": "",
  "signature": "sha256:7c8d969afde221faf0a2e40387df44b8af6a3139b09ddea1921f27b84086d461"
 },
 "nbformat": 3,
 "nbformat_minor": 0,
 "worksheets": [
  {
   "cells": [
    {
     "cell_type": "markdown",
     "metadata": {},
     "source": [
      "<style>\n",
      "\n",
      "div.cell, div.text_cell_render{\n",
      "  max-width:750px;\n",
      "  margin-left:auto;\n",
      "  margin-right:auto;\n",
      "}\n",
      "\n",
      ".rendered_html\n",
      "{\n",
      "  font-size: 140%;\n",
      "  }\n",
      "\n",
      ".rendered_html li\n",
      "{\n",
      "  line-height: 1.8;\n",
      "  }\n",
      "\n",
      ".rendered_html h1, h2 {\n",
      "  text-align:center;\n",
      "  font-familly:\"Charis SIL\", serif;\n",
      "}\n",
      "</style>"
     ]
    },
    {
     "cell_type": "markdown",
     "metadata": {},
     "source": [
      "Github & IPython Notebook Introduction @DKFZ\n",
      "--------"
     ]
    },
    {
     "cell_type": "markdown",
     "metadata": {},
     "source": [
      "# Outline\n",
      "\n",
      "- Introducion:\n",
      "- [Configure Your GitHub](./Ch0_ConfigureYourGitHub.ipynb)\n",
      "- [Introduction to Python](./Ch1_IntroductionToPython.ipynb)\n",
      "- [IPython Notebook Feature](./Ch2_IPythonNotebookFeature.ipynb)\n",
      "- [biopython demo](./Ch3_BiopythonDemo.ipynb)\n",
      "- [R magic](./Ch4_RMagic.ipynb)\n",
      "- [Future feature](./Ch5_FutureFeature.ipynb)"
     ]
    },
    {
     "cell_type": "markdown",
     "metadata": {},
     "source": [
      "## Wifi Guest Account\n",
      "\n",
      "- Username: g-guest64\n",
      "- Password: mudacene"
     ]
    },
    {
     "cell_type": "markdown",
     "metadata": {},
     "source": [
      "# Prerequest:\n",
      "\n",
      "- [GitHub](https://help.github.com/articles/set-up-git)\n",
      "- [Conda](https://store.continuum.io/cshop/anaconda/)"
     ]
    },
    {
     "cell_type": "markdown",
     "metadata": {},
     "source": [
      "## Clone the Repository(in your clean working directory)\n",
      "\n",
      "> In a terminal (on Windows in a Github terminal), sequencially type the following commands.\n",
      "\n",
      "1. git clone https://github.com/chenleo/PublicCom\n",
      "2. cd PublicCom\n",
      "3. ipython notebook"
     ]
    },
    {
     "cell_type": "markdown",
     "metadata": {},
     "source": [
      "# Does not work?\n",
      "## Possible Problem\n",
      "\n",
      "1. Can not launch ipython notebook?\n",
      "    - If you did not install conda, install conda [here](https://store.continuum.io/cshop/anaconda/)\n",
      "    - *(or complicate way) conda create -n ipynb python ipython ipython-notebook ipython-qtconsole*\n",
      "2. ImportError: No module named XXXX\n",
      "    - conda install XXXX\n",
      "    - pip install XXXX\n",
      "    - *(Or share with others)*"
     ]
    },
    {
     "cell_type": "code",
     "collapsed": false,
     "input": [
      "import sys\n",
      "sys.version"
     ],
     "language": "python",
     "metadata": {},
     "outputs": [
      {
       "metadata": {},
       "output_type": "pyout",
       "prompt_number": 4,
       "text": [
        "'2.7.6 |Anaconda 1.9.1 (x86_64)| (default, Jan 10 2014, 11:23:15) \\n[GCC 4.0.1 (Apple Inc. build 5493)]'"
       ]
      }
     ],
     "prompt_number": 4
    },
    {
     "cell_type": "code",
     "collapsed": false,
     "input": [
      "# You should have version 1.1 or 1.2 \n",
      "import IPython\n",
      "IPython.__version__"
     ],
     "language": "python",
     "metadata": {},
     "outputs": [
      {
       "metadata": {},
       "output_type": "pyout",
       "prompt_number": 2,
       "text": [
        "'2.0.0-dev'"
       ]
      }
     ],
     "prompt_number": 2
    },
    {
     "cell_type": "markdown",
     "metadata": {},
     "source": [
      "# Appendix: Markdonw Basic\n",
      "\n",
      "## Double click each cell to see the raw syntax"
     ]
    },
    {
     "cell_type": "markdown",
     "metadata": {},
     "source": [
      "---------"
     ]
    },
    {
     "cell_type": "markdown",
     "metadata": {},
     "source": [
      "## PARAGRAPHS, HEADERS, BLOCKQUOTES"
     ]
    },
    {
     "cell_type": "markdown",
     "metadata": {},
     "source": [
      "A First Level Header\n",
      "====================\n",
      "\n",
      "A Second Level Header\n",
      "---------------------\n",
      "\n",
      "Now is the time for all good men to come to\n",
      "the aid of their country. This is just a\n",
      "regular paragraph.\n",
      "\n",
      "The quick brown fox jumped over the lazy\n",
      "dog's back.\n",
      "\n",
      "### Header 3\n",
      "\n",
      "> This is a blockquote.\n",
      "> \n",
      "> This is the second paragraph in the blockquote.\n",
      ">\n",
      "> ## This is an H2 in a blockquote"
     ]
    },
    {
     "cell_type": "markdown",
     "metadata": {},
     "source": [
      "-------------"
     ]
    },
    {
     "cell_type": "markdown",
     "metadata": {},
     "source": [
      "## PHRASE EMPHASIS"
     ]
    },
    {
     "cell_type": "markdown",
     "metadata": {},
     "source": [
      "Some of these words *are emphasized*.\n",
      "\n",
      "Some of these words _are emphasized also_.\n",
      "\n",
      "Use two asterisks for **strong emphasis**.\n",
      "\n",
      "Or, if you prefer, __use two underscores instead__."
     ]
    },
    {
     "cell_type": "markdown",
     "metadata": {},
     "source": [
      "---------------"
     ]
    },
    {
     "cell_type": "markdown",
     "metadata": {},
     "source": [
      "## LISTS"
     ]
    },
    {
     "cell_type": "markdown",
     "metadata": {},
     "source": [
      "+   Candy.\n",
      "+   Gum.\n",
      "+   Booze."
     ]
    },
    {
     "cell_type": "markdown",
     "metadata": {},
     "source": [
      "-   Candy.\n",
      "-   Gum.\n",
      "-   Booze."
     ]
    },
    {
     "cell_type": "markdown",
     "metadata": {},
     "source": [
      "1.  Red\n",
      "2.  Green\n",
      "3.  Blue"
     ]
    },
    {
     "cell_type": "markdown",
     "metadata": {},
     "source": [
      "-----------"
     ]
    },
    {
     "cell_type": "markdown",
     "metadata": {},
     "source": [
      "## LINKS"
     ]
    },
    {
     "cell_type": "markdown",
     "metadata": {},
     "source": [
      "This is an [example link](http://example.com/)"
     ]
    },
    {
     "cell_type": "markdown",
     "metadata": {},
     "source": [
      "This is an [example link](http://example.com/ \"With a Title\")."
     ]
    },
    {
     "cell_type": "markdown",
     "metadata": {},
     "source": [
      "### Reference-Style Linek\n",
      "\n",
      "I get 10 times more traffic from [Google][1] than from [Yahoo][2] or [MSN][3].\n",
      "\n",
      "[1]: http://google.com/        \"Google\"\n",
      "[2]: http://search.yahoo.com/  \"Yahoo Search\"\n",
      "[3]: http://search.msn.com/    \"MSN Search\""
     ]
    },
    {
     "cell_type": "markdown",
     "metadata": {},
     "source": [
      "-------------"
     ]
    },
    {
     "cell_type": "markdown",
     "metadata": {},
     "source": [
      "## IMAGES"
     ]
    },
    {
     "cell_type": "markdown",
     "metadata": {},
     "source": [
      "![alt text](http://upload.wikimedia.org/wikipedia/commons/thumb/0/0f/Grosser_Panda.JPG/320px-Grosser_Panda.JPG \"Title\")"
     ]
    },
    {
     "cell_type": "markdown",
     "metadata": {},
     "source": [
      "------------"
     ]
    },
    {
     "cell_type": "markdown",
     "metadata": {},
     "source": [
      "## CODE"
     ]
    },
    {
     "cell_type": "markdown",
     "metadata": {},
     "source": [
      "```\n",
      "// A Hello World Cpp Program\n",
      "#include <iostream>\n",
      "\n",
      "using namespace std;\n",
      "\n",
      "int main(int argc, char *argv[]) {\n",
      "    cout << \"Hello World!\" << endl;\n",
      "    return 0;\n",
      "}\n",
      "\n",
      "```"
     ]
    }
   ],
   "metadata": {}
  }
 ]
}
