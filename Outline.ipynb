{
 "metadata": {
  "name": "",
  "signature": "sha256:aee47b95b3fbfb548d1d4cb5a2af1b3175673996c5e2f1f55c4c436f41c02e4b"
 },
 "nbformat": 3,
 "nbformat_minor": 0,
 "worksheets": [
  {
   "cells": [
    {
     "cell_type": "markdown",
     "metadata": {},
     "source": [
      "<style>\n",
      "\n",
      "div.cell, div.text_cell_render{\n",
      "  max-width:750px;\n",
      "  margin-left:auto;\n",
      "  margin-right:auto;\n",
      "}\n",
      "\n",
      ".rendered_html\n",
      "{\n",
      "  font-size: 140%;\n",
      "  }\n",
      "\n",
      ".rendered_html li\n",
      "{\n",
      "  line-height: 1.8;\n",
      "  }\n",
      "\n",
      ".rendered_html h1, h2 {\n",
      "  text-align:center;\n",
      "  font-familly:\"Charis SIL\", serif;\n",
      "}\n",
      "</style>"
     ]
    },
    {
     "cell_type": "markdown",
     "metadata": {},
     "source": [
      "Github & IPython Notebook \u626b\u76f2\u4ea4\u6d41\u6d3b\u52a8 @DKFZ\n",
      "--------"
     ]
    },
    {
     "cell_type": "markdown",
     "metadata": {},
     "source": [
      "# Outline:\n",
      "\n",
      "- Introducion:\n",
      "- [Configure Your GitHub](./Ch0_ConfigureYourGitHub.ipynb)\n",
      "- [Introduction to Python](./Ch1_IntroductionToPython.ipynb)\n",
      "- [IPython Notebook Feature](./Ch2_IPythonNotebookFeature.ipynb)\n",
      "- [biopython demo](./Ch3_BiopythonDemo.ipynb)\n",
      "- [R magic](./Ch4_RMagic.ipynb)\n",
      "- [Future feature](./Ch5_FutureFeature.ipynb)"
     ]
    },
    {
     "cell_type": "markdown",
     "metadata": {},
     "source": [
      "## Wifi Guest Account\n",
      "\n",
      "- Username: g-guest64\n",
      "- Password: mudacene"
     ]
    },
    {
     "cell_type": "markdown",
     "metadata": {},
     "source": [
      "# Prerequest:\n",
      "\n",
      "- [GitHub](https://help.github.com/articles/set-up-git)\n",
      "- [Conda](https://store.continuum.io/cshop/anaconda/)"
     ]
    },
    {
     "cell_type": "markdown",
     "metadata": {},
     "source": [
      "## Clone the Repository(in your clean working directory)\n",
      "\n",
      "### In a terminal (on Windows in a Github terminal), sequencially type the following commands.\n",
      "\n",
      "1. git clone https://github.com/chenleo/PublicCom\n",
      "2. cd PublicCome\n",
      "3. ipython notebook"
     ]
    },
    {
     "cell_type": "markdown",
     "metadata": {},
     "source": [
      "# Does not work?\n",
      "## Possible Problem\n",
      "\n",
      "1. Can not launch ipython notebook?\n",
      "    - If you did not install conda, install conda [here](https://store.continuum.io/cshop/anaconda/)\n",
      "    - *(or complicate way) conda create -n ipynb python ipython ipython-notebook ipython-qtconsole*\n",
      "2. ImportError: No module named XXXX\n",
      "    - conda install XXXX\n",
      "    - pip install XXXX\n",
      "    - *(Or share with others)*"
     ]
    },
    {
     "cell_type": "code",
     "collapsed": false,
     "input": [
      "import sys\n",
      "sys.version"
     ],
     "language": "python",
     "metadata": {},
     "outputs": [
      {
       "metadata": {},
       "output_type": "pyout",
       "prompt_number": 4,
       "text": [
        "'2.7.6 |Anaconda 1.9.1 (x86_64)| (default, Jan 10 2014, 11:23:15) \\n[GCC 4.0.1 (Apple Inc. build 5493)]'"
       ]
      }
     ],
     "prompt_number": 4
    },
    {
     "cell_type": "code",
     "collapsed": false,
     "input": [
      "# You should see version 1.1 or 1.2 \n",
      "import IPython\n",
      "IPython.__version__"
     ],
     "language": "python",
     "metadata": {},
     "outputs": [
      {
       "metadata": {},
       "output_type": "pyout",
       "prompt_number": 1,
       "text": [
        "'2.0.0-dev'"
       ]
      }
     ],
     "prompt_number": 1
    },
    {
     "cell_type": "code",
     "collapsed": false,
     "input": [],
     "language": "python",
     "metadata": {},
     "outputs": []
    }
   ],
   "metadata": {}
  }
 ]
}