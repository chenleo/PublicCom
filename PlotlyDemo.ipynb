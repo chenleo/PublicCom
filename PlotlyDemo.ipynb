{
 "metadata": {
  "celltoolbar": "Slideshow",
  "name": "",
  "signature": "sha256:b9624304a8153b9a7b58791daede27f5659300e7e7f007c85c7a7bd2d147e210"
 },
 "nbformat": 3,
 "nbformat_minor": 0,
 "worksheets": [
  {
   "cells": [
    {
     "cell_type": "code",
     "collapsed": false,
     "input": [
      "%%HTML\n",
      "<style>\n",
      ".cell {\n",
      "    background-color: #DDFFFF;\n",
      "    font-family: Georgia, Cursive;\n",
      "    font-size: 120%;\n",
      "    border-radius: 10px;\n",
      "}\n",
      "\n",
      "body {\n",
      "    background-color: #AAFFFF;\n",
      "    background-image: url('https://raw.github.com/chenleo/Resource/master/Images/FirstKiss1600X1200.jpg');\n",
      "    background-size: cover;\n",
      "    background-repeat: no-repeat;\n",
      "    background--attachment: fixed;\n",
      "}\n",
      "</style>"
     ],
     "language": "python",
     "metadata": {
      "slideshow": {
       "slide_type": "skip"
      }
     },
     "outputs": [
      {
       "html": [
        "<style>\n",
        ".cell {\n",
        "    background-color: #DDFFFF;\n",
        "    font-family: Georgia, Cursive;\n",
        "    font-size: 120%;\n",
        "    border-radius: 10px;\n",
        "}\n",
        "\n",
        "body {\n",
        "    background-color: #AAFFFF;\n",
        "    background-image: url('https://raw.github.com/chenleo/Resource/master/Images/FirstKiss1600X1200.jpg');\n",
        "    background-size: cover;\n",
        "    background-repeat: no-repeat;\n",
        "    background--attachment: fixed;\n",
        "}\n",
        "</style>"
       ],
       "metadata": {},
       "output_type": "display_data",
       "text": [
        "<IPython.core.display.HTML at 0x106ca0990>"
       ]
      }
     ],
     "prompt_number": 50
    },
    {
     "cell_type": "markdown",
     "metadata": {},
     "source": [
      "# Quickstart with Plotly"
     ]
    },
    {
     "cell_type": "code",
     "collapsed": false,
     "input": [
      "#Initial\n",
      "%matplotlib inline\n",
      "import numpy as np\n",
      "import matplotlib.pyplot as plt\n",
      "import matplotlib as mpl"
     ],
     "language": "python",
     "metadata": {},
     "outputs": [],
     "prompt_number": 9
    },
    {
     "cell_type": "code",
     "collapsed": false,
     "input": [
      "from __future__ import division, print_function"
     ],
     "language": "python",
     "metadata": {},
     "outputs": [],
     "prompt_number": 18
    },
    {
     "cell_type": "code",
     "collapsed": false,
     "input": [
      "import plotly\n",
      "print(plotly.__version__)"
     ],
     "language": "python",
     "metadata": {},
     "outputs": [
      {
       "output_type": "stream",
       "stream": "stdout",
       "text": [
        "0.5.11\n"
       ]
      }
     ],
     "prompt_number": 19
    },
    {
     "cell_type": "code",
     "collapsed": false,
     "input": [
      "py = plotly.plotly('c.chen@dkfz.de', '3gjy2z1vr8')"
     ],
     "language": "python",
     "metadata": {},
     "outputs": [],
     "prompt_number": 21
    },
    {
     "cell_type": "code",
     "collapsed": false,
     "input": [
      "#test pandas again\n",
      "import pandas as pd\n",
      "url = \"https://gist.githubusercontent.com/chenleo/9637914/raw/5bbbf6eb7a8ae90b7544b5e65040962262338b51/2007gapminder.csv\"\n",
      "data = pd.read_csv(url)"
     ],
     "language": "python",
     "metadata": {},
     "outputs": [],
     "prompt_number": 26
    },
    {
     "cell_type": "code",
     "collapsed": false,
     "input": [
      "data.head()"
     ],
     "language": "python",
     "metadata": {},
     "outputs": [
      {
       "html": [
        "<div style=\"max-height:1000px;max-width:1500px;overflow:auto;\">\n",
        "<table border=\"1\" class=\"dataframe\">\n",
        "  <thead>\n",
        "    <tr style=\"text-align: right;\">\n",
        "      <th></th>\n",
        "      <th>Country</th>\n",
        "      <th>Population</th>\n",
        "      <th>Continent</th>\n",
        "      <th>lifeExp</th>\n",
        "      <th>gdpPercap</th>\n",
        "    </tr>\n",
        "  </thead>\n",
        "  <tbody>\n",
        "    <tr>\n",
        "      <th>0</th>\n",
        "      <td> Afghanistan</td>\n",
        "      <td> 31889923</td>\n",
        "      <td>     Asia</td>\n",
        "      <td> 43.828</td>\n",
        "      <td>   974.580338</td>\n",
        "    </tr>\n",
        "    <tr>\n",
        "      <th>1</th>\n",
        "      <td>     Albania</td>\n",
        "      <td>  3600523</td>\n",
        "      <td>   Europe</td>\n",
        "      <td> 76.423</td>\n",
        "      <td>  5937.029526</td>\n",
        "    </tr>\n",
        "    <tr>\n",
        "      <th>2</th>\n",
        "      <td>     Algeria</td>\n",
        "      <td> 33333216</td>\n",
        "      <td>   Africa</td>\n",
        "      <td> 72.301</td>\n",
        "      <td>  6223.367465</td>\n",
        "    </tr>\n",
        "    <tr>\n",
        "      <th>3</th>\n",
        "      <td>      Angola</td>\n",
        "      <td> 12420476</td>\n",
        "      <td>   Africa</td>\n",
        "      <td> 42.731</td>\n",
        "      <td>  4797.231267</td>\n",
        "    </tr>\n",
        "    <tr>\n",
        "      <th>4</th>\n",
        "      <td>   Argentina</td>\n",
        "      <td> 40301927</td>\n",
        "      <td> Americas</td>\n",
        "      <td> 75.320</td>\n",
        "      <td> 12779.379640</td>\n",
        "    </tr>\n",
        "  </tbody>\n",
        "</table>\n",
        "<p>5 rows \u00d7 5 columns</p>\n",
        "</div>"
       ],
       "metadata": {},
       "output_type": "pyout",
       "prompt_number": 28,
       "text": [
        "       Country  Population Continent  lifeExp     gdpPercap\n",
        "0  Afghanistan    31889923      Asia   43.828    974.580338\n",
        "1      Albania     3600523    Europe   76.423   5937.029526\n",
        "2      Algeria    33333216    Africa   72.301   6223.367465\n",
        "3       Angola    12420476    Africa   42.731   4797.231267\n",
        "4    Argentina    40301927  Americas   75.320  12779.379640\n",
        "\n",
        "[5 rows x 5 columns]"
       ]
      }
     ],
     "prompt_number": 28
    },
    {
     "cell_type": "code",
     "collapsed": false,
     "input": [
      "continentData = data.groupby(data.Continent)\n",
      "continentData.head()"
     ],
     "language": "python",
     "metadata": {},
     "outputs": [
      {
       "html": [
        "<div style=\"max-height:1000px;max-width:1500px;overflow:auto;\">\n",
        "<table border=\"1\" class=\"dataframe\">\n",
        "  <thead>\n",
        "    <tr style=\"text-align: right;\">\n",
        "      <th></th>\n",
        "      <th></th>\n",
        "      <th>Country</th>\n",
        "      <th>Population</th>\n",
        "      <th>Continent</th>\n",
        "      <th>lifeExp</th>\n",
        "      <th>gdpPercap</th>\n",
        "    </tr>\n",
        "    <tr>\n",
        "      <th>Continent</th>\n",
        "      <th></th>\n",
        "      <th></th>\n",
        "      <th></th>\n",
        "      <th></th>\n",
        "      <th></th>\n",
        "      <th></th>\n",
        "    </tr>\n",
        "  </thead>\n",
        "  <tbody>\n",
        "    <tr>\n",
        "      <th>Asia</th>\n",
        "      <th>0 </th>\n",
        "      <td>            Afghanistan</td>\n",
        "      <td>   31889923</td>\n",
        "      <td>     Asia</td>\n",
        "      <td> 43.828</td>\n",
        "      <td>   974.580338</td>\n",
        "    </tr>\n",
        "    <tr>\n",
        "      <th>Europe</th>\n",
        "      <th>1 </th>\n",
        "      <td>                Albania</td>\n",
        "      <td>    3600523</td>\n",
        "      <td>   Europe</td>\n",
        "      <td> 76.423</td>\n",
        "      <td>  5937.029526</td>\n",
        "    </tr>\n",
        "    <tr>\n",
        "      <th rowspan=\"2\" valign=\"top\">Africa</th>\n",
        "      <th>2 </th>\n",
        "      <td>                Algeria</td>\n",
        "      <td>   33333216</td>\n",
        "      <td>   Africa</td>\n",
        "      <td> 72.301</td>\n",
        "      <td>  6223.367465</td>\n",
        "    </tr>\n",
        "    <tr>\n",
        "      <th>3 </th>\n",
        "      <td>                 Angola</td>\n",
        "      <td>   12420476</td>\n",
        "      <td>   Africa</td>\n",
        "      <td> 42.731</td>\n",
        "      <td>  4797.231267</td>\n",
        "    </tr>\n",
        "    <tr>\n",
        "      <th>Americas</th>\n",
        "      <th>4 </th>\n",
        "      <td>              Argentina</td>\n",
        "      <td>   40301927</td>\n",
        "      <td> Americas</td>\n",
        "      <td> 75.320</td>\n",
        "      <td> 12779.379640</td>\n",
        "    </tr>\n",
        "    <tr>\n",
        "      <th>Oceania</th>\n",
        "      <th>5 </th>\n",
        "      <td>              Australia</td>\n",
        "      <td>   20434176</td>\n",
        "      <td>  Oceania</td>\n",
        "      <td> 81.235</td>\n",
        "      <td> 34435.367440</td>\n",
        "    </tr>\n",
        "    <tr>\n",
        "      <th>Europe</th>\n",
        "      <th>6 </th>\n",
        "      <td>                Austria</td>\n",
        "      <td>    8199783</td>\n",
        "      <td>   Europe</td>\n",
        "      <td> 79.829</td>\n",
        "      <td> 36126.492700</td>\n",
        "    </tr>\n",
        "    <tr>\n",
        "      <th rowspan=\"2\" valign=\"top\">Asia</th>\n",
        "      <th>7 </th>\n",
        "      <td>                Bahrain</td>\n",
        "      <td>     708573</td>\n",
        "      <td>     Asia</td>\n",
        "      <td> 75.635</td>\n",
        "      <td> 29796.048340</td>\n",
        "    </tr>\n",
        "    <tr>\n",
        "      <th>8 </th>\n",
        "      <td>             Bangladesh</td>\n",
        "      <td>  150448339</td>\n",
        "      <td>     Asia</td>\n",
        "      <td> 64.062</td>\n",
        "      <td>  1391.253792</td>\n",
        "    </tr>\n",
        "    <tr>\n",
        "      <th>Europe</th>\n",
        "      <th>9 </th>\n",
        "      <td>                Belgium</td>\n",
        "      <td>   10392226</td>\n",
        "      <td>   Europe</td>\n",
        "      <td> 79.441</td>\n",
        "      <td> 33692.605080</td>\n",
        "    </tr>\n",
        "    <tr>\n",
        "      <th>Africa</th>\n",
        "      <th>10</th>\n",
        "      <td>                  Benin</td>\n",
        "      <td>    8078314</td>\n",
        "      <td>   Africa</td>\n",
        "      <td> 56.728</td>\n",
        "      <td>  1441.284873</td>\n",
        "    </tr>\n",
        "    <tr>\n",
        "      <th>Americas</th>\n",
        "      <th>11</th>\n",
        "      <td>                Bolivia</td>\n",
        "      <td>    9119152</td>\n",
        "      <td> Americas</td>\n",
        "      <td> 65.554</td>\n",
        "      <td>  3822.137084</td>\n",
        "    </tr>\n",
        "    <tr>\n",
        "      <th>Europe</th>\n",
        "      <th>12</th>\n",
        "      <td> Bosnia and Herzegovina</td>\n",
        "      <td>    4552198</td>\n",
        "      <td>   Europe</td>\n",
        "      <td> 74.852</td>\n",
        "      <td>  7446.298803</td>\n",
        "    </tr>\n",
        "    <tr>\n",
        "      <th>Africa</th>\n",
        "      <th>13</th>\n",
        "      <td>               Botswana</td>\n",
        "      <td>    1639131</td>\n",
        "      <td>   Africa</td>\n",
        "      <td> 50.728</td>\n",
        "      <td> 12569.851770</td>\n",
        "    </tr>\n",
        "    <tr>\n",
        "      <th>Americas</th>\n",
        "      <th>14</th>\n",
        "      <td>                 Brazil</td>\n",
        "      <td>  190010647</td>\n",
        "      <td> Americas</td>\n",
        "      <td> 72.390</td>\n",
        "      <td>  9065.800825</td>\n",
        "    </tr>\n",
        "    <tr>\n",
        "      <th>Europe</th>\n",
        "      <th>15</th>\n",
        "      <td>               Bulgaria</td>\n",
        "      <td>    7322858</td>\n",
        "      <td>   Europe</td>\n",
        "      <td> 73.005</td>\n",
        "      <td> 10680.792820</td>\n",
        "    </tr>\n",
        "    <tr>\n",
        "      <th>Africa</th>\n",
        "      <th>16</th>\n",
        "      <td>            BurkinaFaso</td>\n",
        "      <td>   14326203</td>\n",
        "      <td>   Africa</td>\n",
        "      <td> 52.295</td>\n",
        "      <td>  1217.032994</td>\n",
        "    </tr>\n",
        "    <tr>\n",
        "      <th>Asia</th>\n",
        "      <th>18</th>\n",
        "      <td>               Cambodia</td>\n",
        "      <td>   14131858</td>\n",
        "      <td>     Asia</td>\n",
        "      <td> 59.723</td>\n",
        "      <td>  1713.778686</td>\n",
        "    </tr>\n",
        "    <tr>\n",
        "      <th rowspan=\"2\" valign=\"top\">Americas</th>\n",
        "      <th>20</th>\n",
        "      <td>                 Canada</td>\n",
        "      <td>   33390141</td>\n",
        "      <td> Americas</td>\n",
        "      <td> 80.653</td>\n",
        "      <td> 36319.235010</td>\n",
        "    </tr>\n",
        "    <tr>\n",
        "      <th>23</th>\n",
        "      <td>                  Chile</td>\n",
        "      <td>   16284741</td>\n",
        "      <td> Americas</td>\n",
        "      <td> 78.553</td>\n",
        "      <td> 13171.638850</td>\n",
        "    </tr>\n",
        "    <tr>\n",
        "      <th>Asia</th>\n",
        "      <th>24</th>\n",
        "      <td>                  China</td>\n",
        "      <td> 1318683096</td>\n",
        "      <td>     Asia</td>\n",
        "      <td> 72.961</td>\n",
        "      <td>  4959.114854</td>\n",
        "    </tr>\n",
        "    <tr>\n",
        "      <th>Oceania</th>\n",
        "      <th>91</th>\n",
        "      <td>             NewZealand</td>\n",
        "      <td>    4115771</td>\n",
        "      <td>  Oceania</td>\n",
        "      <td> 80.204</td>\n",
        "      <td> 25185.009110</td>\n",
        "    </tr>\n",
        "  </tbody>\n",
        "</table>\n",
        "<p>22 rows \u00d7 5 columns</p>\n",
        "</div>"
       ],
       "metadata": {},
       "output_type": "pyout",
       "prompt_number": 52,
       "text": [
        "                             Country  Population Continent  lifeExp  \\\n",
        "Continent                                                             \n",
        "Asia      0              Afghanistan    31889923      Asia   43.828   \n",
        "Europe    1                  Albania     3600523    Europe   76.423   \n",
        "Africa    2                  Algeria    33333216    Africa   72.301   \n",
        "          3                   Angola    12420476    Africa   42.731   \n",
        "Americas  4                Argentina    40301927  Americas   75.320   \n",
        "Oceania   5                Australia    20434176   Oceania   81.235   \n",
        "Europe    6                  Austria     8199783    Europe   79.829   \n",
        "Asia      7                  Bahrain      708573      Asia   75.635   \n",
        "          8               Bangladesh   150448339      Asia   64.062   \n",
        "Europe    9                  Belgium    10392226    Europe   79.441   \n",
        "Africa    10                   Benin     8078314    Africa   56.728   \n",
        "Americas  11                 Bolivia     9119152  Americas   65.554   \n",
        "Europe    12  Bosnia and Herzegovina     4552198    Europe   74.852   \n",
        "Africa    13                Botswana     1639131    Africa   50.728   \n",
        "Americas  14                  Brazil   190010647  Americas   72.390   \n",
        "Europe    15                Bulgaria     7322858    Europe   73.005   \n",
        "Africa    16             BurkinaFaso    14326203    Africa   52.295   \n",
        "Asia      18                Cambodia    14131858      Asia   59.723   \n",
        "Americas  20                  Canada    33390141  Americas   80.653   \n",
        "          23                   Chile    16284741  Americas   78.553   \n",
        "Asia      24                   China  1318683096      Asia   72.961   \n",
        "Oceania   91              NewZealand     4115771   Oceania   80.204   \n",
        "\n",
        "                 gdpPercap  \n",
        "Continent                   \n",
        "Asia      0     974.580338  \n",
        "Europe    1    5937.029526  \n",
        "Africa    2    6223.367465  \n",
        "          3    4797.231267  \n",
        "Americas  4   12779.379640  \n",
        "Oceania   5   34435.367440  \n",
        "Europe    6   36126.492700  \n",
        "Asia      7   29796.048340  \n",
        "          8    1391.253792  \n",
        "Europe    9   33692.605080  \n",
        "Africa    10   1441.284873  \n",
        "Americas  11   3822.137084  \n",
        "Europe    12   7446.298803  \n",
        "Africa    13  12569.851770  \n",
        "Americas  14   9065.800825  \n",
        "Europe    15  10680.792820  \n",
        "Africa    16   1217.032994  \n",
        "Asia      18   1713.778686  \n",
        "Americas  20  36319.235010  \n",
        "          23  13171.638850  \n",
        "Asia      24   4959.114854  \n",
        "Oceania   91  25185.009110  \n",
        "\n",
        "[22 rows x 5 columns]"
       ]
      }
     ],
     "prompt_number": 52
    },
    {
     "cell_type": "code",
     "collapsed": false,
     "input": [
      "data.iloc[continentData.indices[\"Africa\"]].Population.head()"
     ],
     "language": "python",
     "metadata": {},
     "outputs": [
      {
       "metadata": {},
       "output_type": "pyout",
       "prompt_number": 51,
       "text": [
        "2     33333216\n",
        "3     12420476\n",
        "10     8078314\n",
        "13     1639131\n",
        "16    14326203\n",
        "Name: Population, dtype: int64"
       ]
      }
     ],
     "prompt_number": 51
    },
    {
     "cell_type": "code",
     "collapsed": false,
     "input": [
      "graph_data = list()\n",
      "for continent, slices in continentData.indices.items():\n",
      "    dataSet = dict()\n",
      "    dataSet[\"name\"] = continent\n",
      "    dataSet[\"x\"] = data.gdpPercap[slices].apply(np.log10)\n",
      "    dataSet[\"y\"] = data.lifeExp[slices]\n",
      "    dataSet[\"text\"] = data.Country[slices]\n",
      "    \n",
      "    dataSet[\"type\"] = \"scatter\"\n",
      "    dataSet[\"mode\"] = \"markers\"\n",
      "    \n",
      "    dataSet[\"marker\"] = {\n",
      "        \"size\": data.Population[slices].apply(np.sqrt)/1.e3,\n",
      "        \"sizemode\": \"area\",\n",
      "        \"sizeref\": 0.05,\n",
      "        \"opacity\": 0.55\n",
      "    }\n",
      "    graph_data.append(dataSet)"
     ],
     "language": "python",
     "metadata": {},
     "outputs": [],
     "prompt_number": 76
    },
    {
     "cell_type": "code",
     "collapsed": false,
     "input": [
      "# Set Layout\n",
      "layout = {\n",
      "    \"xaxis\": {\"title\": \"GDP Pre Capita log10\"},\n",
      "    \"yaxis\": {\"title\": \"Life Expectancy\"},\n",
      "    \"title\": \"Hans Rosling Bubble Chart<br>2007\"\n",
      "}"
     ],
     "language": "python",
     "metadata": {},
     "outputs": [],
     "prompt_number": 81
    },
    {
     "cell_type": "markdown",
     "metadata": {},
     "source": [
      "## Now, let's plot it, Giddyup!"
     ]
    },
    {
     "cell_type": "code",
     "collapsed": false,
     "input": [
      "py.iplot(graph_data, layout=layout, filename=\"My first plotly graph\", fileopt=\"overwrite\",\n",
      "         world_readable=True)"
     ],
     "language": "python",
     "metadata": {},
     "outputs": [
      {
       "output_type": "stream",
       "stream": "stdout",
       "text": [
        "High five! You successfuly sent some data to your account on plotly. View your plot in your browser at https://plot.ly/~LeoDKFZ/0 or inside your plot.ly account where it is named 'My first plotly graph'\n"
       ]
      },
      {
       "html": [
        "<iframe height=\"550\" id=\"igraph\" scrolling=\"no\" seamless=\"seamless\" src=\"https://plot.ly/~LeoDKFZ/0\" width=\"100%\"></iframe>"
       ],
       "metadata": {},
       "output_type": "pyout",
       "prompt_number": 86,
       "text": [
        "<IPython.core.display.HTML at 0x106d41490>"
       ]
      }
     ],
     "prompt_number": 86
    },
    {
     "cell_type": "code",
     "collapsed": false,
     "input": [
      "# `display` embeds plotly graphs in IPython notebooks as IFrames\n",
      "plotly.display(\"https://plot.ly/~LeoDKFZ/0\")"
     ],
     "language": "python",
     "metadata": {},
     "outputs": [
      {
       "html": [
        "<iframe height=\"550\" id=\"igraph\" scrolling=\"no\" seamless=\"seamless\" src=\"https://plot.ly/~LeoDKFZ/0\" width=\"100%\"></iframe>"
       ],
       "metadata": {},
       "output_type": "pyout",
       "prompt_number": 85,
       "text": [
        "<IPython.core.display.HTML at 0x106c12bd0>"
       ]
      }
     ],
     "prompt_number": 85
    },
    {
     "cell_type": "markdown",
     "metadata": {},
     "source": [
      "## Preventing the graph from opening in your browser\n",
      "\n",
      "If your plotting from your Python command line, using the method `py.plot`, your graphs will automatically open for you in your browser. To turn this off, run:"
     ]
    },
    {
     "cell_type": "code",
     "collapsed": false,
     "input": [
      "py.ioff() # interactive mode off"
     ],
     "language": "python",
     "metadata": {},
     "outputs": [],
     "prompt_number": 84
    },
    {
     "cell_type": "code",
     "collapsed": false,
     "input": [
      "# And Came back\n",
      "py.ion() # interactive mode on"
     ],
     "language": "python",
     "metadata": {},
     "outputs": [],
     "prompt_number": 87
    },
    {
     "cell_type": "markdown",
     "metadata": {},
     "source": [
      "## Plotting with NumPy, Datetime, and $\\LaTeX$"
     ]
    },
    {
     "cell_type": "code",
     "collapsed": false,
     "input": [
      "import numpy as np\n",
      "\n",
      "boxes = [{'y': np.random.randn(50), 'type': 'box', 'boxpoints': 'all', 'jitter': 0.5, 'pointpos': -1.8} for i in range(10)]\n",
      "\n",
      "layout = {'title': 'NumPy Boxes',\n",
      "          'showlegend': False, \n",
      "          'yaxis': {'zeroline': False, 'ticks': '', 'showline': False},\n",
      "          'xaxis': {'ticks': '', 'showgrid': False, 'showline': False}}\n",
      "\n",
      "py.iplot(boxes, layout = layout, filename='numpy boxes', fileopt='overwrite')"
     ],
     "language": "python",
     "metadata": {},
     "outputs": [
      {
       "html": [
        "<iframe height=\"550\" id=\"igraph\" scrolling=\"no\" seamless=\"seamless\" src=\"https://plot.ly/~LeoDKFZ/1\" width=\"100%\"></iframe>"
       ],
       "metadata": {},
       "output_type": "pyout",
       "prompt_number": 88,
       "text": [
        "<IPython.core.display.HTML at 0x106c12d50>"
       ]
      }
     ],
     "prompt_number": 88
    },
    {
     "cell_type": "code",
     "collapsed": false,
     "input": [
      "import math\n",
      "import datetime\n",
      "import random\n",
      "\n",
      "N = 500\n",
      "now = datetime.datetime.now()\n",
      "x = [ datetime.timedelta(hours=i) + now for i in range(N) ]\n",
      "y = [ math.sin(i*5*math.pi/N)*math.exp(-2.*i/N)+random.random()/3. for i in range(N) ]\n",
      "\n",
      "layout = {'title': 'Datetime Decay', \n",
      "        'annotations': [{\n",
      "            'text':'The date-formatted x-axis will increase it\\'s time-resolution when you zoom.'+\\\n",
      "                    '<br>Click-and-drag your mouse on the plot to see how it responds!',\n",
      "            'xref': 'paper', 'yref': 'paper', 'showarrow': False, 'x':0, 'y': 0}]}\n",
      "\n",
      "py.iplot([{'x':x, 'y':y, 'mode':'markers'}], \n",
      "         layout=layout, \n",
      "         filename='Datetime Decay', \n",
      "         fileopt='overwrite')"
     ],
     "language": "python",
     "metadata": {},
     "outputs": [
      {
       "html": [
        "<iframe height=\"550\" id=\"igraph\" scrolling=\"no\" seamless=\"seamless\" src=\"https://plot.ly/~LeoDKFZ/2\" width=\"100%\"></iframe>"
       ],
       "metadata": {},
       "output_type": "pyout",
       "prompt_number": 93,
       "text": [
        "<IPython.core.display.HTML at 0x106cb9d10>"
       ]
      }
     ],
     "prompt_number": 93
    },
    {
     "cell_type": "code",
     "collapsed": false,
     "input": [
      "import numpy as np\n",
      "import math\n",
      "x = np.linspace(-7, 7, 100)\n",
      "y0 = x\n",
      "y1 = y0 - x**3/math.factorial(3)\n",
      "y2 = y1 + x**5/math.factorial(5)\n",
      "y3 = y2 - x**7/math.factorial(7)\n",
      "y4 = y3 + x**9/math.factorial(9)\n",
      "y5 = np.sin(x)\n",
      "\n",
      "linestyle = {'line': {'color': '#7FDBFF', 'dash': 'dot'}}\n",
      "\n",
      "data = [{'x': x, 'y': y0, \"name\": \"0 component\"},\n",
      "        {'x': x, 'y': y1, \"name\": \"3 component\"},\n",
      "        {'x': x, 'y': y2, \"name\": \"5 component\"},\n",
      "        {'x': x, 'y': y3, \"name\": \"7 component\"},\n",
      "        {'x': x, 'y': y4, \"name\": \"9 component\"},\n",
      "        {'x': x, 'y': y5, 'line': {'color': '#0074D9'}, \"name\": \"Sin(x)\"}]\n",
      "\n",
      "layout = {'yaxis': {'range': [-4.5, 4.5], 'zeroline':False, 'ticks':'','showline':False}, \n",
      "          'xaxis': {'showgrid':False,'showline':False, 'zeroline':False, 'ticks':''}, \n",
      "          'showlegend': True,\n",
      "          'title': '$\\\\sin(x)=\\sum\\limits_{k=0}^{\\infty}\\dfrac{(-1)^k x^{1+2k}}{(1+2k)!}$'}\n",
      "\n",
      "py.iplot(data, \n",
      "         layout=layout, \n",
      "         style=linestyle, \n",
      "         traces=[0,1,2,3,4], \n",
      "         filename='LaTeX', \n",
      "         fileopt='overwrite')"
     ],
     "language": "python",
     "metadata": {},
     "outputs": [
      {
       "html": [
        "<iframe height=\"550\" id=\"igraph\" scrolling=\"no\" seamless=\"seamless\" src=\"https://plot.ly/~LeoDKFZ/3\" width=\"100%\"></iframe>"
       ],
       "metadata": {},
       "output_type": "pyout",
       "prompt_number": 111,
       "text": [
        "<IPython.core.display.HTML at 0x106d24290>"
       ]
      }
     ],
     "prompt_number": 111
    },
    {
     "cell_type": "markdown",
     "metadata": {},
     "source": [
      "## Flexible Axes and Subplots\n",
      "\n",
      "Plotly abstracts subplots and insets as axes, so it's easy to let subplots share axes and interactivity.\n",
      "\n",
      "For example, this graph has two yaxes and two axes. Each column of plots share the same x-axis, and each row of plots share the same y-axis. Try zooming in any section of the plot (click-and-drag to zoom)!"
     ]
    },
    {
     "cell_type": "code",
     "collapsed": false,
     "input": [
      "import numpy as np\n",
      "\n",
      "x0 = np.concatenate([np.random.randn(100), np.random.randn(100)+6])\n",
      "y0 = np.random.rayleigh(size=200)\n",
      "\n",
      "histogram2d = { \"x\": x0, \"y\": y0, \"type\": \"histogram2d\"}\n",
      "\n",
      "histogramy1 = {\"y\": y0, \"type\": \"histogramy\", \"xaxis\": \"x2\", \"yaxis\": \"y\", \"bardir\": \"h\", \n",
      "                \"marker\":{\"color\":\"rgb(31, 119, 180)\"}}\n",
      "histogramy2 = {\"x\":x0, \"type\": \"histogramx\", \"xaxis\": \"x\", \"yaxis\": \"y2\",\n",
      "                \"marker\":{\"color\":\"rgb(31, 119, 180)\"}}\n",
      "\n",
      "layout = {\n",
      "    \"xaxis\":{ \"domain\":[0,0.8], \"showgrid\":False, \"showline\":False, \"zeroline\":False },\n",
      "    \"yaxis\":{ \"domain\":[0,0.8], \"showgrid\":False, \"showline\":False, \"zeroline\":False },\n",
      "    \"xaxis2\":{ \"domain\":[0.82,1.0], \"showgrid\":False, \"showline\":False, \"zeroline\":False },\n",
      "    \"yaxis2\":{ \"domain\":[0.82,1.0], \"showgrid\":False, \"showline\":False, \"zeroline\":False },\n",
      "     \"showlegend\":False,\n",
      "}\n",
      "py.iplot([histogram2d, histogramy1, histogramy2],\n",
      "         layout=layout, \n",
      "         filename='histogram subplots', \n",
      "         fileopt='overwrite')"
     ],
     "language": "python",
     "metadata": {},
     "outputs": [
      {
       "html": [
        "<iframe height=\"550\" id=\"igraph\" scrolling=\"no\" seamless=\"seamless\" src=\"https://plot.ly/~LeoDKFZ/4\" width=\"100%\"></iframe>"
       ],
       "metadata": {},
       "output_type": "pyout",
       "prompt_number": 112,
       "text": [
        "<IPython.core.display.HTML at 0x106d29150>"
       ]
      }
     ],
     "prompt_number": 112
    },
    {
     "cell_type": "code",
     "collapsed": false,
     "input": [
      "np.random.rayleigh?"
     ],
     "language": "python",
     "metadata": {},
     "outputs": [],
     "prompt_number": 113
    },
    {
     "cell_type": "code",
     "collapsed": false,
     "input": [
      "x0.size"
     ],
     "language": "python",
     "metadata": {},
     "outputs": [
      {
       "metadata": {},
       "output_type": "pyout",
       "prompt_number": 115,
       "text": [
        "200"
       ]
      }
     ],
     "prompt_number": 115
    },
    {
     "cell_type": "code",
     "collapsed": false,
     "input": [],
     "language": "python",
     "metadata": {},
     "outputs": []
    }
   ],
   "metadata": {}
  }
 ]
}