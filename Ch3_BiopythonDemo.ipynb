{
 "metadata": {
  "name": "",
  "signature": "sha256:6131c79d34a411d0bb76f8deec240533e3e714f8d28c13d1bcaebbcd45d2ae18"
 },
 "nbformat": 3,
 "nbformat_minor": 0,
 "worksheets": [
  {
   "cells": [
    {
     "cell_type": "markdown",
     "metadata": {},
     "source": [
      "<style>\n",
      "div.cell, div.text_cell_render{\n",
      "  max-width:750px;\n",
      "  margin-left:auto;\n",
      "  margin-right:auto;\n",
      "}\n",
      "\n",
      ".rendered_html\n",
      "{\n",
      "  font-size: 140%;\n",
      "  }\n",
      "\n",
      ".rendered_html li\n",
      "{\n",
      "  line-height: 1.8;\n",
      "  }\n",
      "\n",
      ".rendered_html h1, h2 {\n",
      "  text-align:center;\n",
      "  font-familly:\"Charis SIL\", serif;\n",
      "}\n",
      "</style>"
     ]
    },
    {
     "cell_type": "markdown",
     "metadata": {},
     "source": [
      "<a name=\"top\"></a>\n",
      "[Reference:](http://biopython.org/DIST/docs/tutorial/Tutorial.html)\n",
      "\n",
      "> Prerequest:\n",
      "\n",
      "- conda install biopython"
     ]
    },
    {
     "cell_type": "code",
     "collapsed": false,
     "input": [
      "from __future__ import print_function"
     ],
     "language": "python",
     "metadata": {},
     "outputs": [],
     "prompt_number": 3
    },
    {
     "cell_type": "code",
     "collapsed": false,
     "input": [
      "import Bio\n",
      "Bio.__version__"
     ],
     "language": "python",
     "metadata": {},
     "outputs": [
      {
       "metadata": {},
       "output_type": "pyout",
       "prompt_number": 18,
       "text": [
        "'1.63'"
       ]
      }
     ],
     "prompt_number": 18
    },
    {
     "cell_type": "markdown",
     "metadata": {},
     "source": [
      "## Index:\n",
      "\n",
      "- [Chapter 2: Quick Start](#ch2)\n",
      "- [Chapter 3: Sequence objects](#ch3)"
     ]
    },
    {
     "cell_type": "markdown",
     "metadata": {},
     "source": [
      "<a name=\"ch2\"></a>\n",
      "# Chapter 2: Quick Start"
     ]
    },
    {
     "cell_type": "markdown",
     "metadata": {},
     "source": [
      "## 2.1  General overview of what Biopython provides\n",
      "\n",
      "Biopython is a set of libraries to provide the ability to deal with \u201cthings\u201d of interest to biologists working on the computer. \n",
      "- You will need to have at least some programming experience (in Python, of course!) or at least an interest in learning to program. \n",
      "- Biopython\u2019s job is to make your job easier as a programmer by supplying reusable libraries so that you can focus on answering your specific question of interest, instead of focusing on the internals of parsing a particular file format (of course, if you want to help by writing a parser that doesn\u2019t exist and contributing it to Biopython, please go ahead!). \n",
      "- Biopython\u2019s job is to make you happy!\n",
      "\n",
      "One thing to note about Biopython is that it often provides multiple ways of \u201cdoing the same thing.\u201d Things have improved in recent releases, but this can still be frustrating as in Python there should ideally be one right way to do something. However, this can also be a real benefit because it gives you lots of flexibility and control over the libraries. The tutorial helps to show you the common or easy ways to do things so that you can just make things work. To learn more about the alternative possibilities, look in the Cookbook (Chapter 18, this has some cools tricks and tips), the Advanced section (Chapter 20), the built in \u201cdocstrings\u201d (via the Python help command, or the API documentation) or ultimately the code itself."
     ]
    },
    {
     "cell_type": "markdown",
     "metadata": {},
     "source": [
      "## 2.2  Working with sequences\n",
      "\n",
      "- The central object in bioinformatics is the sequence. \n",
      "\n",
      "> What we have here is a sequence object with a generic alphabet - reflecting the fact we have not specified if this is a DNA or protein sequence (okay, a protein with a lot of Alanines, Glycines, Cysteines and Threonines!). We\u2019ll talk more about alphabets in Chapter 3."
     ]
    },
    {
     "cell_type": "code",
     "collapsed": false,
     "input": [
      "from Bio.Seq import Seq\n",
      "my_seq = Seq(\"AGTACACTGGT\")\n",
      "my_seq"
     ],
     "language": "python",
     "metadata": {},
     "outputs": [
      {
       "metadata": {},
       "output_type": "pyout",
       "prompt_number": 1,
       "text": [
        "Seq('AGTACACTGGT', Alphabet())"
       ]
      }
     ],
     "prompt_number": 1
    },
    {
     "cell_type": "code",
     "collapsed": false,
     "input": [
      "print(my_seq)"
     ],
     "language": "python",
     "metadata": {},
     "outputs": [
      {
       "output_type": "stream",
       "stream": "stdout",
       "text": [
        "AGTACACTGGT\n"
       ]
      }
     ],
     "prompt_number": 2
    },
    {
     "cell_type": "markdown",
     "metadata": {},
     "source": [
      "> In addition to having an alphabet, the Seq object differs from the Python string in the methods it supports. You can\u2019t do this with a plain string:"
     ]
    },
    {
     "cell_type": "code",
     "collapsed": false,
     "input": [
      "my_seq.complement()"
     ],
     "language": "python",
     "metadata": {},
     "outputs": [
      {
       "metadata": {},
       "output_type": "pyout",
       "prompt_number": 3,
       "text": [
        "Seq('TCATGTGACCA', Alphabet())"
       ]
      }
     ],
     "prompt_number": 3
    },
    {
     "cell_type": "code",
     "collapsed": false,
     "input": [
      "my_seq.reverse_complement()"
     ],
     "language": "python",
     "metadata": {},
     "outputs": [
      {
       "metadata": {},
       "output_type": "pyout",
       "prompt_number": 5,
       "text": [
        "Seq('ACCAGTGTACT', Alphabet())"
       ]
      }
     ],
     "prompt_number": 5
    },
    {
     "cell_type": "markdown",
     "metadata": {},
     "source": [
      "> Now that you\u2019ve got some idea of what it is like to interact with the Biopython libraries, it\u2019s time to delve into the fun, fun world of dealing with biological file formats!"
     ]
    },
    {
     "cell_type": "markdown",
     "metadata": {},
     "source": [
      "## 2.4 Parsing sequence file formats"
     ]
    },
    {
     "cell_type": "markdown",
     "metadata": {},
     "source": [
      "- A large part of much bioinformatics work involves dealing with the many types of file formats designed to hold biological data. These files are loaded with interesting biological data, and a special challenge is parsing these files into a format so that you can manipulate them with some kind of programming language. \n",
      "- However the task of parsing these files can be frustrated by the fact that the formats can change quite regularly, and that formats may contain small subtleties which can break even the most well designed parsers."
     ]
    },
    {
     "cell_type": "markdown",
     "metadata": {},
     "source": [
      "We are now going to briefly introduce the Bio.SeqIO module \u2013 you can find out more in Chapter 5. We\u2019ll start with an online search for our friends, the lady slipper orchids. To keep this introduction simple, we\u2019re just using the NCBI website by hand. Let\u2019s just take a look through the nucleotide databases at NCBI, using an Entrez online search (http://www.ncbi.nlm.nih.gov:80/entrez/query.fcgi?db=Nucleotide) for everything mentioning the text Cypripedioideae (this is the subfamily of lady slipper orchids).\n",
      "\n",
      "When this tutorial was originally written, this search gave us only 94 hits, which we saved as a FASTA formatted text file and as a GenBank formatted text file (files **ls_orchid.fasta** and **ls_orchid.gbk**, also included with the Biopython source code under docs/tutorial/examples/).\n",
      "\n",
      "If you run the search today, you\u2019ll get hundreds of results! When following the tutorial, if you want to see the same list of genes, just download the two files above or copy them from docs/examples/ in the Biopython source code. In Section 2.5 we will look at how to do a search like this from within Python."
     ]
    },
    {
     "cell_type": "code",
     "collapsed": false,
     "input": [
      "# Take a look of the source file\n",
      "from IPython.display import IFrame"
     ],
     "language": "python",
     "metadata": {},
     "outputs": [],
     "prompt_number": 6
    },
    {
     "cell_type": "code",
     "collapsed": false,
     "input": [
      "# the fasta\n",
      "src = \"http://biopython.org/DIST/docs/tutorial/examples/ls_orchid.fasta\"\n",
      "IFrame(src,width=720, height=180)"
     ],
     "language": "python",
     "metadata": {},
     "outputs": [
      {
       "html": [
        "\n",
        "        <iframe\n",
        "            width=\"720\"\n",
        "            height=180\"\n",
        "            src=\"http://biopython.org/DIST/docs/tutorial/examples/ls_orchid.fasta\"\n",
        "            frameborder=\"0\"\n",
        "            allowfullscreen\n",
        "        ></iframe>\n",
        "        "
       ],
       "metadata": {},
       "output_type": "pyout",
       "prompt_number": 8,
       "text": [
        "<IPython.lib.display.IFrame at 0x103827950>"
       ]
      }
     ],
     "prompt_number": 8
    },
    {
     "cell_type": "code",
     "collapsed": false,
     "input": [
      "# gbk\n",
      "src = \"http://biopython.org/DIST/docs/tutorial/examples/ls_orchid.gbk\"\n",
      "IFrame(src,width=720, height=180)"
     ],
     "language": "python",
     "metadata": {},
     "outputs": [
      {
       "html": [
        "\n",
        "        <iframe\n",
        "            width=\"720\"\n",
        "            height=180\"\n",
        "            src=\"http://biopython.org/DIST/docs/tutorial/examples/ls_orchid.gbk\"\n",
        "            frameborder=\"0\"\n",
        "            allowfullscreen\n",
        "        ></iframe>\n",
        "        "
       ],
       "metadata": {},
       "output_type": "pyout",
       "prompt_number": 11,
       "text": [
        "<IPython.lib.display.IFrame at 0x103827790>"
       ]
      }
     ],
     "prompt_number": 11
    },
    {
     "cell_type": "markdown",
     "metadata": {},
     "source": [
      "### 2.4.1  Simple FASTA parsing example"
     ]
    },
    {
     "cell_type": "markdown",
     "metadata": {},
     "source": [
      "> It contains 94 records, each has a line starting with \u201c>\u201d (greater-than symbol) followed by the sequence on one or more lines. Now try this in Python:\n",
      "\n",
      "> Notice that the FASTA format does not specify the alphabet, so Bio.SeqIO has defaulted to the rather generic SingleLetterAlphabet() rather than something DNA specific."
     ]
    },
    {
     "cell_type": "code",
     "collapsed": false,
     "input": [
      "from Bio import SeqIO\n",
      "seqNo = 0\n",
      "for seq_record in SeqIO.parse(\"ls_orchid.fasta\", \"fasta\"):\n",
      "    seqNo += 1\n",
      "    print(\"Sequnece No. \" + str(seqNo))\n",
      "    print(seq_record.id)\n",
      "    print(repr(seq_record.seq))\n",
      "    print(len(seq_record))\n",
      "    print(\"\")"
     ],
     "language": "python",
     "metadata": {},
     "outputs": [
      {
       "output_type": "stream",
       "stream": "stdout",
       "text": [
        "Sequnece No. 1\n",
        "gi|2765658|emb|Z78533.1|CIZ78533\n",
        "Seq('CGTAACAAGGTTTCCGTAGGTGAACCTGCGGAAGGATCATTGATGAGACCGTGG...CGC', SingleLetterAlphabet())\n",
        "740\n",
        "\n",
        "Sequnece No. 2\n",
        "gi|2765657|emb|Z78532.1|CCZ78532\n",
        "Seq('CGTAACAAGGTTTCCGTAGGTGAACCTGCGGAAGGATCATTGTTGAGACAACAG...GGC', SingleLetterAlphabet())\n",
        "753\n",
        "\n",
        "Sequnece No. 3\n",
        "gi|2765656|emb|Z78531.1|CFZ78531\n",
        "Seq('CGTAACAAGGTTTCCGTAGGTGAACCTGCGGAAGGATCATTGTTGAGACAGCAG...TAA', SingleLetterAlphabet())\n",
        "748\n",
        "\n",
        "Sequnece No. 4\n",
        "gi|2765655|emb|Z78530.1|CMZ78530\n",
        "Seq('CGTAACAAGGTTTCCGTAGGTGAACCTGCGGAAGGATCATTGTTGAAACAACAT...CAT', SingleLetterAlphabet())\n",
        "744\n",
        "\n",
        "Sequnece No. 5\n",
        "gi|2765654|emb|Z78529.1|CLZ78529\n",
        "Seq('ACGGCGAGCTGCCGAAGGACATTGTTGAGACAGCAGAATATACGATTGAGTGAA...AAA', SingleLetterAlphabet())\n",
        "733\n",
        "\n",
        "Sequnece No. 6\n",
        "gi|2765652|emb|Z78527.1|CYZ78527\n",
        "Seq('CGTAACAAGGTTTCCGTAGGTGAACCTGCGGAAGGATCATTGTTGAGACAGTAG...CCC', SingleLetterAlphabet())\n",
        "718\n",
        "\n",
        "Sequnece No. 7\n",
        "gi|2765651|emb|Z78526.1|CGZ78526\n",
        "Seq('CGTAACAAGGTTTCCGTAGGTGAACCTGCGGAAGGATCATTGTTGAGACAGTAG...TGT', SingleLetterAlphabet())\n",
        "730\n",
        "\n",
        "Sequnece No. 8\n",
        "gi|2765650|emb|Z78525.1|CAZ78525\n",
        "Seq('TGTTGAGATAGCAGAATATACATCGAGTGAATCCGGAGGACCTGTGGTTATTCG...GCA', SingleLetterAlphabet())\n",
        "704\n",
        "\n",
        "Sequnece No. 9\n",
        "gi|2765649|emb|Z78524.1|CFZ78524\n",
        "Seq('CGTAACAAGGTTTCCGTAGGTGAACCTGCGGAAGGATCATTGTTGAGATAGTAG...AGC', SingleLetterAlphabet())\n",
        "740\n",
        "\n",
        "Sequnece No. 10\n",
        "gi|2765648|emb|Z78523.1|CHZ78523\n",
        "Seq('CGTAACCAGGTTTCCGTAGGTGAACCTGCGGCAGGATCATTGTTGAGACAGCAG...AAG', SingleLetterAlphabet())\n",
        "709\n",
        "\n",
        "Sequnece No. 11\n",
        "gi|2765647|emb|Z78522.1|CMZ78522\n",
        "Seq('CGTAACAAGGTTTCCGTAGGTGAACCTGCGGAAGGATCATTGTTGAGACAGCAG...GAG', SingleLetterAlphabet())\n",
        "700\n",
        "\n",
        "Sequnece No. 12\n",
        "gi|2765646|emb|Z78521.1|CCZ78521\n",
        "Seq('GTAGGTGAACCTGCGGAAGGATCATTGTTGAGACAGTAGAATATATGATCGAGT...ACC', SingleLetterAlphabet())\n",
        "726\n",
        "\n",
        "Sequnece No. 13\n",
        "gi|2765645|emb|Z78520.1|CSZ78520\n",
        "Seq('CGTAACAAGGTTTCCGTAGGTGAACCTGCGGAAGGATCATTGTTGAGACAGCAG...TTT', SingleLetterAlphabet())\n",
        "753\n",
        "\n",
        "Sequnece No. 14\n",
        "gi|2765644|emb|Z78519.1|CPZ78519\n",
        "Seq('ATATGATCGAGTGAATCTGGTGGACTTGTGGTTACTCAGCTCGCCATAGGCTTT...TTA', SingleLetterAlphabet())\n",
        "699\n",
        "\n",
        "Sequnece No. 15\n",
        "gi|2765643|emb|Z78518.1|CRZ78518\n",
        "Seq('CGTAACAAGGTTTCCGTAGGTGAACCTGCGGGAGGATCATTGTTGAGATAGTAG...TCC', SingleLetterAlphabet())\n",
        "658\n",
        "\n",
        "Sequnece No. 16\n",
        "gi|2765642|emb|Z78517.1|CFZ78517\n",
        "Seq('CGTAACAAGGTTTCCGTAGGTGAACCTGCGGAAGGATCATTGTTGAGACAGTAG...AGC', SingleLetterAlphabet())\n",
        "752\n",
        "\n",
        "Sequnece No. 17\n",
        "gi|2765641|emb|Z78516.1|CPZ78516\n",
        "Seq('CGTAACAAGGTTTCCGTAGGTGAACCTGCGGAAGGATCATTGTTGAGACAGTAT...TAA', SingleLetterAlphabet())\n",
        "726\n",
        "\n",
        "Sequnece No. 18\n",
        "gi|2765640|emb|Z78515.1|MXZ78515\n",
        "Seq('CGTAACAAGGTTTCCGTAGGTGAACCTGCGGAAGGATCATTGCTGAGACCGTAG...AGC', SingleLetterAlphabet())\n",
        "765\n",
        "\n",
        "Sequnece No. 19\n",
        "gi|2765639|emb|Z78514.1|PSZ78514\n",
        "Seq('CGTAACAAGGTTTCCGTAGGTGGACCTTCGGGAGGATCATTTTTGAAGCCCCCA...CTA', SingleLetterAlphabet())\n",
        "755\n",
        "\n",
        "Sequnece No. 20\n",
        "gi|2765638|emb|Z78513.1|PBZ78513\n",
        "Seq('CGTAACAAGGTTTCCGTAGGTGAACCTGCGGAAGGATCATTGTTGAGACCGCCA...GAG', SingleLetterAlphabet())\n",
        "742\n",
        "\n",
        "Sequnece No. 21\n",
        "gi|2765637|emb|Z78512.1|PWZ78512\n",
        "Seq('CGTAACAAGGTTTCCGTAGGTGGACCTTCGGGAGGATCATTTTTGAAGCCCCCA...AGC', SingleLetterAlphabet())\n",
        "762\n",
        "\n",
        "Sequnece No. 22\n",
        "gi|2765636|emb|Z78511.1|PEZ78511\n",
        "Seq('CGTAACAAGGTTTCCGTAGGTGAACCTTCGGAAGGATCATTGTTGAGACCCCCA...GGA', SingleLetterAlphabet())\n",
        "745\n",
        "\n",
        "Sequnece No. 23\n",
        "gi|2765635|emb|Z78510.1|PCZ78510\n",
        "Seq('CTAACCAGGGTTCCGAGGTGACCTTCGGGAGGATTCCTTTTTAAGCCCCCGAAA...TTA', SingleLetterAlphabet())\n",
        "750\n",
        "\n",
        "Sequnece No. 24\n",
        "gi|2765634|emb|Z78509.1|PPZ78509\n",
        "Seq('CGTAACAAGGTTTCCGTAGGTGAACCTGCGGAAGGATCATTGTTGAGACCGCCA...GGA', SingleLetterAlphabet())\n",
        "731\n",
        "\n",
        "Sequnece No. 25\n",
        "gi|2765633|emb|Z78508.1|PLZ78508\n",
        "Seq('CGTAACAAGGTTTCCGTAGGTGAACCTGCGGAAGGATCATTGTTGAGACCGCCA...TGA', SingleLetterAlphabet())\n",
        "741\n",
        "\n",
        "Sequnece No. 26\n",
        "gi|2765632|emb|Z78507.1|PLZ78507\n",
        "Seq('CGTAACAAGGTTTCCGTAGGTGAACCTGCGGAAGGATCATTGTTGAGACCCCCA...TGA', SingleLetterAlphabet())\n",
        "740\n",
        "\n",
        "Sequnece No. 27\n",
        "gi|2765631|emb|Z78506.1|PLZ78506\n",
        "Seq('CGTAACAAGGTTTCCGTAGGTGAACCTGCGGAAGGATCATTGTTGAGACCGCAA...TGA', SingleLetterAlphabet())\n",
        "727\n",
        "\n",
        "Sequnece No. 28\n",
        "gi|2765630|emb|Z78505.1|PSZ78505\n",
        "Seq('CGTAACAAGGTTTCCGTAGGTGAACCTGCGGAAGGATCATTGTTGAGACCGCCA...TTT', SingleLetterAlphabet())\n",
        "711\n",
        "\n",
        "Sequnece No. 29\n",
        "gi|2765629|emb|Z78504.1|PKZ78504\n",
        "Seq('CGTAACAAGGTTTCCGTAGGTGAACCTTCGGAAGGATCATTGTTGAGACCGCAA...TAA', SingleLetterAlphabet())\n",
        "743\n",
        "\n",
        "Sequnece No. 30\n",
        "gi|2765628|emb|Z78503.1|PCZ78503\n",
        "Seq('CGTAACCAGGTTTCCGTAGGTGAACCTCCGGAAGGATCCTTGTTGAGACCGCCA...TAA', SingleLetterAlphabet())\n",
        "727\n",
        "\n",
        "Sequnece No. 31\n",
        "gi|2765627|emb|Z78502.1|PBZ78502\n",
        "Seq('CGTAACCAGGTTTCCGTAGGTGAACCTCCGGAAGGATCATTGTTGAGACCGCCA...CGC', SingleLetterAlphabet())\n",
        "757\n",
        "\n",
        "Sequnece No. 32\n",
        "gi|2765626|emb|Z78501.1|PCZ78501\n",
        "Seq('CGTAACAAGGTTTCCGTAGGTGAACCTGCGGAAGGATCATTGTTGAGACCGCAA...AGA', SingleLetterAlphabet())\n",
        "770\n",
        "\n",
        "Sequnece No. 33\n",
        "gi|2765625|emb|Z78500.1|PWZ78500\n",
        "Seq('CGTAACAAGGTTTCCGTAGGTGAACCTGCGGAAGGCTCATTGTTGAGACCGCAA...AAG', SingleLetterAlphabet())\n",
        "767\n",
        "\n",
        "Sequnece No. 34\n",
        "gi|2765624|emb|Z78499.1|PMZ78499\n",
        "Seq('CGTAACAAGGTTTCCGTAGGTGAACCTGCGGAGGGATCATTGTTGAGATCGCAT...ACC', SingleLetterAlphabet())\n",
        "759\n",
        "\n",
        "Sequnece No. 35\n",
        "gi|2765623|emb|Z78498.1|PMZ78498\n",
        "Seq('CGTAACAAGGTTTCCGTAGGTGAACCTGCGGAAAGGTCATTGTTGAGATCACAT...AGC', SingleLetterAlphabet())\n",
        "750\n",
        "\n",
        "Sequnece No. 36\n",
        "gi|2765622|emb|Z78497.1|PDZ78497\n",
        "Seq('CGTAACAAGGTTTCCGTAGGTGAACCTGCGGAAGGATCATTGTTGAGATCACAT...AGC', SingleLetterAlphabet())\n",
        "788\n",
        "\n",
        "Sequnece No. 37\n",
        "gi|2765621|emb|Z78496.1|PAZ78496\n",
        "Seq('CGTAACAAGGTTTCCGTAGGTGAACCTGCGGAAGGATCATTGTTGAGATCGCAT...AGC', SingleLetterAlphabet())\n",
        "774\n",
        "\n",
        "Sequnece No. 38\n",
        "gi|2765620|emb|Z78495.1|PEZ78495\n",
        "Seq('CGTAACAAGGTTTCCGTAGGTGAACCTCCGGAAGGATCATTGTTGAGATCACAT...GTG', SingleLetterAlphabet())\n",
        "789\n",
        "\n",
        "Sequnece No. 39\n",
        "gi|2765619|emb|Z78494.1|PNZ78494\n",
        "Seq('CGTAACAAGGTTTCCGTAGGTGAACCTGCGGAAGGATCATTGTTGAGGTCGCAT...AAG', SingleLetterAlphabet())\n",
        "688\n",
        "\n",
        "Sequnece No. 40\n",
        "gi|2765618|emb|Z78493.1|PGZ78493\n",
        "Seq('CGTAACAAGGATTCCGTAGGTGAACCTGCGGAAGGATCATTGTTGAGATCGCAT...CCC', SingleLetterAlphabet())\n",
        "719\n",
        "\n",
        "Sequnece No. 41\n",
        "gi|2765617|emb|Z78492.1|PBZ78492\n",
        "Seq('CGTAACAAGGTTTCCGTAGGTGAACCTGCGGAAGGATCATTGTTGAGATCGCAT...ATA', SingleLetterAlphabet())\n",
        "743\n",
        "\n",
        "Sequnece No. 42\n",
        "gi|2765616|emb|Z78491.1|PCZ78491\n",
        "Seq('CGTAACAAGGTTTCCGTAGGTGAACCTGCGGAAGGATCATTGTTGAGATCGCAT...AGC', SingleLetterAlphabet())\n",
        "737\n",
        "\n",
        "Sequnece No. 43\n",
        "gi|2765615|emb|Z78490.1|PFZ78490\n",
        "Seq('CGTAACAAGGTTTCCGTAGGTGAACCTGCGGAAGGATCATTGTTGAGATCACAT...TGA', SingleLetterAlphabet())\n",
        "728\n",
        "\n",
        "Sequnece No. 44\n",
        "gi|2765614|emb|Z78489.1|PDZ78489\n",
        "Seq('CGTAACAAGGTTTCCGTAGGTGAACCTGCGGAAGGATCATTGTTGAGATCACAT...GGC', SingleLetterAlphabet())\n",
        "740\n",
        "\n",
        "Sequnece No. 45\n",
        "gi|2765613|emb|Z78488.1|PTZ78488\n",
        "Seq('CTGTAGGTGAACCTGCGGAAGGATCATTGTTGAGATCACGCAATAATTGATCGA...GCT', SingleLetterAlphabet())\n",
        "696\n",
        "\n",
        "Sequnece No. 46\n",
        "gi|2765612|emb|Z78487.1|PHZ78487\n",
        "Seq('CGTAACAAGGTTTCCGTAGGTGAACCTGCGGAAGGATCATTGTTGAGATCACAT...TAA', SingleLetterAlphabet())\n",
        "732\n",
        "\n",
        "Sequnece No. 47\n",
        "gi|2765611|emb|Z78486.1|PBZ78486\n",
        "Seq('CGTCACGAGGTTTCCGTAGGTGAATCTGCGGGAGGATCATTGTTGAGATCACAT...TGA', SingleLetterAlphabet())\n",
        "731\n",
        "\n",
        "Sequnece No. 48\n",
        "gi|2765610|emb|Z78485.1|PHZ78485\n",
        "Seq('CTGAACCTGGTGTCCGAAGGTGAATCTGCGGATGGATCATTGTTGAGATATCAT...GTA', SingleLetterAlphabet())\n",
        "735\n",
        "\n",
        "Sequnece No. 49\n",
        "gi|2765609|emb|Z78484.1|PCZ78484\n",
        "Seq('CGTAACAAGGTTTCCGTAGGTGAACCTGGGGAAGGATCATTGTTGAGATCACAT...TTT', SingleLetterAlphabet())\n",
        "720\n",
        "\n",
        "Sequnece No. 50\n",
        "gi|2765608|emb|Z78483.1|PVZ78483\n",
        "Seq('CGTAACAAGGTTTCCGTAGGTGAACCTGCGGAAGGATCATTGTTGAGATCACAT...GCA', SingleLetterAlphabet())\n",
        "740\n",
        "\n",
        "Sequnece No. 51\n",
        "gi|2765607|emb|Z78482.1|PEZ78482\n",
        "Seq('TCTACTGCAGTGACCGAGATTTGCCATCGAGCCTCCTGGGAGCTTTCTTGCTGG...GCA', SingleLetterAlphabet())\n",
        "629\n",
        "\n",
        "Sequnece No. 52\n",
        "gi|2765606|emb|Z78481.1|PIZ78481\n",
        "Seq('CGTAACAAGGTTTCCGTAGGTGAACCTGCGGAAGGATCATTGTTGAGATCACAT...TGA', SingleLetterAlphabet())\n",
        "572\n",
        "\n",
        "Sequnece No. 53\n",
        "gi|2765605|emb|Z78480.1|PGZ78480\n",
        "Seq('CGTAACAAGGTTTCCGTAGGTGAACCTGCGGAAGGATCATTGTTGAGATCACAT...TGA', SingleLetterAlphabet())\n",
        "587\n",
        "\n",
        "Sequnece No. 54\n",
        "gi|2765604|emb|Z78479.1|PPZ78479\n",
        "Seq('CGTAACAAGGTTTCCGTAGGTGAACCTGCGGAAGGATCATTGTTGAGATCACAT...AGT', SingleLetterAlphabet())\n",
        "700\n",
        "\n",
        "Sequnece No. 55\n",
        "gi|2765603|emb|Z78478.1|PVZ78478\n",
        "Seq('CGTAACAAGGTTTCCGTAGGTGAACCTCCGGAAGGATCAGTGTTGAGATCACAT...GGC', SingleLetterAlphabet())\n",
        "636\n",
        "\n",
        "Sequnece No. 56\n",
        "gi|2765602|emb|Z78477.1|PVZ78477\n",
        "Seq('CGTAACAAGGTTTCCGTAGGTGAACCTGCGGAAGGATCATTGTTGAGATCACAT...TGC', SingleLetterAlphabet())\n",
        "716\n",
        "\n",
        "Sequnece No. 57\n",
        "gi|2765601|emb|Z78476.1|PGZ78476\n",
        "Seq('CGTAACAAGGTTTCCGTAGGTGAACCTGCGGAAGGATCATTGTTGAGATCACAT...CCC', SingleLetterAlphabet())\n",
        "592\n",
        "\n",
        "Sequnece No. 58\n",
        "gi|2765600|emb|Z78475.1|PSZ78475\n",
        "Seq('CGTAACAAGGTTTCCGTAGGTGAACCTGCGGAAGGATCATTGTTGAGATCACAT...GGT', SingleLetterAlphabet())\n",
        "716\n",
        "\n",
        "Sequnece No. 59\n",
        "gi|2765599|emb|Z78474.1|PKZ78474\n",
        "Seq('CGTAACAAGGTTTCCGTAGGTGAACCTGCGGAAGGATCATTGTTGAGATCACGT...CTT', SingleLetterAlphabet())\n",
        "733\n",
        "\n",
        "Sequnece No. 60\n",
        "gi|2765598|emb|Z78473.1|PSZ78473\n",
        "Seq('CGTAACAAGGTTTCCGTAGGTGAACCTGCGGAAGGATCATTGTTGAGATCACAT...AGG', SingleLetterAlphabet())\n",
        "626\n",
        "\n",
        "Sequnece No. 61\n",
        "gi|2765597|emb|Z78472.1|PLZ78472\n",
        "Seq('CGTAACAAGGTTTCCGTAGGTGAACCTGCGGAAGGATCATTGTTGAGATCACAT...AGC', SingleLetterAlphabet())\n",
        "737\n",
        "\n",
        "Sequnece No. 62\n",
        "gi|2765596|emb|Z78471.1|PDZ78471\n",
        "Seq('CGTAACAAGGTTTCCGTAGGTGAACCTGCGGAAGGATCATTGTTGAGATCACAT...AGC', SingleLetterAlphabet())\n",
        "740\n",
        "\n",
        "Sequnece No. 63\n",
        "gi|2765595|emb|Z78470.1|PPZ78470\n",
        "Seq('CGTAACAAGGTTTCCGTAGGTGAACCTGCGGAAGGATCATTGTTGAGATCACAT...GTT', SingleLetterAlphabet())\n",
        "574\n",
        "\n",
        "Sequnece No. 64\n",
        "gi|2765594|emb|Z78469.1|PHZ78469\n",
        "Seq('CGTAACAAGGTTTCCGTAGGTGAACCTGCGGAAGGATCATTGTTGAGATCACAT...GTT', SingleLetterAlphabet())\n",
        "594\n",
        "\n",
        "Sequnece No. 65\n",
        "gi|2765593|emb|Z78468.1|PAZ78468\n",
        "Seq('CGTAACAAGGTTTCCGTAGGTGAACCTGCGGAAGGATCATTGTTGAGATCGCAT...GTT', SingleLetterAlphabet())\n",
        "610\n",
        "\n",
        "Sequnece No. 66\n",
        "gi|2765592|emb|Z78467.1|PSZ78467\n",
        "Seq('CGTAACAAGGTTTCCGTAGGTGAACCTGCGGAAGGATCATTGTTGAGATCACAT...TGA', SingleLetterAlphabet())\n",
        "730\n",
        "\n",
        "Sequnece No. 67\n",
        "gi|2765591|emb|Z78466.1|PPZ78466\n",
        "Seq('CGTAACAAGGTTTCCGTAGGTGAACCTGCGGAAGGATCATTGTTGAGATCACAT...CCC', SingleLetterAlphabet())\n",
        "641\n",
        "\n",
        "Sequnece No. 68\n",
        "gi|2765590|emb|Z78465.1|PRZ78465\n",
        "Seq('CGTAACAAGGTTTCCGTAGGTGAACCTGCGGAAGGATCATTGTTGAGATCACAT...TGC', SingleLetterAlphabet())\n",
        "702\n",
        "\n",
        "Sequnece No. 69\n",
        "gi|2765589|emb|Z78464.1|PGZ78464\n",
        "Seq('CGTAACAAGGTTTCCGTAGGTGAGCGGAAGGGTCATTGTTGAGATCACATAATA...AGC', SingleLetterAlphabet())\n",
        "733\n",
        "\n",
        "Sequnece No. 70\n",
        "gi|2765588|emb|Z78463.1|PGZ78463\n",
        "Seq('CGTAACAAGGTTTCCGTAGGTGAACCTGCGGAAGGTTCATTGTTGAGATCACAT...AGC', SingleLetterAlphabet())\n",
        "738\n",
        "\n",
        "Sequnece No. 71\n",
        "gi|2765587|emb|Z78462.1|PSZ78462\n",
        "Seq('CGTCACGAGGTCTCCGGATGTGACCCTGCGGAAGGATCATTGTTGAGATCACAT...CAT', SingleLetterAlphabet())\n",
        "736\n",
        "\n",
        "Sequnece No. 72\n",
        "gi|2765586|emb|Z78461.1|PWZ78461\n",
        "Seq('CGTAACAAGGTTTCCGTAGGTGAACCTCCGGAAGGATCATTGTTGAGATCACAT...TAA', SingleLetterAlphabet())\n",
        "732\n",
        "\n",
        "Sequnece No. 73\n",
        "gi|2765585|emb|Z78460.1|PCZ78460\n",
        "Seq('CGTAACAAGGTTTCCGTAGGTGAACCTCCGGAAGGATCATTGTTGAGATCACAT...TTA', SingleLetterAlphabet())\n",
        "745\n",
        "\n",
        "Sequnece No. 74\n",
        "gi|2765584|emb|Z78459.1|PDZ78459\n",
        "Seq('CGTAACAAGGTTTCCGTAGGTGAACCTGCGGAAGGATCATTGTTGAGATCACAT...TTT', SingleLetterAlphabet())\n",
        "744\n",
        "\n",
        "Sequnece No. 75\n",
        "gi|2765583|emb|Z78458.1|PHZ78458\n",
        "Seq('CGTAACAAGGTTTCCGTAGGTGAACCTGCGGAAGGATCATTGTTGAGATCACAT...TTG', SingleLetterAlphabet())\n",
        "738\n",
        "\n",
        "Sequnece No. 76\n",
        "gi|2765582|emb|Z78457.1|PCZ78457\n",
        "Seq('CGTAACAAGGTTTCCGTAGGTGAACCTCCGGAAGGATCATTGTTGAGATCACAT...GAG', SingleLetterAlphabet())\n",
        "739\n",
        "\n",
        "Sequnece No. 77\n",
        "gi|2765581|emb|Z78456.1|PTZ78456\n",
        "Seq('CGTAACAAGGTTTCCGTAGGTGAACCTGCGGAAGGATCATTGTTGAGATCACAT...AGC', SingleLetterAlphabet())\n",
        "740\n",
        "\n",
        "Sequnece No. 78\n",
        "gi|2765580|emb|Z78455.1|PJZ78455\n",
        "Seq('CGTAACCAGGTTTCCGTAGGTGGACCTTCGGGAGGATCATTTTTGAGATCACAT...GCA', SingleLetterAlphabet())\n",
        "745\n",
        "\n",
        "Sequnece No. 79\n",
        "gi|2765579|emb|Z78454.1|PFZ78454\n",
        "Seq('CGTAACAAGGTTTCCGTAGGTGAACCTGCGGAAGGATCATTGTTGAGATCACAT...AAC', SingleLetterAlphabet())\n",
        "695\n",
        "\n",
        "Sequnece No. 80\n",
        "gi|2765578|emb|Z78453.1|PSZ78453\n",
        "Seq('CGTAACAAGGTTTCCGTAGGTGAACCTGCGGAAGGATCATTGTTGAGATCACAT...GCA', SingleLetterAlphabet())\n",
        "745\n",
        "\n",
        "Sequnece No. 81\n",
        "gi|2765577|emb|Z78452.1|PBZ78452\n",
        "Seq('CGTAACAAGGTTTCCGTAGGTGAACCTGCGGAAGGATCATTGTTGAGATCACAT...GCA', SingleLetterAlphabet())\n",
        "743\n",
        "\n",
        "Sequnece No. 82\n",
        "gi|2765576|emb|Z78451.1|PHZ78451\n",
        "Seq('CGTAACAAGGTTTCCGTAGGTGTACCTCCGGAAGGATCATTGTTGAGATCACAT...AGC', SingleLetterAlphabet())\n",
        "730\n",
        "\n",
        "Sequnece No. 83\n",
        "gi|2765575|emb|Z78450.1|PPZ78450\n",
        "Seq('GGAAGGATCATTGCTGATATCACATAATAATTGATCGAGTTAAGCTGGAGGATC...GAG', SingleLetterAlphabet())\n",
        "706\n",
        "\n",
        "Sequnece No. 84\n",
        "gi|2765574|emb|Z78449.1|PMZ78449\n",
        "Seq('CGTAACAAGGTTTCCGTAGGTGAACCTGCGGAAGGATCATTGTTGAGATCACAT...TGC', SingleLetterAlphabet())\n",
        "744\n",
        "\n",
        "Sequnece No. 85\n",
        "gi|2765573|emb|Z78448.1|PAZ78448\n",
        "Seq('CGTAACAAGGTTTCCGTAGGTGAACCTGCGGAAGGATCATTGTTGAGATCACAT...AGG', SingleLetterAlphabet())\n",
        "742\n",
        "\n",
        "Sequnece No. 86\n",
        "gi|2765572|emb|Z78447.1|PVZ78447\n",
        "Seq('CGTAACAAGGATTCCGTAGGTGAACCTGCGGGAGGATCATTGTTGAGATCACAT...AGC', SingleLetterAlphabet())\n",
        "694\n",
        "\n",
        "Sequnece No. 87\n",
        "gi|2765571|emb|Z78446.1|PAZ78446\n",
        "Seq('CGTAACAAGGTTTCCGTAGGTGAACCTCCGGAAGGATCATTGTTGAGATCACAT...CCC', SingleLetterAlphabet())\n",
        "712\n",
        "\n",
        "Sequnece No. 88\n",
        "gi|2765570|emb|Z78445.1|PUZ78445\n",
        "Seq('CGTAACAAGGTTTCCGTAGGTGAACCTGCGGAAGGATCATTGTTGAGATCACAT...TGT', SingleLetterAlphabet())\n",
        "715\n",
        "\n",
        "Sequnece No. 89\n",
        "gi|2765569|emb|Z78444.1|PAZ78444\n",
        "Seq('CGTAACAAGGTTTCCGTAGGGTGAACTGCGGAAGGATCATTGTTGAGATCACAT...ATT', SingleLetterAlphabet())\n",
        "688\n",
        "\n",
        "Sequnece No. 90\n",
        "gi|2765568|emb|Z78443.1|PLZ78443\n",
        "Seq('CGTAACAAGGTTTCCGTAGGTGAACCTGCGGAAGGATCATTGTTGAGATCACAT...AGG', SingleLetterAlphabet())\n",
        "784\n",
        "\n",
        "Sequnece No. 91\n",
        "gi|2765567|emb|Z78442.1|PBZ78442\n",
        "Seq('GTAGGTGAACCTGCGGAAGGATCATTGTTGAGATCACATAATAATTGATCGAGT...AGT', SingleLetterAlphabet())\n",
        "721\n",
        "\n",
        "Sequnece No. 92\n",
        "gi|2765566|emb|Z78441.1|PSZ78441\n",
        "Seq('GGAAGGTCATTGCCGATATCACATAATAATTGATCGAGTTAATCTGGAGGATCT...GAG', SingleLetterAlphabet())\n",
        "703\n",
        "\n",
        "Sequnece No. 93\n",
        "gi|2765565|emb|Z78440.1|PPZ78440\n",
        "Seq('CGTAACAAGGTTTCCGTAGGTGGACCTCCGGGAGGATCATTGTTGAGATCACAT...GCA', SingleLetterAlphabet())\n",
        "744\n",
        "\n",
        "Sequnece No. 94\n",
        "gi|2765564|emb|Z78439.1|PBZ78439\n",
        "Seq('CATTGTTGAGATCACATAATAATTGATCGAGTTAATCTGGAGGATCTGTTTACT...GCC', SingleLetterAlphabet())\n",
        "592\n",
        "\n"
       ]
      }
     ],
     "prompt_number": 14
    },
    {
     "cell_type": "markdown",
     "metadata": {},
     "source": [
      "### 2.4.2  Simple GenBank parsing example"
     ]
    },
    {
     "cell_type": "markdown",
     "metadata": {},
     "source": [
      "> Now let\u2019s load the GenBank file ls_orchid.gbk instead - notice that the code to do this is almost identical to the snippet used above for the FASTA file - the only difference is we change the filename and the format string:\n",
      "\n",
      "> This time Bio.SeqIO has been able to choose a sensible alphabet, **IUPAC Ambiguous DNA**. You\u2019ll also notice that a shorter string has been used as the seq_record.id in this case."
     ]
    },
    {
     "cell_type": "code",
     "collapsed": false,
     "input": [
      "from Bio import SeqIO\n",
      "seqNo = 0\n",
      "for seq_record in SeqIO.parse(\"ls_orchid.gbk\", \"genbank\"):\n",
      "    seqNo += 1\n",
      "    print(\"Sequnece No. \" + str(seqNo))\n",
      "    print(seq_record.id)\n",
      "    print(repr(seq_record.seq))\n",
      "    print(len(seq_record))\n",
      "    print(\"\")"
     ],
     "language": "python",
     "metadata": {},
     "outputs": [
      {
       "output_type": "stream",
       "stream": "stdout",
       "text": [
        "Sequnece No. 1\n",
        "Z78533.1\n",
        "Seq('CGTAACAAGGTTTCCGTAGGTGAACCTGCGGAAGGATCATTGATGAGACCGTGG...CGC', IUPACAmbiguousDNA())\n",
        "740\n",
        "\n",
        "Sequnece No. 2\n",
        "Z78532.1\n",
        "Seq('CGTAACAAGGTTTCCGTAGGTGAACCTGCGGAAGGATCATTGTTGAGACAACAG...GGC', IUPACAmbiguousDNA())\n",
        "753\n",
        "\n",
        "Sequnece No. 3\n",
        "Z78531.1\n",
        "Seq('CGTAACAAGGTTTCCGTAGGTGAACCTGCGGAAGGATCATTGTTGAGACAGCAG...TAA', IUPACAmbiguousDNA())\n",
        "748\n",
        "\n",
        "Sequnece No. 4\n",
        "Z78530.1\n",
        "Seq('CGTAACAAGGTTTCCGTAGGTGAACCTGCGGAAGGATCATTGTTGAAACAACAT...CAT', IUPACAmbiguousDNA())\n",
        "744\n",
        "\n",
        "Sequnece No. 5\n",
        "Z78529.1\n",
        "Seq('ACGGCGAGCTGCCGAAGGACATTGTTGAGACAGCAGAATATACGATTGAGTGAA...AAA', IUPACAmbiguousDNA())\n",
        "733\n",
        "\n",
        "Sequnece No. 6\n",
        "Z78527.1\n",
        "Seq('CGTAACAAGGTTTCCGTAGGTGAACCTGCGGAAGGATCATTGTTGAGACAGTAG...CCC', IUPACAmbiguousDNA())\n",
        "718\n",
        "\n",
        "Sequnece No. 7\n",
        "Z78526.1\n",
        "Seq('CGTAACAAGGTTTCCGTAGGTGAACCTGCGGAAGGATCATTGTTGAGACAGTAG...TGT', IUPACAmbiguousDNA())\n",
        "730\n",
        "\n",
        "Sequnece No. 8\n",
        "Z78525.1\n",
        "Seq('TGTTGAGATAGCAGAATATACATCGAGTGAATCCGGAGGACCTGTGGTTATTCG...GCA', IUPACAmbiguousDNA())\n",
        "704\n",
        "\n",
        "Sequnece No. 9\n",
        "Z78524.1\n",
        "Seq('CGTAACAAGGTTTCCGTAGGTGAACCTGCGGAAGGATCATTGTTGAGATAGTAG...AGC', IUPACAmbiguousDNA())\n",
        "740\n",
        "\n",
        "Sequnece No. 10\n",
        "Z78523.1\n",
        "Seq('CGTAACCAGGTTTCCGTAGGTGAACCTGCGGCAGGATCATTGTTGAGACAGCAG...AAG', IUPACAmbiguousDNA())\n",
        "709\n",
        "\n",
        "Sequnece No. 11\n",
        "Z78522.1\n",
        "Seq('CGTAACAAGGTTTCCGTAGGTGAACCTGCGGAAGGATCATTGTTGAGACAGCAG...GAG', IUPACAmbiguousDNA())\n",
        "700\n",
        "\n",
        "Sequnece No. 12\n",
        "Z78521.1\n",
        "Seq('GTAGGTGAACCTGCGGAAGGATCATTGTTGAGACAGTAGAATATATGATCGAGT...ACC', IUPACAmbiguousDNA())\n",
        "726\n",
        "\n",
        "Sequnece No. 13\n",
        "Z78520.1\n",
        "Seq('CGTAACAAGGTTTCCGTAGGTGAACCTGCGGAAGGATCATTGTTGAGACAGCAG...TTT', IUPACAmbiguousDNA())\n",
        "753\n",
        "\n",
        "Sequnece No. 14\n",
        "Z78519.1\n",
        "Seq('ATATGATCGAGTGAATCTGGTGGACTTGTGGTTACTCAGCTCGCCATAGGCTTT...TTA', IUPACAmbiguousDNA())\n",
        "699\n",
        "\n",
        "Sequnece No. 15\n",
        "Z78518.1\n",
        "Seq('CGTAACAAGGTTTCCGTAGGTGAACCTGCGGGAGGATCATTGTTGAGATAGTAG...TCC', IUPACAmbiguousDNA())\n",
        "658\n",
        "\n",
        "Sequnece No. 16\n",
        "Z78517.1\n",
        "Seq('CGTAACAAGGTTTCCGTAGGTGAACCTGCGGAAGGATCATTGTTGAGACAGTAG...AGC', IUPACAmbiguousDNA())\n",
        "752\n",
        "\n",
        "Sequnece No. 17\n",
        "Z78516.1\n",
        "Seq('CGTAACAAGGTTTCCGTAGGTGAACCTGCGGAAGGATCATTGTTGAGACAGTAT...TAA', IUPACAmbiguousDNA())\n",
        "726\n",
        "\n",
        "Sequnece No. 18"
       ]
      },
      {
       "output_type": "stream",
       "stream": "stdout",
       "text": [
        "\n",
        "Z78515.1\n",
        "Seq('CGTAACAAGGTTTCCGTAGGTGAACCTGCGGAAGGATCATTGCTGAGACCGTAG...AGC', IUPACAmbiguousDNA())\n",
        "765\n",
        "\n",
        "Sequnece No. 19\n",
        "Z78514.1\n",
        "Seq('CGTAACAAGGTTTCCGTAGGTGGACCTTCGGGAGGATCATTTTTGAAGCCCCCA...CTA', IUPACAmbiguousDNA())\n",
        "755\n",
        "\n",
        "Sequnece No. 20\n",
        "Z78513.1\n",
        "Seq('CGTAACAAGGTTTCCGTAGGTGAACCTGCGGAAGGATCATTGTTGAGACCGCCA...GAG', IUPACAmbiguousDNA())\n",
        "742\n",
        "\n",
        "Sequnece No. 21\n",
        "Z78512.1\n",
        "Seq('CGTAACAAGGTTTCCGTAGGTGGACCTTCGGGAGGATCATTTTTGAAGCCCCCA...AGC', IUPACAmbiguousDNA())\n",
        "762\n",
        "\n",
        "Sequnece No. 22\n",
        "Z78511.1\n",
        "Seq('CGTAACAAGGTTTCCGTAGGTGAACCTTCGGAAGGATCATTGTTGAGACCCCCA...GGA', IUPACAmbiguousDNA())\n",
        "745\n",
        "\n",
        "Sequnece No. 23\n",
        "Z78510.1\n",
        "Seq('CTAACCAGGGTTCCGAGGTGACCTTCGGGAGGATTCCTTTTTAAGCCCCCGAAA...TTA', IUPACAmbiguousDNA())\n",
        "750\n",
        "\n",
        "Sequnece No. 24\n",
        "Z78509.1\n",
        "Seq('CGTAACAAGGTTTCCGTAGGTGAACCTGCGGAAGGATCATTGTTGAGACCGCCA...GGA', IUPACAmbiguousDNA())\n",
        "731\n",
        "\n",
        "Sequnece No. 25\n",
        "Z78508.1\n",
        "Seq('CGTAACAAGGTTTCCGTAGGTGAACCTGCGGAAGGATCATTGTTGAGACCGCCA...TGA', IUPACAmbiguousDNA())\n",
        "741\n",
        "\n",
        "Sequnece No. 26\n",
        "Z78507.1\n",
        "Seq('CGTAACAAGGTTTCCGTAGGTGAACCTGCGGAAGGATCATTGTTGAGACCCCCA...TGA', IUPACAmbiguousDNA())\n",
        "740\n",
        "\n",
        "Sequnece No. 27\n",
        "Z78506.1\n",
        "Seq('CGTAACAAGGTTTCCGTAGGTGAACCTGCGGAAGGATCATTGTTGAGACCGCAA...TGA', IUPACAmbiguousDNA())\n",
        "727\n",
        "\n",
        "Sequnece No. 28\n",
        "Z78505.1\n",
        "Seq('CGTAACAAGGTTTCCGTAGGTGAACCTGCGGAAGGATCATTGTTGAGACCGCCA...TTT', IUPACAmbiguousDNA())\n",
        "711\n",
        "\n",
        "Sequnece No. 29\n",
        "Z78504.1\n",
        "Seq('CGTAACAAGGTTTCCGTAGGTGAACCTTCGGAAGGATCATTGTTGAGACCGCAA...TAA', IUPACAmbiguousDNA())\n",
        "743\n",
        "\n",
        "Sequnece No. 30\n",
        "Z78503.1\n",
        "Seq('CGTAACCAGGTTTCCGTAGGTGAACCTCCGGAAGGATCCTTGTTGAGACCGCCA...TAA', IUPACAmbiguousDNA())\n",
        "727\n",
        "\n",
        "Sequnece No. 31\n",
        "Z78502.1\n",
        "Seq('CGTAACCAGGTTTCCGTAGGTGAACCTCCGGAAGGATCATTGTTGAGACCGCCA...CGC', IUPACAmbiguousDNA())\n",
        "757\n",
        "\n",
        "Sequnece No. 32\n",
        "Z78501.1\n",
        "Seq('CGTAACAAGGTTTCCGTAGGTGAACCTGCGGAAGGATCATTGTTGAGACCGCAA...AGA', IUPACAmbiguousDNA())\n",
        "770\n",
        "\n",
        "Sequnece No. 33\n",
        "Z78500.1\n",
        "Seq('CGTAACAAGGTTTCCGTAGGTGAACCTGCGGAAGGCTCATTGTTGAGACCGCAA...AAG', IUPACAmbiguousDNA())\n",
        "767\n",
        "\n",
        "Sequnece No. 34\n",
        "Z78499.1\n",
        "Seq('CGTAACAAGGTTTCCGTAGGTGAACCTGCGGAGGGATCATTGTTGAGATCGCAT...ACC', IUPACAmbiguousDNA())\n",
        "759\n",
        "\n",
        "Sequnece No. 35\n",
        "Z78498.1\n",
        "Seq('CGTAACAAGGTTTCCGTAGGTGAACCTGCGGAAAGGTCATTGTTGAGATCACAT...AGC', IUPACAmbiguousDNA())\n",
        "750\n",
        "\n",
        "Sequnece No. 36\n",
        "Z78497.1\n",
        "Seq('CGTAACAAGGTTTCCGTAGGTGAACCTGCGGAAGGATCATTGTTGAGATCACAT...AGC', IUPACAmbiguousDNA())\n",
        "788\n",
        "\n",
        "Sequnece No. 37\n",
        "Z78496.1\n",
        "Seq('CGTAACAAGGTTTCCGTAGGTGAACCTGCGGAAGGATCATTGTTGAGATCGCAT...AGC', IUPACAmbiguousDNA())\n",
        "774\n",
        "\n",
        "Sequnece No. 38\n",
        "Z78495.1\n",
        "Seq('CGTAACAAGGTTTCCGTAGGTGAACCTCCGGAAGGATCATTGTTGAGATCACAT...GTG', IUPACAmbiguousDNA())\n",
        "789\n",
        "\n",
        "Sequnece No. 39"
       ]
      },
      {
       "output_type": "stream",
       "stream": "stdout",
       "text": [
        "\n",
        "Z78494.1\n",
        "Seq('CGTAACAAGGTTTCCGTAGGTGAACCTGCGGAAGGATCATTGTTGAGGTCGCAT...AAG', IUPACAmbiguousDNA())\n",
        "688\n",
        "\n",
        "Sequnece No. 40\n",
        "Z78493.1\n",
        "Seq('CGTAACAAGGATTCCGTAGGTGAACCTGCGGAAGGATCATTGTTGAGATCGCAT...CCC', IUPACAmbiguousDNA())\n",
        "719\n",
        "\n",
        "Sequnece No. 41\n",
        "Z78492.1\n",
        "Seq('CGTAACAAGGTTTCCGTAGGTGAACCTGCGGAAGGATCATTGTTGAGATCGCAT...ATA', IUPACAmbiguousDNA())\n",
        "743\n",
        "\n",
        "Sequnece No. 42\n",
        "Z78491.1\n",
        "Seq('CGTAACAAGGTTTCCGTAGGTGAACCTGCGGAAGGATCATTGTTGAGATCGCAT...AGC', IUPACAmbiguousDNA())\n",
        "737\n",
        "\n",
        "Sequnece No. 43\n",
        "Z78490.1\n",
        "Seq('CGTAACAAGGTTTCCGTAGGTGAACCTGCGGAAGGATCATTGTTGAGATCACAT...TGA', IUPACAmbiguousDNA())\n",
        "728\n",
        "\n",
        "Sequnece No. 44\n",
        "Z78489.1\n",
        "Seq('CGTAACAAGGTTTCCGTAGGTGAACCTGCGGAAGGATCATTGTTGAGATCACAT...GGC', IUPACAmbiguousDNA())\n",
        "740\n",
        "\n",
        "Sequnece No. 45\n",
        "Z78488.1\n",
        "Seq('CTGTAGGTGAACCTGCGGAAGGATCATTGTTGAGATCACGCAATAATTGATCGA...GCT', IUPACAmbiguousDNA())\n",
        "696\n",
        "\n",
        "Sequnece No. 46\n",
        "Z78487.1\n",
        "Seq('CGTAACAAGGTTTCCGTAGGTGAACCTGCGGAAGGATCATTGTTGAGATCACAT...TAA', IUPACAmbiguousDNA())\n",
        "732\n",
        "\n",
        "Sequnece No. 47\n",
        "Z78486.1\n",
        "Seq('CGTCACGAGGTTTCCGTAGGTGAATCTGCGGGAGGATCATTGTTGAGATCACAT...TGA', IUPACAmbiguousDNA())\n",
        "731\n",
        "\n",
        "Sequnece No. 48\n",
        "Z78485.1\n",
        "Seq('CTGAACCTGGTGTCCGAAGGTGAATCTGCGGATGGATCATTGTTGAGATATCAT...GTA', IUPACAmbiguousDNA())\n",
        "735\n",
        "\n",
        "Sequnece No. 49\n",
        "Z78484.1\n",
        "Seq('CGTAACAAGGTTTCCGTAGGTGAACCTGGGGAAGGATCATTGTTGAGATCACAT...TTT', IUPACAmbiguousDNA())\n",
        "720\n",
        "\n",
        "Sequnece No. 50\n",
        "Z78483.1\n",
        "Seq('CGTAACAAGGTTTCCGTAGGTGAACCTGCGGAAGGATCATTGTTGAGATCACAT...GCA', IUPACAmbiguousDNA())\n",
        "740\n",
        "\n",
        "Sequnece No. 51\n",
        "Z78482.1\n",
        "Seq('TCTACTGCAGTGACCGAGATTTGCCATCGAGCCTCCTGGGAGCTTTCTTGCTGG...GCA', IUPACAmbiguousDNA())\n",
        "629\n",
        "\n",
        "Sequnece No. 52\n",
        "Z78481.1\n",
        "Seq('CGTAACAAGGTTTCCGTAGGTGAACCTGCGGAAGGATCATTGTTGAGATCACAT...TGA', IUPACAmbiguousDNA())\n",
        "572\n",
        "\n",
        "Sequnece No. 53\n",
        "Z78480.1\n",
        "Seq('CGTAACAAGGTTTCCGTAGGTGAACCTGCGGAAGGATCATTGTTGAGATCACAT...TGA', IUPACAmbiguousDNA())\n",
        "587\n",
        "\n",
        "Sequnece No. 54\n",
        "Z78479.1\n",
        "Seq('CGTAACAAGGTTTCCGTAGGTGAACCTGCGGAAGGATCATTGTTGAGATCACAT...AGT', IUPACAmbiguousDNA())\n",
        "700\n",
        "\n",
        "Sequnece No. 55\n",
        "Z78478.1\n",
        "Seq('CGTAACAAGGTTTCCGTAGGTGAACCTCCGGAAGGATCAGTGTTGAGATCACAT...GGC', IUPACAmbiguousDNA())\n",
        "636\n",
        "\n",
        "Sequnece No. 56\n",
        "Z78477.1\n",
        "Seq('CGTAACAAGGTTTCCGTAGGTGAACCTGCGGAAGGATCATTGTTGAGATCACAT...TGC', IUPACAmbiguousDNA())\n",
        "716\n",
        "\n",
        "Sequnece No. 57\n",
        "Z78476.1\n",
        "Seq('CGTAACAAGGTTTCCGTAGGTGAACCTGCGGAAGGATCATTGTTGAGATCACAT...CCC', IUPACAmbiguousDNA())\n",
        "592\n",
        "\n",
        "Sequnece No. 58\n",
        "Z78475.1\n",
        "Seq('CGTAACAAGGTTTCCGTAGGTGAACCTGCGGAAGGATCATTGTTGAGATCACAT...GGT', IUPACAmbiguousDNA())\n",
        "716\n",
        "\n",
        "Sequnece No. 59\n",
        "Z78474.1\n",
        "Seq('CGTAACAAGGTTTCCGTAGGTGAACCTGCGGAAGGATCATTGTTGAGATCACGT...CTT', IUPACAmbiguousDNA())\n",
        "733\n",
        "\n",
        "Sequnece No. 60\n",
        "Z78473.1\n",
        "Seq('CGTAACAAGGTTTCCGTAGGTGAACCTGCGGAAGGATCATTGTTGAGATCACAT...AGG', IUPACAmbiguousDNA())\n",
        "626\n",
        "\n",
        "Sequnece No. 61\n",
        "Z78472.1\n",
        "Seq('CGTAACAAGGTTTCCGTAGGTGAACCTGCGGAAGGATCATTGTTGAGATCACAT...AGC', IUPACAmbiguousDNA())\n",
        "737\n",
        "\n",
        "Sequnece No. 62\n",
        "Z78471.1\n",
        "Seq('CGTAACAAGGTTTCCGTAGGTGAACCTGCGGAAGGATCATTGTTGAGATCACAT...AGC', IUPACAmbiguousDNA())\n",
        "740\n",
        "\n",
        "Sequnece No. 63\n",
        "Z78470.1\n",
        "Seq('CGTAACAAGGTTTCCGTAGGTGAACCTGCGGAAGGATCATTGTTGAGATCACAT...GTT', IUPACAmbiguousDNA())\n",
        "574\n",
        "\n",
        "Sequnece No. 64\n",
        "Z78469.1\n",
        "Seq('CGTAACAAGGTTTCCGTAGGTGAACCTGCGGAAGGATCATTGTTGAGATCACAT...GTT', IUPACAmbiguousDNA())\n",
        "594\n",
        "\n",
        "Sequnece No. 65\n",
        "Z78468.1\n",
        "Seq('CGTAACAAGGTTTCCGTAGGTGAACCTGCGGAAGGATCATTGTTGAGATCGCAT...GTT', IUPACAmbiguousDNA())\n",
        "610\n",
        "\n",
        "Sequnece No. 66"
       ]
      },
      {
       "output_type": "stream",
       "stream": "stdout",
       "text": [
        "\n",
        "Z78467.1\n",
        "Seq('CGTAACAAGGTTTCCGTAGGTGAACCTGCGGAAGGATCATTGTTGAGATCACAT...TGA', IUPACAmbiguousDNA())\n",
        "730\n",
        "\n",
        "Sequnece No. 67\n",
        "Z78466.1\n",
        "Seq('CGTAACAAGGTTTCCGTAGGTGAACCTGCGGAAGGATCATTGTTGAGATCACAT...CCC', IUPACAmbiguousDNA())\n",
        "641\n",
        "\n",
        "Sequnece No. 68\n",
        "Z78465.1\n",
        "Seq('CGTAACAAGGTTTCCGTAGGTGAACCTGCGGAAGGATCATTGTTGAGATCACAT...TGC', IUPACAmbiguousDNA())\n",
        "702\n",
        "\n",
        "Sequnece No. 69\n",
        "Z78464.1\n",
        "Seq('CGTAACAAGGTTTCCGTAGGTGAGCGGAAGGGTCATTGTTGAGATCACATAATA...AGC', IUPACAmbiguousDNA())\n",
        "733\n",
        "\n",
        "Sequnece No. 70\n",
        "Z78463.1\n",
        "Seq('CGTAACAAGGTTTCCGTAGGTGAACCTGCGGAAGGTTCATTGTTGAGATCACAT...AGC', IUPACAmbiguousDNA())\n",
        "738\n",
        "\n",
        "Sequnece No. 71\n",
        "Z78462.1\n",
        "Seq('CGTCACGAGGTCTCCGGATGTGACCCTGCGGAAGGATCATTGTTGAGATCACAT...CAT', IUPACAmbiguousDNA())\n",
        "736\n",
        "\n",
        "Sequnece No. 72\n",
        "Z78461.1\n",
        "Seq('CGTAACAAGGTTTCCGTAGGTGAACCTCCGGAAGGATCATTGTTGAGATCACAT...TAA', IUPACAmbiguousDNA())\n",
        "732\n",
        "\n",
        "Sequnece No. 73\n",
        "Z78460.1\n",
        "Seq('CGTAACAAGGTTTCCGTAGGTGAACCTCCGGAAGGATCATTGTTGAGATCACAT...TTA', IUPACAmbiguousDNA())\n",
        "745\n",
        "\n",
        "Sequnece No. 74\n",
        "Z78459.1\n",
        "Seq('CGTAACAAGGTTTCCGTAGGTGAACCTGCGGAAGGATCATTGTTGAGATCACAT...TTT', IUPACAmbiguousDNA())\n",
        "744\n",
        "\n",
        "Sequnece No. 75\n",
        "Z78458.1\n",
        "Seq('CGTAACAAGGTTTCCGTAGGTGAACCTGCGGAAGGATCATTGTTGAGATCACAT...TTG', IUPACAmbiguousDNA())\n",
        "738\n",
        "\n",
        "Sequnece No. 76\n",
        "Z78457.1\n",
        "Seq('CGTAACAAGGTTTCCGTAGGTGAACCTCCGGAAGGATCATTGTTGAGATCACAT...GAG', IUPACAmbiguousDNA())\n",
        "739\n",
        "\n",
        "Sequnece No. 77\n",
        "Z78456.1\n",
        "Seq('CGTAACAAGGTTTCCGTAGGTGAACCTGCGGAAGGATCATTGTTGAGATCACAT...AGC', IUPACAmbiguousDNA())\n",
        "740\n",
        "\n",
        "Sequnece No. 78\n",
        "Z78455.1\n",
        "Seq('CGTAACCAGGTTTCCGTAGGTGGACCTTCGGGAGGATCATTTTTGAGATCACAT...GCA', IUPACAmbiguousDNA())\n",
        "745\n",
        "\n",
        "Sequnece No. 79\n",
        "Z78454.1\n",
        "Seq('CGTAACAAGGTTTCCGTAGGTGAACCTGCGGAAGGATCATTGTTGAGATCACAT...AAC', IUPACAmbiguousDNA())\n",
        "695\n",
        "\n",
        "Sequnece No. 80\n",
        "Z78453.1\n",
        "Seq('CGTAACAAGGTTTCCGTAGGTGAACCTGCGGAAGGATCATTGTTGAGATCACAT...GCA', IUPACAmbiguousDNA())\n",
        "745\n",
        "\n",
        "Sequnece No. 81\n",
        "Z78452.1\n",
        "Seq('CGTAACAAGGTTTCCGTAGGTGAACCTGCGGAAGGATCATTGTTGAGATCACAT...GCA', IUPACAmbiguousDNA())\n",
        "743\n",
        "\n",
        "Sequnece No. 82\n",
        "Z78451.1\n",
        "Seq('CGTAACAAGGTTTCCGTAGGTGTACCTCCGGAAGGATCATTGTTGAGATCACAT...AGC', IUPACAmbiguousDNA())\n",
        "730\n",
        "\n",
        "Sequnece No. 83\n",
        "Z78450.1\n",
        "Seq('GGAAGGATCATTGCTGATATCACATAATAATTGATCGAGTTAAGCTGGAGGATC...GAG', IUPACAmbiguousDNA())\n",
        "706\n",
        "\n",
        "Sequnece No. 84\n",
        "Z78449.1\n",
        "Seq('CGTAACAAGGTTTCCGTAGGTGAACCTGCGGAAGGATCATTGTTGAGATCACAT...TGC', IUPACAmbiguousDNA())\n",
        "744\n",
        "\n",
        "Sequnece No. 85\n",
        "Z78448.1\n",
        "Seq('CGTAACAAGGTTTCCGTAGGTGAACCTGCGGAAGGATCATTGTTGAGATCACAT...AGG', IUPACAmbiguousDNA())"
       ]
      },
      {
       "output_type": "stream",
       "stream": "stdout",
       "text": [
        "\n",
        "742\n",
        "\n",
        "Sequnece No. 86\n",
        "Z78447.1\n",
        "Seq('CGTAACAAGGATTCCGTAGGTGAACCTGCGGGAGGATCATTGTTGAGATCACAT...AGC', IUPACAmbiguousDNA())\n",
        "694\n",
        "\n",
        "Sequnece No. 87\n",
        "Z78446.1\n",
        "Seq('CGTAACAAGGTTTCCGTAGGTGAACCTCCGGAAGGATCATTGTTGAGATCACAT...CCC', IUPACAmbiguousDNA())\n",
        "712\n",
        "\n",
        "Sequnece No. 88\n",
        "Z78445.1\n",
        "Seq('CGTAACAAGGTTTCCGTAGGTGAACCTGCGGAAGGATCATTGTTGAGATCACAT...TGT', IUPACAmbiguousDNA())\n",
        "715\n",
        "\n",
        "Sequnece No. 89\n",
        "Z78444.1\n",
        "Seq('CGTAACAAGGTTTCCGTAGGGTGAACTGCGGAAGGATCATTGTTGAGATCACAT...ATT', IUPACAmbiguousDNA())\n",
        "688\n",
        "\n",
        "Sequnece No. 90\n",
        "Z78443.1\n",
        "Seq('CGTAACAAGGTTTCCGTAGGTGAACCTGCGGAAGGATCATTGTTGAGATCACAT...AGG', IUPACAmbiguousDNA())\n",
        "784\n",
        "\n",
        "Sequnece No. 91\n",
        "Z78442.1\n",
        "Seq('GTAGGTGAACCTGCGGAAGGATCATTGTTGAGATCACATAATAATTGATCGAGT...AGT', IUPACAmbiguousDNA())\n",
        "721\n",
        "\n",
        "Sequnece No. 92\n",
        "Z78441.1\n",
        "Seq('GGAAGGTCATTGCCGATATCACATAATAATTGATCGAGTTAATCTGGAGGATCT...GAG', IUPACAmbiguousDNA())\n",
        "703\n",
        "\n",
        "Sequnece No. 93\n",
        "Z78440.1\n",
        "Seq('CGTAACAAGGTTTCCGTAGGTGGACCTCCGGGAGGATCATTGTTGAGATCACAT...GCA', IUPACAmbiguousDNA())\n",
        "744\n",
        "\n",
        "Sequnece No. 94\n",
        "Z78439.1\n",
        "Seq('CATTGTTGAGATCACATAATAATTGATCGAGTTAATCTGGAGGATCTGTTTACT...GCC', IUPACAmbiguousDNA())\n",
        "592\n",
        "\n"
       ]
      }
     ],
     "prompt_number": 17
    },
    {
     "cell_type": "markdown",
     "metadata": {},
     "source": [
      "### 2.4.3  I love parsing \u2013 please don\u2019t stop talking about it!"
     ]
    },
    {
     "cell_type": "markdown",
     "metadata": {},
     "source": [
      "- Biopython has a lot of parsers, and each has its own little special niches based on the sequence format it is parsing and all of that. Chapter 5 covers Bio.SeqIO in more detail, while Chapter 6 introduces Bio.AlignIO for sequence alignments.\n",
      "\n",
      "- While the most popular file formats have parsers integrated into Bio.SeqIO and/or Bio.AlignIO, for some of the rarer and unloved file formats there is either no parser at all, or an old parser which has not been linked in yet. Please also check the wiki pages http://biopython.org/wiki/SeqIO and http://biopython.org/wiki/AlignIO for the latest information, or ask on the mailing list. The wiki pages should include an up to date list of supported file types, and some additional examples.\n",
      "\n",
      "- The next place to look for information about specific parsers and how to do cool things with them is in the Cookbook (Chapter 18 of this Tutorial). If you don\u2019t find the information you are looking for, please consider helping out your poor overworked documentors and submitting a cookbook entry about it! (once you figure out how to do it, that is!)"
     ]
    },
    {
     "cell_type": "markdown",
     "metadata": {},
     "source": [
      "## 2.5  Connecting with biological databases"
     ]
    },
    {
     "cell_type": "markdown",
     "metadata": {},
     "source": [
      "One of the very common things that you need to do in bioinformatics is extract information from biological databases. It can be quite tedious to access these databases manually, especially if you have a lot of repetitive work to do. Biopython attempts to save you time and energy by making some on-line databases available from Python scripts. Currently, Biopython has code to extract information from the following databases:\n",
      "\n",
      "- [Entrez](http://www.ncbi.nlm.nih.gov/gquery/) (and [PubMed](http://www.ncbi.nlm.nih.gov/pubmed/)) from the NCBI \u2013 See Chapter 9.\n",
      "- [ExPASy](http://www.expasy.org/) \u2013 See Chapter 10.\n",
      "- [SCOP](http://scop.mrc-lmb.cam.ac.uk/scop/) \u2013 See the Bio.SCOP.search() function.\n",
      "\n",
      "The code in these modules basically makes it easy to write Python code that interact with the CGI scripts on these pages, so that you can get results in an easy to deal with format. In some cases, the results can be tightly integrated with the Biopython parsers to make it even easier to extract information."
     ]
    },
    {
     "cell_type": "markdown",
     "metadata": {},
     "source": [
      "## 2.6  What to do next"
     ]
    },
    {
     "cell_type": "markdown",
     "metadata": {},
     "source": [
      "Now that you\u2019ve made it this far, you hopefully have a good understanding of the basics of Biopython and are ready to start using it for doing useful work. The best thing to do now is finish reading this tutorial, and then if you want start snooping around in the source code, and looking at the automatically generated documentation.\n",
      "\n",
      "Once you get a picture of what you want to do, and what libraries in Biopython will do it, you should take a peak at the Cookbook (Chapter 18), which may have example code to do something similar to what you want to do.\n",
      "\n",
      "**If you know what you want to do, but can\u2019t figure out how to do it, please feel free to post questions to the main Biopython list (see http://biopython.org/wiki/Mailing_lists). This will not only help us answer your question, it will also allow us to improve the documentation so it can help the next person do what you want to do.**\n",
      "\n",
      "Enjoy the code!"
     ]
    },
    {
     "cell_type": "markdown",
     "metadata": {},
     "source": [
      "[Back to Top](#top)"
     ]
    },
    {
     "cell_type": "markdown",
     "metadata": {},
     "source": [
      "<a name=\"ch3\"></a>\n",
      "# Chapter 3: Sequence objects"
     ]
    },
    {
     "cell_type": "markdown",
     "metadata": {},
     "source": [
      "Biological sequences are arguably the central object in Bioinformatics, and in this chapter we\u2019ll introduce the Biopython mechanism for dealing with sequences, the Seq object. Chapter 4 will introduce the related SeqRecord object, which combines the sequence information with any annotation, used again in Chapter 5 for Sequence Input/Output.\n",
      "\n",
      "Sequences are essentially strings of letters like *AGTACACTGGT*, which seems very natural since this is the most common way that sequences are seen in biological file formats.\n",
      "\n",
      "There are two important differences between Seq objects and standard Python strings. First of all, they have different methods. Although the Seq object supports many of the same methods as a plain string, its translate() method differs by doing biological translation, and there are also additional biologically relevant methods like reverse_complement(). Secondly, the Seq object has an important attribute, alphabet, which is an object describing what the individual characters making up the sequence string \u201cmean\u201d, and how they should be interpreted. For example, is AGTACACTGGT a DNA sequence, or just a protein sequence that happens to be rich in Alanines, Glycines, Cysteines and Threonines?"
     ]
    },
    {
     "cell_type": "markdown",
     "metadata": {},
     "source": [
      "## 3.1  Sequences and Alphabets"
     ]
    },
    {
     "cell_type": "markdown",
     "metadata": {},
     "source": [
      "The alphabet object is perhaps the important thing that makes the Seq object more than just a string. The currently available alphabets for Biopython are defined in the Bio.Alphabet module. We\u2019ll use the IUPAC alphabets (http://www.chem.qmw.ac.uk/iupac/) here to deal with some of our favorite objects: DNA, RNA and Proteins.\n",
      "\n",
      "Bio.Alphabet.IUPAC provides basic definitions for proteins, DNA and RNA, but additionally provides the ability to extend and customize the basic definitions. For instance, for proteins, there is a basic IUPACProtein class, but there is an additional ExtendedIUPACProtein class providing for the additional elements \u201cU\u201d (or \u201cSec\u201d for selenocysteine) and \u201cO\u201d (or \u201cPyl\u201d for pyrrolysine), plus the ambiguous symbols \u201cB\u201d (or \u201cAsx\u201d for asparagine or aspartic acid), \u201cZ\u201d (or \u201cGlx\u201d for glutamine or glutamic acid), \u201cJ\u201d (or \u201cXle\u201d for leucine isoleucine) and \u201cX\u201d (or \u201cXxx\u201d for an unknown amino acid). For DNA you\u2019ve got choices of IUPACUnambiguousDNA, which provides for just the basic letters, IUPACAmbiguousDNA (which provides for ambiguity letters for every possible situation) and ExtendedIUPACDNA, which allows letters for modified bases. Similarly, RNA can be represented by IUPACAmbiguousRNA or IUPACUnambiguousRNA.\n",
      "\n",
      "The advantages of having an alphabet class are two fold. First, this gives an idea of the type of information the Seq object contains. Secondly, this provides a means of constraining the information, as a means of type checking.\n",
      "\n",
      "Now that we know what we are dealing with, let\u2019s look at how to utilize this class to do interesting work. You can create an ambiguous sequence with the default generic alphabet like this:"
     ]
    },
    {
     "cell_type": "code",
     "collapsed": false,
     "input": [
      "from Bio.Seq import Seq\n",
      "my_seq = Seq(\"AGTACACTGGT\")"
     ],
     "language": "python",
     "metadata": {},
     "outputs": [],
     "prompt_number": 20
    },
    {
     "cell_type": "code",
     "collapsed": false,
     "input": [
      "my_seq"
     ],
     "language": "python",
     "metadata": {},
     "outputs": [
      {
       "metadata": {},
       "output_type": "pyout",
       "prompt_number": 22,
       "text": [
        "Seq('AGTACACTGGT', Alphabet())"
       ]
      }
     ],
     "prompt_number": 22
    },
    {
     "cell_type": "code",
     "collapsed": false,
     "input": [
      "my_seq.alphabet"
     ],
     "language": "python",
     "metadata": {},
     "outputs": [
      {
       "metadata": {},
       "output_type": "pyout",
       "prompt_number": 24,
       "text": [
        "Alphabet()"
       ]
      }
     ],
     "prompt_number": 24
    },
    {
     "cell_type": "markdown",
     "metadata": {},
     "source": [
      "> However, where possible you should specify the alphabet explicitly when creating your sequence objects - in this case an unambiguous DNA alphabet object:"
     ]
    },
    {
     "cell_type": "code",
     "collapsed": false,
     "input": [
      "from Bio.Seq import Seq\n",
      "from Bio.Alphabet import IUPAC\n",
      "my_seq = Seq(\"AGTACACTGGT\", IUPAC.unambiguous_dna)"
     ],
     "language": "python",
     "metadata": {},
     "outputs": [],
     "prompt_number": 26
    },
    {
     "cell_type": "code",
     "collapsed": false,
     "input": [
      "my_seq"
     ],
     "language": "python",
     "metadata": {},
     "outputs": [
      {
       "metadata": {},
       "output_type": "pyout",
       "prompt_number": 27,
       "text": [
        "Seq('AGTACACTGGT', IUPACUnambiguousDNA())"
       ]
      }
     ],
     "prompt_number": 27
    },
    {
     "cell_type": "code",
     "collapsed": false,
     "input": [
      "my_seq.alphabet"
     ],
     "language": "python",
     "metadata": {},
     "outputs": [
      {
       "metadata": {},
       "output_type": "pyout",
       "prompt_number": 28,
       "text": [
        "IUPACUnambiguousDNA()"
       ]
      }
     ],
     "prompt_number": 28
    },
    {
     "cell_type": "markdown",
     "metadata": {},
     "source": [
      "> Unless of course, this really is an amino acid sequence:"
     ]
    },
    {
     "cell_type": "code",
     "collapsed": false,
     "input": [
      ">>> from Bio.Seq import Seq\n",
      ">>> from Bio.Alphabet import IUPAC\n",
      ">>> my_prot = Seq(\"AGTACACTGGT\", IUPAC.protein)"
     ],
     "language": "python",
     "metadata": {},
     "outputs": [],
     "prompt_number": 30
    },
    {
     "cell_type": "code",
     "collapsed": false,
     "input": [
      "my_prot"
     ],
     "language": "python",
     "metadata": {},
     "outputs": [
      {
       "metadata": {},
       "output_type": "pyout",
       "prompt_number": 31,
       "text": [
        "Seq('AGTACACTGGT', IUPACProtein())"
       ]
      }
     ],
     "prompt_number": 31
    },
    {
     "cell_type": "code",
     "collapsed": false,
     "input": [
      "my_prot.alphabet"
     ],
     "language": "python",
     "metadata": {},
     "outputs": [
      {
       "metadata": {},
       "output_type": "pyout",
       "prompt_number": 32,
       "text": [
        "IUPACProtein()"
       ]
      }
     ],
     "prompt_number": 32
    },
    {
     "cell_type": "markdown",
     "metadata": {},
     "source": [
      "## 3.2  Sequences act like strings"
     ]
    },
    {
     "cell_type": "markdown",
     "metadata": {},
     "source": [
      "> In many ways, we can deal with Seq objects as if they were normal Python strings, for example getting the length, or iterating over the elements:"
     ]
    },
    {
     "cell_type": "code",
     "collapsed": false,
     "input": [
      ">>> from Bio.Seq import Seq\n",
      ">>> from Bio.Alphabet import IUPAC\n",
      ">>> my_seq = Seq(\"GATCG\", IUPAC.unambiguous_dna)\n",
      ">>> for index, letter in enumerate(my_seq):\n",
      "...     print(\"%i %s\" % (index, letter))"
     ],
     "language": "python",
     "metadata": {},
     "outputs": [
      {
       "output_type": "stream",
       "stream": "stdout",
       "text": [
        "0 G\n",
        "1 A\n",
        "2 T\n",
        "3 C\n",
        "4 G\n"
       ]
      }
     ],
     "prompt_number": 33
    },
    {
     "cell_type": "code",
     "collapsed": false,
     "input": [
      "print(len(my_seq))"
     ],
     "language": "python",
     "metadata": {},
     "outputs": [
      {
       "output_type": "stream",
       "stream": "stdout",
       "text": [
        "5\n"
       ]
      }
     ],
     "prompt_number": 35
    },
    {
     "cell_type": "markdown",
     "metadata": {},
     "source": [
      "> You can access elements of the sequence in the same way as for strings (but remember, Python counts from zero!):"
     ]
    },
    {
     "cell_type": "code",
     "collapsed": false,
     "input": [
      ">>> print(my_seq[0]) #first letter"
     ],
     "language": "python",
     "metadata": {},
     "outputs": [
      {
       "output_type": "stream",
       "stream": "stdout",
       "text": [
        "G\n"
       ]
      }
     ],
     "prompt_number": 37
    },
    {
     "cell_type": "code",
     "collapsed": false,
     "input": [
      ">>> print(my_seq[2]) #third letter"
     ],
     "language": "python",
     "metadata": {},
     "outputs": [
      {
       "output_type": "stream",
       "stream": "stdout",
       "text": [
        "T\n"
       ]
      }
     ],
     "prompt_number": 38
    },
    {
     "cell_type": "code",
     "collapsed": false,
     "input": [
      ">>> print(my_seq[-1]) #last letter"
     ],
     "language": "python",
     "metadata": {},
     "outputs": [
      {
       "output_type": "stream",
       "stream": "stdout",
       "text": [
        "G\n"
       ]
      }
     ],
     "prompt_number": 39
    },
    {
     "cell_type": "markdown",
     "metadata": {},
     "source": [
      "> The Seq object has a .count() method, just like a string. Note that this means that like a Python string, this gives a *non-overlapping* count:"
     ]
    },
    {
     "cell_type": "code",
     "collapsed": false,
     "input": [
      ">>> from Bio.Seq import Seq\n",
      ">>> \"AAAA\".count(\"AA\")"
     ],
     "language": "python",
     "metadata": {},
     "outputs": [
      {
       "metadata": {},
       "output_type": "pyout",
       "prompt_number": 40,
       "text": [
        "2"
       ]
      }
     ],
     "prompt_number": 40
    },
    {
     "cell_type": "code",
     "collapsed": false,
     "input": [
      ">>> Seq(\"AAAA\").count(\"AA\")"
     ],
     "language": "python",
     "metadata": {},
     "outputs": [
      {
       "metadata": {},
       "output_type": "pyout",
       "prompt_number": 41,
       "text": [
        "2"
       ]
      }
     ],
     "prompt_number": 41
    },
    {
     "cell_type": "markdown",
     "metadata": {},
     "source": [
      "> For some biological uses, you may actually want an overlapping count (i.e. 3 in this trivial example). When searching for single letters, this makes no difference:"
     ]
    },
    {
     "cell_type": "code",
     "collapsed": false,
     "input": [
      ">>> from Bio.Seq import Seq\n",
      ">>> from Bio.Alphabet import IUPAC\n",
      ">>> my_seq = Seq('GATCGATGGGCCTATATAGGATCGAAAATCGC', IUPAC.unambiguous_dna)"
     ],
     "language": "python",
     "metadata": {},
     "outputs": [],
     "prompt_number": 42
    },
    {
     "cell_type": "code",
     "collapsed": false,
     "input": [
      "len(my_seq)"
     ],
     "language": "python",
     "metadata": {},
     "outputs": [
      {
       "metadata": {},
       "output_type": "pyout",
       "prompt_number": 43,
       "text": [
        "32"
       ]
      }
     ],
     "prompt_number": 43
    },
    {
     "cell_type": "code",
     "collapsed": false,
     "input": [
      "my_seq.count(\"G\")"
     ],
     "language": "python",
     "metadata": {},
     "outputs": [
      {
       "metadata": {},
       "output_type": "pyout",
       "prompt_number": 44,
       "text": [
        "9"
       ]
      }
     ],
     "prompt_number": 44
    },
    {
     "cell_type": "code",
     "collapsed": false,
     "input": [
      "## CG rate\n",
      "100 * float(my_seq.count(\"G\") + my_seq.count(\"C\")) / len(my_seq)"
     ],
     "language": "python",
     "metadata": {},
     "outputs": [
      {
       "metadata": {},
       "output_type": "pyout",
       "prompt_number": 46,
       "text": [
        "46.875"
       ]
      }
     ],
     "prompt_number": 46
    },
    {
     "cell_type": "markdown",
     "metadata": {},
     "source": [
      "> While you could use the above snippet of code to calculate a GC%, note that the Bio.SeqUtils module has several GC functions already built. For example:"
     ]
    },
    {
     "cell_type": "code",
     "collapsed": false,
     "input": [
      ">>> from Bio.Seq import Seq\n",
      ">>> from Bio.Alphabet import IUPAC\n",
      ">>> from Bio.SeqUtils import GC"
     ],
     "language": "python",
     "metadata": {},
     "outputs": [],
     "prompt_number": 47
    },
    {
     "cell_type": "code",
     "collapsed": false,
     "input": [
      "my_seq = Seq('GATCGATGGGCCTATATAGGATCGAAAATCGC', IUPAC.unambiguous_dna)\n",
      "GC(my_seq)"
     ],
     "language": "python",
     "metadata": {},
     "outputs": [
      {
       "metadata": {},
       "output_type": "pyout",
       "prompt_number": 49,
       "text": [
        "46.875"
       ]
      }
     ],
     "prompt_number": 49
    },
    {
     "cell_type": "markdown",
     "metadata": {},
     "source": [
      "Note that using the Bio.SeqUtils.GC() function should automatically cope with mixed case sequences and the ambiguous nucleotide S which means G or C.\n",
      "\n",
      "Also note that just like a normal Python string, the Seq object is in some ways \u201cread-only\u201d. If you need to edit your sequence, for example simulating a point mutation, look at the Section 3.12 below which talks about the MutableSeq object."
     ]
    },
    {
     "cell_type": "markdown",
     "metadata": {},
     "source": [
      "## 3.3  Slicing a sequence"
     ]
    },
    {
     "cell_type": "markdown",
     "metadata": {},
     "source": [
      "A more complicated example, let\u2019s get a slice of the sequence:"
     ]
    },
    {
     "cell_type": "code",
     "collapsed": false,
     "input": [
      ">>> from Bio.Seq import Seq\n",
      ">>> from Bio.Alphabet import IUPAC\n",
      ">>> my_seq = Seq(\"GATCGATGGGCCTATATAGGATCGAAAATCGC\", IUPAC.unambiguous_dna)\n",
      ">>> my_seq[4:12]"
     ],
     "language": "python",
     "metadata": {},
     "outputs": [
      {
       "metadata": {},
       "output_type": "pyout",
       "prompt_number": 50,
       "text": [
        "Seq('GATGGGCC', IUPACUnambiguousDNA())"
       ]
      }
     ],
     "prompt_number": 50
    },
    {
     "cell_type": "markdown",
     "metadata": {},
     "source": [
      "Two things are interesting to note. First, this follows the normal conventions for Python strings. So the first element of the sequence is 0 (which is normal for computer science, but not so normal for biology). When you do a slice the first item is included (i.e. 4 in this case) and the last is excluded (12 in this case), which is the way things work in Python, but of course not necessarily the way everyone in the world would expect. The main goal is to stay consistent with what Python does.\n",
      "\n",
      "The second thing to notice is that the slice is performed on the sequence data string, but the new object produced is another Seq object which retains the alphabet information from the original Seq object.\n",
      "\n",
      "Also like a Python string, you can do slices with a start, stop and stride (the step size, which defaults to one). For example, we can get the first, second and third codon positions of this DNA sequence:"
     ]
    },
    {
     "cell_type": "code",
     "collapsed": false,
     "input": [
      "my_seq[0::3]"
     ],
     "language": "python",
     "metadata": {},
     "outputs": [
      {
       "metadata": {},
       "output_type": "pyout",
       "prompt_number": 51,
       "text": [
        "Seq('GCTGTAGTAAG', IUPACUnambiguousDNA())"
       ]
      }
     ],
     "prompt_number": 51
    },
    {
     "cell_type": "code",
     "collapsed": false,
     "input": [
      "my_seq[1::3]"
     ],
     "language": "python",
     "metadata": {},
     "outputs": [
      {
       "metadata": {},
       "output_type": "pyout",
       "prompt_number": 52,
       "text": [
        "Seq('AGGCATGCATC', IUPACUnambiguousDNA())"
       ]
      }
     ],
     "prompt_number": 52
    },
    {
     "cell_type": "code",
     "collapsed": false,
     "input": [
      "my_seq[2::3]"
     ],
     "language": "python",
     "metadata": {},
     "outputs": [
      {
       "metadata": {},
       "output_type": "pyout",
       "prompt_number": 53,
       "text": [
        "Seq('TAGCTAAGAC', IUPACUnambiguousDNA())"
       ]
      }
     ],
     "prompt_number": 53
    },
    {
     "cell_type": "markdown",
     "metadata": {},
     "source": [
      "> Another stride trick you might have seen with a Python string is the use of a -1 stride to reverse the string. You can do this with a Seq object too:"
     ]
    },
    {
     "cell_type": "code",
     "collapsed": false,
     "input": [
      "my_seq[::-1]"
     ],
     "language": "python",
     "metadata": {},
     "outputs": [
      {
       "metadata": {},
       "output_type": "pyout",
       "prompt_number": 55,
       "text": [
        "Seq('CGCTAAAAGCTAGGATATATCCGGGTAGCTAG', IUPACUnambiguousDNA())"
       ]
      }
     ],
     "prompt_number": 55
    },
    {
     "cell_type": "markdown",
     "metadata": {},
     "source": [
      "## 3.4  Turning Seq objects into strings"
     ]
    },
    {
     "cell_type": "markdown",
     "metadata": {},
     "source": [
      "> If you really do just need a plain string, for example to write to a file, or insert into a database, then this is very easy to get:"
     ]
    },
    {
     "cell_type": "code",
     "collapsed": false,
     "input": [
      "str(my_seq)"
     ],
     "language": "python",
     "metadata": {},
     "outputs": [
      {
       "metadata": {},
       "output_type": "pyout",
       "prompt_number": 56,
       "text": [
        "'GATCGATGGGCCTATATAGGATCGAAAATCGC'"
       ]
      }
     ],
     "prompt_number": 56
    },
    {
     "cell_type": "markdown",
     "metadata": {},
     "source": [
      "> Since calling str() on a Seq object returns the full sequence as a string, you often don\u2019t actually have to do this conversion explicitly. Python does this automatically in the print function (and the print statement under Python 2):"
     ]
    },
    {
     "cell_type": "code",
     "collapsed": false,
     "input": [
      "print(my_seq)"
     ],
     "language": "python",
     "metadata": {},
     "outputs": [
      {
       "output_type": "stream",
       "stream": "stdout",
       "text": [
        "GATCGATGGGCCTATATAGGATCGAAAATCGC\n"
       ]
      }
     ],
     "prompt_number": 57
    },
    {
     "cell_type": "markdown",
     "metadata": {},
     "source": [
      "> You can also use the Seq object directly with a %s placeholder when using the Python string formatting or interpolation operator (%):\n",
      "\n"
     ]
    },
    {
     "cell_type": "code",
     "collapsed": false,
     "input": [
      ">>> fasta_format_string = \">Name\\n%s\\n\" % my_seq\n",
      ">>> print(fasta_format_string)"
     ],
     "language": "python",
     "metadata": {},
     "outputs": [
      {
       "output_type": "stream",
       "stream": "stdout",
       "text": [
        ">Name\n",
        "GATCGATGGGCCTATATAGGATCGAAAATCGC\n",
        "\n"
       ]
      }
     ],
     "prompt_number": 58
    },
    {
     "cell_type": "markdown",
     "metadata": {},
     "source": [
      "## 3.5  Concatenating or adding sequences"
     ]
    },
    {
     "cell_type": "markdown",
     "metadata": {},
     "source": [
      "> Naturally, you can in principle add any two Seq objects together - just like you can with Python strings to concatenate them. However, you can\u2019t add sequences with incompatible alphabets, such as a protein sequence and a DNA sequence:"
     ]
    },
    {
     "cell_type": "code",
     "collapsed": false,
     "input": [
      ">>> from Bio.Alphabet import IUPAC\n",
      ">>> from Bio.Seq import Seq\n",
      ">>> protein_seq = Seq(\"EVRNAK\", IUPAC.protein)\n",
      ">>> dna_seq = Seq(\"ACGT\", IUPAC.unambiguous_dna)\n",
      ">>> protein_seq + dna_seq"
     ],
     "language": "python",
     "metadata": {},
     "outputs": [
      {
       "ename": "TypeError",
       "evalue": "Incompatible alphabets IUPACProtein() and IUPACUnambiguousDNA()",
       "output_type": "pyerr",
       "traceback": [
        "\u001b[0;31m---------------------------------------------------------------------------\u001b[0m\n\u001b[0;31mTypeError\u001b[0m                                 Traceback (most recent call last)",
        "\u001b[0;32m<ipython-input-59-0c3833013547>\u001b[0m in \u001b[0;36m<module>\u001b[0;34m()\u001b[0m\n\u001b[1;32m      3\u001b[0m \u001b[0mprotein_seq\u001b[0m \u001b[0;34m=\u001b[0m \u001b[0mSeq\u001b[0m\u001b[0;34m(\u001b[0m\u001b[0;34m\"EVRNAK\"\u001b[0m\u001b[0;34m,\u001b[0m \u001b[0mIUPAC\u001b[0m\u001b[0;34m.\u001b[0m\u001b[0mprotein\u001b[0m\u001b[0;34m)\u001b[0m\u001b[0;34m\u001b[0m\u001b[0m\n\u001b[1;32m      4\u001b[0m \u001b[0mdna_seq\u001b[0m \u001b[0;34m=\u001b[0m \u001b[0mSeq\u001b[0m\u001b[0;34m(\u001b[0m\u001b[0;34m\"ACGT\"\u001b[0m\u001b[0;34m,\u001b[0m \u001b[0mIUPAC\u001b[0m\u001b[0;34m.\u001b[0m\u001b[0munambiguous_dna\u001b[0m\u001b[0;34m)\u001b[0m\u001b[0;34m\u001b[0m\u001b[0m\n\u001b[0;32m----> 5\u001b[0;31m \u001b[0mprotein_seq\u001b[0m \u001b[0;34m+\u001b[0m \u001b[0mdna_seq\u001b[0m\u001b[0;34m\u001b[0m\u001b[0m\n\u001b[0m",
        "\u001b[0;32m/Users/chenchen/anaconda/lib/python2.7/site-packages/Bio/Seq.pyc\u001b[0m in \u001b[0;36m__add__\u001b[0;34m(self, other)\u001b[0m\n\u001b[1;32m    251\u001b[0m                                                     other.alphabet]):\n\u001b[1;32m    252\u001b[0m                 raise TypeError(\"Incompatible alphabets %s and %s\"\n\u001b[0;32m--> 253\u001b[0;31m                                 % (repr(self.alphabet), repr(other.alphabet)))\n\u001b[0m\u001b[1;32m    254\u001b[0m             \u001b[0;31m#They should be the same sequence type (or one of them is generic)\u001b[0m\u001b[0;34m\u001b[0m\u001b[0;34m\u001b[0m\u001b[0m\n\u001b[1;32m    255\u001b[0m             \u001b[0ma\u001b[0m \u001b[0;34m=\u001b[0m \u001b[0mAlphabet\u001b[0m\u001b[0;34m.\u001b[0m\u001b[0m_consensus_alphabet\u001b[0m\u001b[0;34m(\u001b[0m\u001b[0;34m[\u001b[0m\u001b[0mself\u001b[0m\u001b[0;34m.\u001b[0m\u001b[0malphabet\u001b[0m\u001b[0;34m,\u001b[0m \u001b[0mother\u001b[0m\u001b[0;34m.\u001b[0m\u001b[0malphabet\u001b[0m\u001b[0;34m]\u001b[0m\u001b[0;34m)\u001b[0m\u001b[0;34m\u001b[0m\u001b[0m\n",
        "\u001b[0;31mTypeError\u001b[0m: Incompatible alphabets IUPACProtein() and IUPACUnambiguousDNA()"
       ]
      }
     ],
     "prompt_number": 59
    },
    {
     "cell_type": "markdown",
     "metadata": {},
     "source": [
      "> If you really wanted to do this, you\u2019d have to first give both sequences generic alphabets:"
     ]
    },
    {
     "cell_type": "code",
     "collapsed": false,
     "input": [
      ">>> from Bio.Alphabet import generic_alphabet\n",
      ">>> protein_seq.alphabet = generic_alphabet\n",
      ">>> dna_seq.alphabet = generic_alphabet\n",
      ">>> protein_seq + dna_seq"
     ],
     "language": "python",
     "metadata": {},
     "outputs": [
      {
       "metadata": {},
       "output_type": "pyout",
       "prompt_number": 60,
       "text": [
        "Seq('EVRNAKACGT', Alphabet())"
       ]
      }
     ],
     "prompt_number": 60
    },
    {
     "cell_type": "markdown",
     "metadata": {},
     "source": [
      "> Here is an example of adding a generic nucleotide sequence to an unambiguous IUPAC DNA sequence, resulting in an ambiguous nucleotide sequence:"
     ]
    },
    {
     "cell_type": "code",
     "collapsed": false,
     "input": [
      ">>> from Bio.Seq import Seq\n",
      ">>> from Bio.Alphabet import generic_nucleotide\n",
      ">>> from Bio.Alphabet import IUPAC\n",
      ">>> nuc_seq = Seq(\"GATCGATGC\", generic_nucleotide)\n",
      ">>> dna_seq = Seq(\"ACGT\", IUPAC.unambiguous_dna)"
     ],
     "language": "python",
     "metadata": {},
     "outputs": [],
     "prompt_number": 61
    },
    {
     "cell_type": "code",
     "collapsed": false,
     "input": [
      "nuc_seq"
     ],
     "language": "python",
     "metadata": {},
     "outputs": [
      {
       "metadata": {},
       "output_type": "pyout",
       "prompt_number": 62,
       "text": [
        "Seq('GATCGATGC', NucleotideAlphabet())"
       ]
      }
     ],
     "prompt_number": 62
    },
    {
     "cell_type": "code",
     "collapsed": false,
     "input": [
      "dna_seq"
     ],
     "language": "python",
     "metadata": {},
     "outputs": [
      {
       "metadata": {},
       "output_type": "pyout",
       "prompt_number": 63,
       "text": [
        "Seq('ACGT', IUPACUnambiguousDNA())"
       ]
      }
     ],
     "prompt_number": 63
    },
    {
     "cell_type": "code",
     "collapsed": false,
     "input": [
      "nuc_seq + dna_seq"
     ],
     "language": "python",
     "metadata": {},
     "outputs": [
      {
       "metadata": {},
       "output_type": "pyout",
       "prompt_number": 64,
       "text": [
        "Seq('GATCGATGCACGT', NucleotideAlphabet())"
       ]
      }
     ],
     "prompt_number": 64
    },
    {
     "cell_type": "markdown",
     "metadata": {},
     "source": [
      "## 3.6  Changing case"
     ]
    },
    {
     "cell_type": "markdown",
     "metadata": {},
     "source": [
      "> Python strings have very useful *upper* and *lower* methods for changing the case. As of Biopython 1.53, the Seq object gained similar methods which are alphabet aware. For example,"
     ]
    },
    {
     "cell_type": "code",
     "collapsed": false,
     "input": [
      ">>> from Bio.Seq import Seq\n",
      ">>> from Bio.Alphabet import generic_dna\n",
      ">>> dna_seq = Seq(\"acgtACGT\", generic_dna)"
     ],
     "language": "python",
     "metadata": {},
     "outputs": [],
     "prompt_number": 65
    },
    {
     "cell_type": "code",
     "collapsed": false,
     "input": [
      "dna_seq"
     ],
     "language": "python",
     "metadata": {},
     "outputs": [
      {
       "metadata": {},
       "output_type": "pyout",
       "prompt_number": 66,
       "text": [
        "Seq('acgtACGT', DNAAlphabet())"
       ]
      }
     ],
     "prompt_number": 66
    },
    {
     "cell_type": "code",
     "collapsed": false,
     "input": [
      "dna_seq.upper()"
     ],
     "language": "python",
     "metadata": {},
     "outputs": [
      {
       "metadata": {},
       "output_type": "pyout",
       "prompt_number": 67,
       "text": [
        "Seq('ACGTACGT', DNAAlphabet())"
       ]
      }
     ],
     "prompt_number": 67
    },
    {
     "cell_type": "code",
     "collapsed": false,
     "input": [
      "dna_seq.lower()"
     ],
     "language": "python",
     "metadata": {},
     "outputs": [
      {
       "metadata": {},
       "output_type": "pyout",
       "prompt_number": 68,
       "text": [
        "Seq('acgtacgt', DNAAlphabet())"
       ]
      }
     ],
     "prompt_number": 68
    },
    {
     "cell_type": "markdown",
     "metadata": {},
     "source": [
      "> These are useful for doing case insensitive matching:"
     ]
    },
    {
     "cell_type": "code",
     "collapsed": false,
     "input": [
      "\"GTAC\" in dna_seq"
     ],
     "language": "python",
     "metadata": {},
     "outputs": [
      {
       "metadata": {},
       "output_type": "pyout",
       "prompt_number": 69,
       "text": [
        "False"
       ]
      }
     ],
     "prompt_number": 69
    },
    {
     "cell_type": "code",
     "collapsed": false,
     "input": [
      "\"GTAC\" in dna_seq.upper()"
     ],
     "language": "python",
     "metadata": {},
     "outputs": [
      {
       "metadata": {},
       "output_type": "pyout",
       "prompt_number": 70,
       "text": [
        "True"
       ]
      }
     ],
     "prompt_number": 70
    },
    {
     "cell_type": "markdown",
     "metadata": {},
     "source": [
      "> Note that strictly speaking the IUPAC alphabets are for upper case sequences only, thus:"
     ]
    },
    {
     "cell_type": "code",
     "collapsed": false,
     "input": [
      ">>> from Bio.Seq import Seq\n",
      ">>> from Bio.Alphabet import IUPAC\n",
      ">>> dna_seq = Seq(\"ACGT\", IUPAC.unambiguous_dna)"
     ],
     "language": "python",
     "metadata": {},
     "outputs": [],
     "prompt_number": 71
    },
    {
     "cell_type": "code",
     "collapsed": false,
     "input": [
      "dna_seq "
     ],
     "language": "python",
     "metadata": {},
     "outputs": [
      {
       "metadata": {},
       "output_type": "pyout",
       "prompt_number": 72,
       "text": [
        "Seq('ACGT', IUPACUnambiguousDNA())"
       ]
      }
     ],
     "prompt_number": 72
    },
    {
     "cell_type": "code",
     "collapsed": false,
     "input": [
      "dna_seq.lower()"
     ],
     "language": "python",
     "metadata": {},
     "outputs": [
      {
       "metadata": {},
       "output_type": "pyout",
       "prompt_number": 73,
       "text": [
        "Seq('acgt', DNAAlphabet())"
       ]
      }
     ],
     "prompt_number": 73
    },
    {
     "cell_type": "markdown",
     "metadata": {},
     "source": [
      "## 3.7  Nucleotide sequences and (reverse) complements"
     ]
    },
    {
     "cell_type": "markdown",
     "metadata": {},
     "source": [
      "> For nucleotide sequences, you can easily obtain the complement or reverse complement of a Seq object using its built-in methods:"
     ]
    },
    {
     "cell_type": "code",
     "collapsed": false,
     "input": [
      ">>> from Bio.Seq import Seq\n",
      ">>> from Bio.Alphabet import IUPAC\n",
      ">>> my_seq = Seq(\"GATCGATGGGCCTATATAGGATCGAAAATCGC\", IUPAC.unambiguous_dna)"
     ],
     "language": "python",
     "metadata": {},
     "outputs": [],
     "prompt_number": 74
    },
    {
     "cell_type": "code",
     "collapsed": false,
     "input": [
      "my_seq"
     ],
     "language": "python",
     "metadata": {},
     "outputs": [
      {
       "metadata": {},
       "output_type": "pyout",
       "prompt_number": 75,
       "text": [
        "Seq('GATCGATGGGCCTATATAGGATCGAAAATCGC', IUPACUnambiguousDNA())"
       ]
      }
     ],
     "prompt_number": 75
    },
    {
     "cell_type": "code",
     "collapsed": false,
     "input": [
      "my_seq.complement()"
     ],
     "language": "python",
     "metadata": {},
     "outputs": [
      {
       "metadata": {},
       "output_type": "pyout",
       "prompt_number": 76,
       "text": [
        "Seq('CTAGCTACCCGGATATATCCTAGCTTTTAGCG', IUPACUnambiguousDNA())"
       ]
      }
     ],
     "prompt_number": 76
    },
    {
     "cell_type": "code",
     "collapsed": false,
     "input": [
      "my_seq.reverse_complement()"
     ],
     "language": "python",
     "metadata": {},
     "outputs": [
      {
       "metadata": {},
       "output_type": "pyout",
       "prompt_number": 77,
       "text": [
        "Seq('GCGATTTTCGATCCTATATAGGCCCATCGATC', IUPACUnambiguousDNA())"
       ]
      }
     ],
     "prompt_number": 77
    },
    {
     "cell_type": "markdown",
     "metadata": {},
     "source": [
      "> As mentioned earlier, an easy way to just reverse a Seq object (or a Python string) is slice it with -1 step:"
     ]
    },
    {
     "cell_type": "code",
     "collapsed": false,
     "input": [
      "my_seq[::-1]"
     ],
     "language": "python",
     "metadata": {},
     "outputs": [
      {
       "metadata": {},
       "output_type": "pyout",
       "prompt_number": 78,
       "text": [
        "Seq('CGCTAAAAGCTAGGATATATCCGGGTAGCTAG', IUPACUnambiguousDNA())"
       ]
      }
     ],
     "prompt_number": 78
    },
    {
     "cell_type": "markdown",
     "metadata": {},
     "source": [
      "> In all of these operations, the alphabet property is maintained. This is very useful in case you accidentally end up trying to do something weird like take the (reverse)complement of a protein sequence:"
     ]
    },
    {
     "cell_type": "code",
     "collapsed": false,
     "input": [
      ">>> from Bio.Seq import Seq\n",
      ">>> from Bio.Alphabet import IUPAC\n",
      ">>> protein_seq = Seq(\"EVRNAK\", IUPAC.protein)\n",
      ">>> protein_seq.complement()"
     ],
     "language": "python",
     "metadata": {},
     "outputs": [
      {
       "ename": "ValueError",
       "evalue": "Proteins do not have complements!",
       "output_type": "pyerr",
       "traceback": [
        "\u001b[0;31m---------------------------------------------------------------------------\u001b[0m\n\u001b[0;31mValueError\u001b[0m                                Traceback (most recent call last)",
        "\u001b[0;32m<ipython-input-80-b6a262be9ab4>\u001b[0m in \u001b[0;36m<module>\u001b[0;34m()\u001b[0m\n\u001b[1;32m      2\u001b[0m \u001b[0;32mfrom\u001b[0m \u001b[0mBio\u001b[0m\u001b[0;34m.\u001b[0m\u001b[0mAlphabet\u001b[0m \u001b[0;32mimport\u001b[0m \u001b[0mIUPAC\u001b[0m\u001b[0;34m\u001b[0m\u001b[0m\n\u001b[1;32m      3\u001b[0m \u001b[0mprotein_seq\u001b[0m \u001b[0;34m=\u001b[0m \u001b[0mSeq\u001b[0m\u001b[0;34m(\u001b[0m\u001b[0;34m\"EVRNAK\"\u001b[0m\u001b[0;34m,\u001b[0m \u001b[0mIUPAC\u001b[0m\u001b[0;34m.\u001b[0m\u001b[0mprotein\u001b[0m\u001b[0;34m)\u001b[0m\u001b[0;34m\u001b[0m\u001b[0m\n\u001b[0;32m----> 4\u001b[0;31m \u001b[0mprotein_seq\u001b[0m\u001b[0;34m.\u001b[0m\u001b[0mcomplement\u001b[0m\u001b[0;34m(\u001b[0m\u001b[0;34m)\u001b[0m\u001b[0;34m\u001b[0m\u001b[0m\n\u001b[0m",
        "\u001b[0;32m/Users/chenchen/anaconda/lib/python2.7/site-packages/Bio/Seq.pyc\u001b[0m in \u001b[0;36mcomplement\u001b[0;34m(self)\u001b[0m\n\u001b[1;32m    721\u001b[0m         \u001b[0mbase\u001b[0m \u001b[0;34m=\u001b[0m \u001b[0mAlphabet\u001b[0m\u001b[0;34m.\u001b[0m\u001b[0m_get_base_alphabet\u001b[0m\u001b[0;34m(\u001b[0m\u001b[0mself\u001b[0m\u001b[0;34m.\u001b[0m\u001b[0malphabet\u001b[0m\u001b[0;34m)\u001b[0m\u001b[0;34m\u001b[0m\u001b[0m\n\u001b[1;32m    722\u001b[0m         \u001b[0;32mif\u001b[0m \u001b[0misinstance\u001b[0m\u001b[0;34m(\u001b[0m\u001b[0mbase\u001b[0m\u001b[0;34m,\u001b[0m \u001b[0mAlphabet\u001b[0m\u001b[0;34m.\u001b[0m\u001b[0mProteinAlphabet\u001b[0m\u001b[0;34m)\u001b[0m\u001b[0;34m:\u001b[0m\u001b[0;34m\u001b[0m\u001b[0m\n\u001b[0;32m--> 723\u001b[0;31m             \u001b[0;32mraise\u001b[0m \u001b[0mValueError\u001b[0m\u001b[0;34m(\u001b[0m\u001b[0;34m\"Proteins do not have complements!\"\u001b[0m\u001b[0;34m)\u001b[0m\u001b[0;34m\u001b[0m\u001b[0m\n\u001b[0m\u001b[1;32m    724\u001b[0m         \u001b[0;32mif\u001b[0m \u001b[0misinstance\u001b[0m\u001b[0;34m(\u001b[0m\u001b[0mbase\u001b[0m\u001b[0;34m,\u001b[0m \u001b[0mAlphabet\u001b[0m\u001b[0;34m.\u001b[0m\u001b[0mDNAAlphabet\u001b[0m\u001b[0;34m)\u001b[0m\u001b[0;34m:\u001b[0m\u001b[0;34m\u001b[0m\u001b[0m\n\u001b[1;32m    725\u001b[0m             \u001b[0mttable\u001b[0m \u001b[0;34m=\u001b[0m \u001b[0m_dna_complement_table\u001b[0m\u001b[0;34m\u001b[0m\u001b[0m\n",
        "\u001b[0;31mValueError\u001b[0m: Proteins do not have complements!"
       ]
      }
     ],
     "prompt_number": 80
    },
    {
     "cell_type": "markdown",
     "metadata": {},
     "source": [
      "> The example in Section 5.5.3 combines the Seq object\u2019s reverse complement method with Bio.SeqIO for sequence input/output."
     ]
    },
    {
     "cell_type": "markdown",
     "metadata": {},
     "source": [
      "## 3.8  Transcription"
     ]
    },
    {
     "cell_type": "markdown",
     "metadata": {},
     "source": [
      "Before talking about transcription, I want to try and clarify the strand issue. Consider the following (made up) stretch of double stranded DNA which encodes a short peptide:\n",
      "\n",
      "```\n",
      " \tDNA coding strand (aka Crick strand, strand +1)\t \n",
      "5\u2019\tATGGCCATTGTAATGGGCCGCTGAAAGGGTGCCCGATAG\t3\u2019\n",
      " \t|||||||||||||||||||||||||||||||||||||||\t \n",
      "3\u2019\tTACCGGTAACATTACCCGGCGACTTTCCCACGGGCTATC\t5\u2019\n",
      " \tDNA template strand (aka Watson strand, strand \u22121)\t \n",
      " \n",
      "                    |\t \n",
      "               Transcription\t \n",
      "                    \u2193\t \n",
      " \n",
      "5\u2019\tAUGGCCAUUGUAAUGGGCCGCUGAAAGGGUGCCCGAUAG\t3\u2019\n",
      " \tSingle stranded messenger RNA\n",
      "```\n",
      "\n",
      "The actual biological transcription process works from the template strand, doing a reverse complement (TCAG \u2192 CUGA) to give the mRNA. However, in Biopython and bioinformatics in general, we typically work directly with the coding strand because this means we can get the mRNA sequence just by switching T \u2192 U.\n",
      "\n",
      "Now let\u2019s actually get down to doing a transcription in Biopython. First, let\u2019s create Seq objects for the coding and template DNA strands:"
     ]
    },
    {
     "cell_type": "code",
     "collapsed": false,
     "input": [
      ">>> from Bio.Seq import Seq\n",
      ">>> from Bio.Alphabet import IUPAC\n",
      ">>> coding_dna = Seq(\"ATGGCCATTGTAATGGGCCGCTGAAAGGGTGCCCGATAG\", IUPAC.unambiguous_dna)"
     ],
     "language": "python",
     "metadata": {},
     "outputs": [],
     "prompt_number": 82
    },
    {
     "cell_type": "code",
     "collapsed": false,
     "input": [
      "coding_dna"
     ],
     "language": "python",
     "metadata": {},
     "outputs": [
      {
       "metadata": {},
       "output_type": "pyout",
       "prompt_number": 83,
       "text": [
        "Seq('ATGGCCATTGTAATGGGCCGCTGAAAGGGTGCCCGATAG', IUPACUnambiguousDNA())"
       ]
      }
     ],
     "prompt_number": 83
    },
    {
     "cell_type": "code",
     "collapsed": false,
     "input": [
      ">>> template_dna = coding_dna.reverse_complement()\n",
      ">>> template_dna"
     ],
     "language": "python",
     "metadata": {},
     "outputs": [
      {
       "metadata": {},
       "output_type": "pyout",
       "prompt_number": 84,
       "text": [
        "Seq('CTATCGGGCACCCTTTCAGCGGCCCATTACAATGGCCAT', IUPACUnambiguousDNA())"
       ]
      }
     ],
     "prompt_number": 84
    },
    {
     "cell_type": "markdown",
     "metadata": {},
     "source": [
      "These should match the figure above - remember by convention nucleotide sequences are normally read from the 5\u2019 to 3\u2019 direction, while in the figure the template strand is shown reversed.\n",
      "\n",
      "Now let\u2019s transcribe the coding strand into the corresponding mRNA, using the Seq object\u2019s built in transcribe method:"
     ]
    },
    {
     "cell_type": "code",
     "collapsed": false,
     "input": [
      "coding_dna"
     ],
     "language": "python",
     "metadata": {},
     "outputs": [
      {
       "metadata": {},
       "output_type": "pyout",
       "prompt_number": 85,
       "text": [
        "Seq('ATGGCCATTGTAATGGGCCGCTGAAAGGGTGCCCGATAG', IUPACUnambiguousDNA())"
       ]
      }
     ],
     "prompt_number": 85
    },
    {
     "cell_type": "code",
     "collapsed": false,
     "input": [
      ">>> messenger_rna = coding_dna.transcribe()\n",
      ">>> messenger_rna"
     ],
     "language": "python",
     "metadata": {},
     "outputs": [
      {
       "metadata": {},
       "output_type": "pyout",
       "prompt_number": 86,
       "text": [
        "Seq('AUGGCCAUUGUAAUGGGCCGCUGAAAGGGUGCCCGAUAG', IUPACUnambiguousRNA())"
       ]
      }
     ],
     "prompt_number": 86
    },
    {
     "cell_type": "markdown",
     "metadata": {},
     "source": [
      "As you can see, all this does is switch T \u2192 U, and adjust the alphabet.\n",
      "\n",
      "If you do want to do a true biological transcription starting with the template strand, then this becomes a two-step process:"
     ]
    },
    {
     "cell_type": "code",
     "collapsed": false,
     "input": [
      ">>> template_dna.reverse_complement().transcribe()"
     ],
     "language": "python",
     "metadata": {},
     "outputs": [
      {
       "metadata": {},
       "output_type": "pyout",
       "prompt_number": 87,
       "text": [
        "Seq('AUGGCCAUUGUAAUGGGCCGCUGAAAGGGUGCCCGAUAG', IUPACUnambiguousRNA())"
       ]
      }
     ],
     "prompt_number": 87
    },
    {
     "cell_type": "markdown",
     "metadata": {},
     "source": [
      "The Seq object also includes a back-transcription method for going from the mRNA to the coding strand of the DNA. Again, this is a simple U \u2192 T substitution and associated change of alphabet:"
     ]
    },
    {
     "cell_type": "code",
     "collapsed": false,
     "input": [
      ">>> from Bio.Seq import Seq\n",
      ">>> from Bio.Alphabet import IUPAC\n",
      ">>> messenger_rna = Seq(\"AUGGCCAUUGUAAUGGGCCGCUGAAAGGGUGCCCGAUAG\", IUPAC.unambiguous_rna)"
     ],
     "language": "python",
     "metadata": {},
     "outputs": [],
     "prompt_number": 88
    },
    {
     "cell_type": "code",
     "collapsed": false,
     "input": [
      "messenger_rna"
     ],
     "language": "python",
     "metadata": {},
     "outputs": [
      {
       "metadata": {},
       "output_type": "pyout",
       "prompt_number": 89,
       "text": [
        "Seq('AUGGCCAUUGUAAUGGGCCGCUGAAAGGGUGCCCGAUAG', IUPACUnambiguousRNA())"
       ]
      }
     ],
     "prompt_number": 89
    },
    {
     "cell_type": "code",
     "collapsed": false,
     "input": [
      "messenger_rna.back_transcribe()"
     ],
     "language": "python",
     "metadata": {},
     "outputs": [
      {
       "metadata": {},
       "output_type": "pyout",
       "prompt_number": 90,
       "text": [
        "Seq('ATGGCCATTGTAATGGGCCGCTGAAAGGGTGCCCGATAG', IUPACUnambiguousDNA())"
       ]
      }
     ],
     "prompt_number": 90
    },
    {
     "cell_type": "markdown",
     "metadata": {},
     "source": [
      "Note: The Seq object\u2019s transcribe and back_transcribe methods were added in Biopython 1.49. For older releases you would have to use the Bio.Seq module\u2019s functions instead, see Section 3.14."
     ]
    },
    {
     "cell_type": "markdown",
     "metadata": {},
     "source": [
      "## 3.9  Translation"
     ]
    },
    {
     "cell_type": "markdown",
     "metadata": {},
     "source": [
      "> Sticking with the same example discussed in the transcription section above, now let\u2019s translate this mRNA into the corresponding protein sequence - again taking advantage of one of the Seq object\u2019s biological methods:"
     ]
    },
    {
     "cell_type": "code",
     "collapsed": false,
     "input": [
      ">>> from Bio.Seq import Seq\n",
      ">>> from Bio.Alphabet import IUPAC\n",
      ">>> messenger_rna = Seq(\"AUGGCCAUUGUAAUGGGCCGCUGAAAGGGUGCCCGAUAG\", IUPAC.unambiguous_rna)"
     ],
     "language": "python",
     "metadata": {},
     "outputs": [],
     "prompt_number": 91
    },
    {
     "cell_type": "code",
     "collapsed": false,
     "input": [
      "messenger_rna"
     ],
     "language": "python",
     "metadata": {},
     "outputs": [
      {
       "metadata": {},
       "output_type": "pyout",
       "prompt_number": 92,
       "text": [
        "Seq('AUGGCCAUUGUAAUGGGCCGCUGAAAGGGUGCCCGAUAG', IUPACUnambiguousRNA())"
       ]
      }
     ],
     "prompt_number": 92
    },
    {
     "cell_type": "code",
     "collapsed": false,
     "input": [
      "messenger_rna.translate()"
     ],
     "language": "python",
     "metadata": {},
     "outputs": [
      {
       "metadata": {},
       "output_type": "pyout",
       "prompt_number": 93,
       "text": [
        "Seq('MAIVMGR*KGAR*', HasStopCodon(IUPACProtein(), '*'))"
       ]
      }
     ],
     "prompt_number": 93
    },
    {
     "cell_type": "markdown",
     "metadata": {},
     "source": [
      "> You can also translate directly from the coding strand DNA sequence:"
     ]
    },
    {
     "cell_type": "code",
     "collapsed": false,
     "input": [
      ">>> from Bio.Seq import Seq\n",
      ">>> from Bio.Alphabet import IUPAC\n",
      ">>> coding_dna = Seq(\"ATGGCCATTGTAATGGGCCGCTGAAAGGGTGCCCGATAG\", IUPAC.unambiguous_dna)"
     ],
     "language": "python",
     "metadata": {},
     "outputs": [],
     "prompt_number": 95
    },
    {
     "cell_type": "code",
     "collapsed": false,
     "input": [
      "coding_dna"
     ],
     "language": "python",
     "metadata": {},
     "outputs": [
      {
       "metadata": {},
       "output_type": "pyout",
       "prompt_number": 96,
       "text": [
        "Seq('ATGGCCATTGTAATGGGCCGCTGAAAGGGTGCCCGATAG', IUPACUnambiguousDNA())"
       ]
      }
     ],
     "prompt_number": 96
    },
    {
     "cell_type": "code",
     "collapsed": false,
     "input": [
      "coding_dna.translate()"
     ],
     "language": "python",
     "metadata": {},
     "outputs": [
      {
       "metadata": {},
       "output_type": "pyout",
       "prompt_number": 97,
       "text": [
        "Seq('MAIVMGR*KGAR*', HasStopCodon(IUPACProtein(), '*'))"
       ]
      }
     ],
     "prompt_number": 97
    },
    {
     "cell_type": "markdown",
     "metadata": {},
     "source": [
      "You should notice in the above protein sequences that in addition to the end stop character, there is an internal stop as well. This was a deliberate choice of example, as it gives an excuse to talk about some optional arguments, including different translation tables (Genetic Codes).\n",
      "\n",
      "The translation tables available in Biopython are based on those from the NCBI (see the next section of this tutorial). By default, translation will use the standard genetic code (NCBI table id 1). Suppose we are dealing with a mitochondrial sequence. We need to tell the translation function to use the relevant genetic code instead:"
     ]
    },
    {
     "cell_type": "code",
     "collapsed": false,
     "input": [
      "coding_dna.translate(table=\"Vertebrate Mitochondrial\")"
     ],
     "language": "python",
     "metadata": {},
     "outputs": [
      {
       "metadata": {},
       "output_type": "pyout",
       "prompt_number": 98,
       "text": [
        "Seq('MAIVMGRWKGAR*', HasStopCodon(IUPACProtein(), '*'))"
       ]
      }
     ],
     "prompt_number": 98
    },
    {
     "cell_type": "markdown",
     "metadata": {},
     "source": [
      "> You can also specify the table using the NCBI table number which is shorter, and often included in the feature annotation of GenBank files:"
     ]
    },
    {
     "cell_type": "code",
     "collapsed": false,
     "input": [
      "coding_dna.translate(table=2)"
     ],
     "language": "python",
     "metadata": {},
     "outputs": [
      {
       "metadata": {},
       "output_type": "pyout",
       "prompt_number": 99,
       "text": [
        "Seq('MAIVMGRWKGAR*', HasStopCodon(IUPACProtein(), '*'))"
       ]
      }
     ],
     "prompt_number": 99
    },
    {
     "cell_type": "markdown",
     "metadata": {},
     "source": [
      "> Now, you may want to translate the nucleotides up to the first in frame stop codon, and then stop (as happens in nature):"
     ]
    },
    {
     "cell_type": "code",
     "collapsed": false,
     "input": [
      "coding_dna.translate()"
     ],
     "language": "python",
     "metadata": {},
     "outputs": [
      {
       "metadata": {},
       "output_type": "pyout",
       "prompt_number": 100,
       "text": [
        "Seq('MAIVMGR*KGAR*', HasStopCodon(IUPACProtein(), '*'))"
       ]
      }
     ],
     "prompt_number": 100
    },
    {
     "cell_type": "code",
     "collapsed": false,
     "input": [
      "coding_dna.translate(to_stop=True)"
     ],
     "language": "python",
     "metadata": {},
     "outputs": [
      {
       "metadata": {},
       "output_type": "pyout",
       "prompt_number": 101,
       "text": [
        "Seq('MAIVMGR', IUPACProtein())"
       ]
      }
     ],
     "prompt_number": 101
    },
    {
     "cell_type": "code",
     "collapsed": false,
     "input": [
      "coding_dna.translate(table=2)"
     ],
     "language": "python",
     "metadata": {},
     "outputs": [
      {
       "metadata": {},
       "output_type": "pyout",
       "prompt_number": 102,
       "text": [
        "Seq('MAIVMGRWKGAR*', HasStopCodon(IUPACProtein(), '*'))"
       ]
      }
     ],
     "prompt_number": 102
    },
    {
     "cell_type": "code",
     "collapsed": false,
     "input": [
      "coding_dna.translate(table=2, to_stop=True)"
     ],
     "language": "python",
     "metadata": {},
     "outputs": [
      {
       "metadata": {},
       "output_type": "pyout",
       "prompt_number": 103,
       "text": [
        "Seq('MAIVMGRWKGAR', IUPACProtein())"
       ]
      }
     ],
     "prompt_number": 103
    },
    {
     "cell_type": "markdown",
     "metadata": {},
     "source": [
      "Notice that when you use the to_stop argument, the stop codon itself is not translated - and the stop symbol is not included at the end of your protein sequence.\n",
      "\n",
      "You can even specify the stop symbol if you don\u2019t like the default asterisk:"
     ]
    },
    {
     "cell_type": "code",
     "collapsed": false,
     "input": [
      "coding_dna.translate(table=2, stop_symbol=\"@\")"
     ],
     "language": "python",
     "metadata": {},
     "outputs": [
      {
       "metadata": {},
       "output_type": "pyout",
       "prompt_number": 104,
       "text": [
        "Seq('MAIVMGRWKGAR@', HasStopCodon(IUPACProtein(), '@'))"
       ]
      }
     ],
     "prompt_number": 104
    },
    {
     "cell_type": "markdown",
     "metadata": {},
     "source": [
      "Now, suppose you have a complete coding sequence CDS, which is to say a nucleotide sequence (e.g. mRNA \u2013 after any splicing) which is a whole number of codons (i.e. the length is a multiple of three), commences with a start codon, ends with a stop codon, and has no internal in-frame stop codons. In general, given a complete CDS, the default translate method will do what you want (perhaps with the to_stop option). However, what if your sequence uses a non-standard start codon? This happens a lot in bacteria \u2013 for example the gene yaaX in E. coli K12:"
     ]
    },
    {
     "cell_type": "code",
     "collapsed": false,
     "input": [
      ">>> from Bio.Seq import Seq\n",
      ">>> from Bio.Alphabet import generic_dna\n",
      ">>> gene = Seq(\"GTGAAAAAGATGCAATCTATCGTACTCGCACTTTCCCTGGTTCTGGTCGCTCCCATGGCA\" + \\\n",
      "...            \"GCACAGGCTGCGGAAATTACGTTAGTCCCGTCAGTAAAATTACAGATAGGCGATCGTGAT\" + \\\n",
      "...            \"AATCGTGGCTATTACTGGGATGGAGGTCACTGGCGCGACCACGGCTGGTGGAAACAACAT\" + \\\n",
      "...            \"TATGAATGGCGAGGCAATCGCTGGCACCTACACGGACCGCCGCCACCGCCGCGCCACCAT\" + \\\n",
      "...            \"AAGAAAGCTCCTCATGATCATCACGGCGGTCATGGTCCAGGCAAACATCACCGCTAA\",\n",
      "...            generic_dna)"
     ],
     "language": "python",
     "metadata": {},
     "outputs": [],
     "prompt_number": 105
    },
    {
     "cell_type": "code",
     "collapsed": false,
     "input": [
      "gene.translate(table=\"Bacterial\")"
     ],
     "language": "python",
     "metadata": {},
     "outputs": [
      {
       "metadata": {},
       "output_type": "pyout",
       "prompt_number": 106,
       "text": [
        "Seq('VKKMQSIVLALSLVLVAPMAAQAAEITLVPSVKLQIGDRDNRGYYWDGGHWRDH...HR*', HasStopCodon(ExtendedIUPACProtein(), '*'))"
       ]
      }
     ],
     "prompt_number": 106
    },
    {
     "cell_type": "code",
     "collapsed": false,
     "input": [
      "gene.translate(table=\"Bacterial\", to_stop=True)"
     ],
     "language": "python",
     "metadata": {},
     "outputs": [
      {
       "metadata": {},
       "output_type": "pyout",
       "prompt_number": 107,
       "text": [
        "Seq('VKKMQSIVLALSLVLVAPMAAQAAEITLVPSVKLQIGDRDNRGYYWDGGHWRDH...HHR', ExtendedIUPACProtein())"
       ]
      }
     ],
     "prompt_number": 107
    },
    {
     "cell_type": "markdown",
     "metadata": {},
     "source": [
      "In the bacterial genetic code GTG is a valid start codon, and while it does normally encode Valine, if used as a start codon it should be translated as methionine. This happens if you tell Biopython your sequence is a complete CDS:"
     ]
    },
    {
     "cell_type": "code",
     "collapsed": false,
     "input": [
      "gene.translate(table=\"Bacterial\", cds=True)"
     ],
     "language": "python",
     "metadata": {},
     "outputs": [
      {
       "metadata": {},
       "output_type": "pyout",
       "prompt_number": 108,
       "text": [
        "Seq('MKKMQSIVLALSLVLVAPMAAQAAEITLVPSVKLQIGDRDNRGYYWDGGHWRDH...HHR', ExtendedIUPACProtein())"
       ]
      }
     ],
     "prompt_number": 108
    },
    {
     "cell_type": "markdown",
     "metadata": {},
     "source": [
      "In addition to telling Biopython to translate an alternative start codon as methionine, using this option also makes sure your sequence really is a valid CDS (you\u2019ll get an exception if not).\n",
      "\n",
      "The example in Section 18.1.3 combines the Seq object\u2019s translate method with Bio.SeqIO for sequence input/output."
     ]
    },
    {
     "cell_type": "markdown",
     "metadata": {},
     "source": [
      "## 3.10  Translation Tables"
     ]
    },
    {
     "cell_type": "markdown",
     "metadata": {},
     "source": [
      "In the previous sections we talked about the Seq object translation method (and mentioned the equivalent function in the Bio.Seq module \u2013 see Section 3.14). Internally these use codon table objects derived from the NCBI information at ftp://ftp.ncbi.nlm.nih.gov/entrez/misc/data/gc.prt, also shown on http://www.ncbi.nlm.nih.gov/Taxonomy/Utils/wprintgc.cgi in a much more readable layout.\n",
      "\n",
      "As before, let\u2019s just focus on two choices: the Standard translation table, and the translation table for Vertebrate Mitochondrial DNA."
     ]
    },
    {
     "cell_type": "code",
     "collapsed": false,
     "input": [
      ">>> from Bio.Data import CodonTable\n",
      ">>> standard_table = CodonTable.unambiguous_dna_by_name[\"Standard\"]\n",
      ">>> mito_table = CodonTable.unambiguous_dna_by_name[\"Vertebrate Mitochondrial\"]"
     ],
     "language": "python",
     "metadata": {},
     "outputs": [],
     "prompt_number": 109
    },
    {
     "cell_type": "markdown",
     "metadata": {},
     "source": [
      "Alternatively, these tables are labeled with ID numbers 1 and 2, respectively:"
     ]
    },
    {
     "cell_type": "code",
     "collapsed": false,
     "input": [
      ">>> from Bio.Data import CodonTable\n",
      ">>> standard_table = CodonTable.unambiguous_dna_by_id[1]\n",
      ">>> mito_table = CodonTable.unambiguous_dna_by_id[2]"
     ],
     "language": "python",
     "metadata": {},
     "outputs": [],
     "prompt_number": 110
    },
    {
     "cell_type": "markdown",
     "metadata": {},
     "source": [
      "You can compare the actual tables visually by printing them:"
     ]
    },
    {
     "cell_type": "code",
     "collapsed": false,
     "input": [
      "print(standard_table)"
     ],
     "language": "python",
     "metadata": {},
     "outputs": [
      {
       "output_type": "stream",
       "stream": "stdout",
       "text": [
        "Table 1 Standard, SGC0\n",
        "\n",
        "  |  T      |  C      |  A      |  G      |\n",
        "--+---------+---------+---------+---------+--\n",
        "T | TTT F   | TCT S   | TAT Y   | TGT C   | T\n",
        "T | TTC F   | TCC S   | TAC Y   | TGC C   | C\n",
        "T | TTA L   | TCA S   | TAA Stop| TGA Stop| A\n",
        "T | TTG L(s)| TCG S   | TAG Stop| TGG W   | G\n",
        "--+---------+---------+---------+---------+--\n",
        "C | CTT L   | CCT P   | CAT H   | CGT R   | T\n",
        "C | CTC L   | CCC P   | CAC H   | CGC R   | C\n",
        "C | CTA L   | CCA P   | CAA Q   | CGA R   | A\n",
        "C | CTG L(s)| CCG P   | CAG Q   | CGG R   | G\n",
        "--+---------+---------+---------+---------+--\n",
        "A | ATT I   | ACT T   | AAT N   | AGT S   | T\n",
        "A | ATC I   | ACC T   | AAC N   | AGC S   | C\n",
        "A | ATA I   | ACA T   | AAA K   | AGA R   | A\n",
        "A | ATG M(s)| ACG T   | AAG K   | AGG R   | G\n",
        "--+---------+---------+---------+---------+--\n",
        "G | GTT V   | GCT A   | GAT D   | GGT G   | T\n",
        "G | GTC V   | GCC A   | GAC D   | GGC G   | C\n",
        "G | GTA V   | GCA A   | GAA E   | GGA G   | A\n",
        "G | GTG V   | GCG A   | GAG E   | GGG G   | G\n",
        "--+---------+---------+---------+---------+--\n"
       ]
      }
     ],
     "prompt_number": 111
    },
    {
     "cell_type": "code",
     "collapsed": false,
     "input": [
      "print(mito_table)"
     ],
     "language": "python",
     "metadata": {},
     "outputs": [
      {
       "output_type": "stream",
       "stream": "stdout",
       "text": [
        "Table 2 Vertebrate Mitochondrial, SGC1\n",
        "\n",
        "  |  T      |  C      |  A      |  G      |\n",
        "--+---------+---------+---------+---------+--\n",
        "T | TTT F   | TCT S   | TAT Y   | TGT C   | T\n",
        "T | TTC F   | TCC S   | TAC Y   | TGC C   | C\n",
        "T | TTA L   | TCA S   | TAA Stop| TGA W   | A\n",
        "T | TTG L   | TCG S   | TAG Stop| TGG W   | G\n",
        "--+---------+---------+---------+---------+--\n",
        "C | CTT L   | CCT P   | CAT H   | CGT R   | T\n",
        "C | CTC L   | CCC P   | CAC H   | CGC R   | C\n",
        "C | CTA L   | CCA P   | CAA Q   | CGA R   | A\n",
        "C | CTG L   | CCG P   | CAG Q   | CGG R   | G\n",
        "--+---------+---------+---------+---------+--\n",
        "A | ATT I(s)| ACT T   | AAT N   | AGT S   | T\n",
        "A | ATC I(s)| ACC T   | AAC N   | AGC S   | C\n",
        "A | ATA M(s)| ACA T   | AAA K   | AGA Stop| A\n",
        "A | ATG M(s)| ACG T   | AAG K   | AGG Stop| G\n",
        "--+---------+---------+---------+---------+--\n",
        "G | GTT V   | GCT A   | GAT D   | GGT G   | T\n",
        "G | GTC V   | GCC A   | GAC D   | GGC G   | C\n",
        "G | GTA V   | GCA A   | GAA E   | GGA G   | A\n",
        "G | GTG V(s)| GCG A   | GAG E   | GGG G   | G\n",
        "--+---------+---------+---------+---------+--\n"
       ]
      }
     ],
     "prompt_number": 112
    },
    {
     "cell_type": "markdown",
     "metadata": {},
     "source": [
      "You may find these following properties useful \u2013 for example if you are trying to do your own gene finding:"
     ]
    },
    {
     "cell_type": "code",
     "collapsed": false,
     "input": [
      "mito_table.stop_codons"
     ],
     "language": "python",
     "metadata": {},
     "outputs": [
      {
       "metadata": {},
       "output_type": "pyout",
       "prompt_number": 113,
       "text": [
        "['TAA', 'TAG', 'AGA', 'AGG']"
       ]
      }
     ],
     "prompt_number": 113
    },
    {
     "cell_type": "code",
     "collapsed": false,
     "input": [
      "mito_table.start_codons"
     ],
     "language": "python",
     "metadata": {},
     "outputs": [
      {
       "metadata": {},
       "output_type": "pyout",
       "prompt_number": 114,
       "text": [
        "['ATT', 'ATC', 'ATA', 'ATG', 'GTG']"
       ]
      }
     ],
     "prompt_number": 114
    },
    {
     "cell_type": "code",
     "collapsed": false,
     "input": [
      "mito_table.forward_table[\"ACG\"]"
     ],
     "language": "python",
     "metadata": {},
     "outputs": [
      {
       "metadata": {},
       "output_type": "pyout",
       "prompt_number": 115,
       "text": [
        "'T'"
       ]
      }
     ],
     "prompt_number": 115
    },
    {
     "cell_type": "markdown",
     "metadata": {},
     "source": [
      "## 3.11  Comparing Seq objects"
     ]
    },
    {
     "cell_type": "markdown",
     "metadata": {},
     "source": [
      "Sequence comparison is actually a very complicated topic, and there is no easy way to decide if two sequences are equal. The basic problem is the meaning of the letters in a sequence are context dependent - the letter \u201cA\u201d could be part of a DNA, RNA or protein sequence. Biopython uses alphabet objects as part of each Seq object to try and capture this information - so comparing two Seq objects means considering both the sequence strings and the alphabets.\n",
      "\n",
      "For example, you might argue that the two DNA Seq objects Seq(\"ACGT\", IUPAC.unambiguous_dna) and Seq(\"ACGT\", IUPAC.ambiguous_dna) should be equal, even though they do have different alphabets. Depending on the context this could be important.\n",
      "\n",
      "This gets worse \u2013 suppose you think Seq(\"ACGT\", IUPAC.unambiguous_dna) and Seq(\"ACGT\") (i.e. the default generic alphabet) should be equal. Then, logically, Seq(\"ACGT\", IUPAC.protein) and Seq(\"ACGT\") should also be equal. Now, in logic if A=B and B=C, by transitivity we expect A=C. So for logical consistency we\u2019d require Seq(\"ACGT\", IUPAC.unambiguous_dna) and Seq(\"ACGT\", IUPAC.protein) to be equal \u2013 which most people would agree is just not right. This transitivity problem would also have implications for using Seq objects as Python dictionary keys."
     ]
    },
    {
     "cell_type": "code",
     "collapsed": false,
     "input": [
      ">>> from Bio.Seq import Seq\n",
      ">>> from Bio.Alphabet import IUPAC\n",
      ">>> seq1 = Seq(\"ACGT\", IUPAC.unambiguous_dna)\n",
      ">>> seq2 = Seq(\"ACGT\", IUPAC.unambiguous_dna)"
     ],
     "language": "python",
     "metadata": {},
     "outputs": [],
     "prompt_number": 116
    },
    {
     "cell_type": "markdown",
     "metadata": {},
     "source": [
      "So, what does Biopython do? Well, the equality test is the default for Python objects \u2013 it tests to see if they are the same object in memory. This is a very strict test:"
     ]
    },
    {
     "cell_type": "code",
     "collapsed": false,
     "input": [
      "seq1 == seq2"
     ],
     "language": "python",
     "metadata": {},
     "outputs": [
      {
       "metadata": {},
       "output_type": "pyout",
       "prompt_number": 118,
       "text": [
        "False"
       ]
      }
     ],
     "prompt_number": 118
    },
    {
     "cell_type": "code",
     "collapsed": false,
     "input": [
      "seq1 == seq1"
     ],
     "language": "python",
     "metadata": {},
     "outputs": [
      {
       "metadata": {},
       "output_type": "pyout",
       "prompt_number": 119,
       "text": [
        "True"
       ]
      }
     ],
     "prompt_number": 119
    },
    {
     "cell_type": "markdown",
     "metadata": {},
     "source": [
      "If you actually want to do this, you can be more explicit by using the Python id function,"
     ]
    },
    {
     "cell_type": "code",
     "collapsed": false,
     "input": [
      "id(seq1) == id(seq2)"
     ],
     "language": "python",
     "metadata": {},
     "outputs": [
      {
       "metadata": {},
       "output_type": "pyout",
       "prompt_number": 120,
       "text": [
        "False"
       ]
      }
     ],
     "prompt_number": 120
    },
    {
     "cell_type": "code",
     "collapsed": false,
     "input": [
      "id(seq1) == id(seq1)"
     ],
     "language": "python",
     "metadata": {},
     "outputs": [
      {
       "metadata": {},
       "output_type": "pyout",
       "prompt_number": 121,
       "text": [
        "True"
       ]
      }
     ],
     "prompt_number": 121
    },
    {
     "cell_type": "markdown",
     "metadata": {},
     "source": [
      "Now, in every day use, your sequences will probably all have the same alphabet, or at least all be the same type of sequence (all DNA, all RNA, or all protein). What you probably want is to just compare the sequences as strings \u2013 so do this explicitly:"
     ]
    },
    {
     "cell_type": "code",
     "collapsed": false,
     "input": [
      "str(seq1) == str(seq2)"
     ],
     "language": "python",
     "metadata": {},
     "outputs": [
      {
       "metadata": {},
       "output_type": "pyout",
       "prompt_number": 122,
       "text": [
        "True"
       ]
      }
     ],
     "prompt_number": 122
    },
    {
     "cell_type": "code",
     "collapsed": false,
     "input": [
      "str(seq1) == str(seq1)"
     ],
     "language": "python",
     "metadata": {},
     "outputs": [
      {
       "metadata": {},
       "output_type": "pyout",
       "prompt_number": 123,
       "text": [
        "True"
       ]
      }
     ],
     "prompt_number": 123
    },
    {
     "cell_type": "markdown",
     "metadata": {},
     "source": [
      "As an extension to this, while you can use a Python dictionary with Seq objects as keys, it is generally more useful to use the sequence a string for the key. See also Section 3.4."
     ]
    },
    {
     "cell_type": "markdown",
     "metadata": {},
     "source": [
      "## 3.12  MutableSeq objects"
     ]
    },
    {
     "cell_type": "markdown",
     "metadata": {},
     "source": [
      "Just like the normal Python string, the Seq object is \u201cread only\u201d, or in Python terminology, immutable. Apart from wanting the Seq object to act like a string, this is also a useful default since in many biological applications you want to ensure you are not changing your sequence data:"
     ]
    },
    {
     "cell_type": "code",
     "collapsed": false,
     "input": [
      ">>> from Bio.Seq import Seq\n",
      ">>> from Bio.Alphabet import IUPAC\n",
      ">>> my_seq = Seq(\"GCCATTGTAATGGGCCGCTGAAAGGGTGCCCGA\", IUPAC.unambiguous_dna)"
     ],
     "language": "python",
     "metadata": {},
     "outputs": [],
     "prompt_number": 124
    },
    {
     "cell_type": "markdown",
     "metadata": {},
     "source": [
      "Observe what happens if you try to edit the sequence:"
     ]
    },
    {
     "cell_type": "code",
     "collapsed": false,
     "input": [
      "my_seq[5] = \"G\""
     ],
     "language": "python",
     "metadata": {},
     "outputs": [
      {
       "ename": "TypeError",
       "evalue": "'Seq' object does not support item assignment",
       "output_type": "pyerr",
       "traceback": [
        "\u001b[0;31m---------------------------------------------------------------------------\u001b[0m\n\u001b[0;31mTypeError\u001b[0m                                 Traceback (most recent call last)",
        "\u001b[0;32m<ipython-input-125-56a40d7fb976>\u001b[0m in \u001b[0;36m<module>\u001b[0;34m()\u001b[0m\n\u001b[0;32m----> 1\u001b[0;31m \u001b[0mmy_seq\u001b[0m\u001b[0;34m[\u001b[0m\u001b[0;36m5\u001b[0m\u001b[0;34m]\u001b[0m \u001b[0;34m=\u001b[0m \u001b[0;34m\"G\"\u001b[0m\u001b[0;34m\u001b[0m\u001b[0m\n\u001b[0m",
        "\u001b[0;31mTypeError\u001b[0m: 'Seq' object does not support item assignment"
       ]
      }
     ],
     "prompt_number": 125
    },
    {
     "cell_type": "markdown",
     "metadata": {},
     "source": [
      "> However, you can convert it into a mutable sequence (a MutableSeq object) and do pretty much anything you want with it:"
     ]
    },
    {
     "cell_type": "code",
     "collapsed": false,
     "input": [
      ">>> mutable_seq = my_seq.tomutable()\n",
      ">>> mutable_seq"
     ],
     "language": "python",
     "metadata": {},
     "outputs": [
      {
       "metadata": {},
       "output_type": "pyout",
       "prompt_number": 126,
       "text": [
        "MutableSeq('GCCATTGTAATGGGCCGCTGAAAGGGTGCCCGA', IUPACUnambiguousDNA())"
       ]
      }
     ],
     "prompt_number": 126
    },
    {
     "cell_type": "markdown",
     "metadata": {},
     "source": [
      "> Alternatively, you can create a MutableSeq object directly from a string:"
     ]
    },
    {
     "cell_type": "code",
     "collapsed": false,
     "input": [
      ">>> from Bio.Seq import MutableSeq\n",
      ">>> from Bio.Alphabet import IUPAC\n",
      ">>> mutable_seq = MutableSeq(\"GCCATTGTAATGGGCCGCTGAAAGGGTGCCCGA\", IUPAC.unambiguous_dna)"
     ],
     "language": "python",
     "metadata": {},
     "outputs": [],
     "prompt_number": 128
    },
    {
     "cell_type": "markdown",
     "metadata": {},
     "source": [
      "> Either way will give you a sequence object which can be changed:"
     ]
    },
    {
     "cell_type": "code",
     "collapsed": false,
     "input": [
      "mutable_seq"
     ],
     "language": "python",
     "metadata": {},
     "outputs": [
      {
       "metadata": {},
       "output_type": "pyout",
       "prompt_number": 130,
       "text": [
        "MutableSeq('GCCATTGTAATGGGCCGCTGAAAGGGTGCCCGA', IUPACUnambiguousDNA())"
       ]
      }
     ],
     "prompt_number": 130
    },
    {
     "cell_type": "code",
     "collapsed": false,
     "input": [
      ">>> mutable_seq[5] = \"C\"\n",
      ">>> mutable_seq"
     ],
     "language": "python",
     "metadata": {},
     "outputs": [
      {
       "metadata": {},
       "output_type": "pyout",
       "prompt_number": 131,
       "text": [
        "MutableSeq('GCCATCGTAATGGGCCGCTGAAAGGGTGCCCGA', IUPACUnambiguousDNA())"
       ]
      }
     ],
     "prompt_number": 131
    },
    {
     "cell_type": "code",
     "collapsed": false,
     "input": [
      ">>> mutable_seq.remove(\"T\")\n",
      ">>> mutable_seq"
     ],
     "language": "python",
     "metadata": {},
     "outputs": [
      {
       "metadata": {},
       "output_type": "pyout",
       "prompt_number": 132,
       "text": [
        "MutableSeq('GCCACGTAATGGGCCGCTGAAAGGGTGCCCGA', IUPACUnambiguousDNA())"
       ]
      }
     ],
     "prompt_number": 132
    },
    {
     "cell_type": "code",
     "collapsed": false,
     "input": [
      ">>> mutable_seq.reverse()\n",
      ">>> mutable_seq"
     ],
     "language": "python",
     "metadata": {},
     "outputs": [
      {
       "metadata": {},
       "output_type": "pyout",
       "prompt_number": 133,
       "text": [
        "MutableSeq('AGCCCGTGGGAAAGTCGCCGGGTAATGCACCG', IUPACUnambiguousDNA())"
       ]
      }
     ],
     "prompt_number": 133
    },
    {
     "cell_type": "markdown",
     "metadata": {},
     "source": [
      "Do note that unlike the Seq object, the MutableSeq object\u2019s methods like reverse_complement() and reverse() act in-situ!\n",
      "\n",
      "An important technical difference between mutable and immutable objects in Python means that you can\u2019t use a MutableSeq object as a dictionary key, but you can use a Python string or a Seq object in this way.\n",
      "\n",
      "Once you have finished editing your a MutableSeq object, it\u2019s easy to get back to a read-only Seq object should you need to:"
     ]
    },
    {
     "cell_type": "code",
     "collapsed": false,
     "input": [
      ">>> new_seq = mutable_seq.toseq()\n",
      ">>> new_seq"
     ],
     "language": "python",
     "metadata": {},
     "outputs": [
      {
       "metadata": {},
       "output_type": "pyout",
       "prompt_number": 134,
       "text": [
        "Seq('AGCCCGTGGGAAAGTCGCCGGGTAATGCACCG', IUPACUnambiguousDNA())"
       ]
      }
     ],
     "prompt_number": 134
    },
    {
     "cell_type": "markdown",
     "metadata": {},
     "source": [
      "You can also get a string from a MutableSeq object just like from a Seq object (Section 3.4)."
     ]
    },
    {
     "cell_type": "markdown",
     "metadata": {},
     "source": [
      "## 3.13  UnknownSeq objects"
     ]
    },
    {
     "cell_type": "markdown",
     "metadata": {},
     "source": [
      "The UnknownSeq object is a subclass of the basic Seq object and its purpose is to represent a sequence where we know the length, but not the actual letters making it up. You could of course use a normal Seq object in this situation, but it wastes rather a lot of memory to hold a string of a million \u201cN\u201d characters when you could just store a single letter \u201cN\u201d and the desired length as an integer."
     ]
    },
    {
     "cell_type": "code",
     "collapsed": false,
     "input": [
      ">>> from Bio.Seq import UnknownSeq\n",
      ">>> unk = UnknownSeq(20)\n",
      ">>> unk"
     ],
     "language": "python",
     "metadata": {},
     "outputs": [
      {
       "metadata": {},
       "output_type": "pyout",
       "prompt_number": 135,
       "text": [
        "UnknownSeq(20, alphabet = Alphabet(), character = '?')"
       ]
      }
     ],
     "prompt_number": 135
    },
    {
     "cell_type": "code",
     "collapsed": false,
     "input": [
      "print(unk)"
     ],
     "language": "python",
     "metadata": {},
     "outputs": [
      {
       "output_type": "stream",
       "stream": "stdout",
       "text": [
        "????????????????????\n"
       ]
      }
     ],
     "prompt_number": 136
    },
    {
     "cell_type": "code",
     "collapsed": false,
     "input": [
      "len(unk)"
     ],
     "language": "python",
     "metadata": {},
     "outputs": [
      {
       "metadata": {},
       "output_type": "pyout",
       "prompt_number": 137,
       "text": [
        "20"
       ]
      }
     ],
     "prompt_number": 137
    },
    {
     "cell_type": "markdown",
     "metadata": {},
     "source": [
      "You can of course specify an alphabet, meaning for nucleotide sequences the letter defaults to \u201cN\u201d and for proteins \u201cX\u201d, rather than just \u201c?\u201d."
     ]
    },
    {
     "cell_type": "code",
     "collapsed": false,
     "input": [
      ">>> from Bio.Seq import UnknownSeq\n",
      ">>> from Bio.Alphabet import IUPAC\n",
      ">>> unk_dna = UnknownSeq(20, alphabet=IUPAC.ambiguous_dna)\n",
      ">>> unk_dna"
     ],
     "language": "python",
     "metadata": {},
     "outputs": [
      {
       "metadata": {},
       "output_type": "pyout",
       "prompt_number": 138,
       "text": [
        "UnknownSeq(20, alphabet = IUPACAmbiguousDNA(), character = 'N')"
       ]
      }
     ],
     "prompt_number": 138
    },
    {
     "cell_type": "code",
     "collapsed": false,
     "input": [
      "print(unk_dna)"
     ],
     "language": "python",
     "metadata": {},
     "outputs": [
      {
       "output_type": "stream",
       "stream": "stdout",
       "text": [
        "NNNNNNNNNNNNNNNNNNNN\n"
       ]
      }
     ],
     "prompt_number": 139
    },
    {
     "cell_type": "markdown",
     "metadata": {},
     "source": [
      "You can use all the usual Seq object methods too, note these give back memory saving UnknownSeq objects where appropriate as you might expect:"
     ]
    },
    {
     "cell_type": "code",
     "collapsed": false,
     "input": [
      "unk_dna "
     ],
     "language": "python",
     "metadata": {},
     "outputs": [
      {
       "metadata": {},
       "output_type": "pyout",
       "prompt_number": 140,
       "text": [
        "UnknownSeq(20, alphabet = IUPACAmbiguousDNA(), character = 'N')"
       ]
      }
     ],
     "prompt_number": 140
    },
    {
     "cell_type": "code",
     "collapsed": false,
     "input": [
      "unk_dna.complement()"
     ],
     "language": "python",
     "metadata": {},
     "outputs": [
      {
       "metadata": {},
       "output_type": "pyout",
       "prompt_number": 141,
       "text": [
        "UnknownSeq(20, alphabet = IUPACAmbiguousDNA(), character = 'N')"
       ]
      }
     ],
     "prompt_number": 141
    },
    {
     "cell_type": "code",
     "collapsed": false,
     "input": [
      "unk_dna.reverse_complement()"
     ],
     "language": "python",
     "metadata": {},
     "outputs": [
      {
       "metadata": {},
       "output_type": "pyout",
       "prompt_number": 142,
       "text": [
        "UnknownSeq(20, alphabet = IUPACAmbiguousDNA(), character = 'N')"
       ]
      }
     ],
     "prompt_number": 142
    },
    {
     "cell_type": "code",
     "collapsed": false,
     "input": [
      "unk_dna.transcribe()"
     ],
     "language": "python",
     "metadata": {},
     "outputs": [
      {
       "metadata": {},
       "output_type": "pyout",
       "prompt_number": 143,
       "text": [
        "UnknownSeq(20, alphabet = IUPACAmbiguousRNA(), character = 'N')"
       ]
      }
     ],
     "prompt_number": 143
    },
    {
     "cell_type": "code",
     "collapsed": false,
     "input": [
      "unk_protein = unk_dna.translate()"
     ],
     "language": "python",
     "metadata": {},
     "outputs": [],
     "prompt_number": 144
    },
    {
     "cell_type": "code",
     "collapsed": false,
     "input": [
      "unk_protein "
     ],
     "language": "python",
     "metadata": {},
     "outputs": [
      {
       "metadata": {},
       "output_type": "pyout",
       "prompt_number": 145,
       "text": [
        "UnknownSeq(6, alphabet = ProteinAlphabet(), character = 'X')"
       ]
      }
     ],
     "prompt_number": 145
    },
    {
     "cell_type": "code",
     "collapsed": false,
     "input": [
      "print(unk_protein)"
     ],
     "language": "python",
     "metadata": {},
     "outputs": [
      {
       "output_type": "stream",
       "stream": "stdout",
       "text": [
        "XXXXXX\n"
       ]
      }
     ],
     "prompt_number": 146
    },
    {
     "cell_type": "code",
     "collapsed": false,
     "input": [
      "len(unk_protein)"
     ],
     "language": "python",
     "metadata": {},
     "outputs": [
      {
       "metadata": {},
       "output_type": "pyout",
       "prompt_number": 147,
       "text": [
        "6"
       ]
      }
     ],
     "prompt_number": 147
    },
    {
     "cell_type": "markdown",
     "metadata": {},
     "source": [
      "You may be able to find a use for the UnknownSeq object in your own code, but it is more likely that you will first come across them in a SeqRecord object created by Bio.SeqIO (see Chapter 5). Some sequence file formats don\u2019t always include the actual sequence, for example GenBank and EMBL files may include a list of features but for the sequence just present the contig information. Alternatively, the QUAL files used in sequencing work hold quality scores but they never contain a sequence \u2013 instead there is a partner FASTA file which does have the sequence."
     ]
    },
    {
     "cell_type": "markdown",
     "metadata": {},
     "source": [
      "## 3.14  Working with strings directly"
     ]
    },
    {
     "cell_type": "markdown",
     "metadata": {},
     "source": [
      "To close this chapter, for those you who really don\u2019t want to use the sequence objects (or who prefer a functional programming style to an object orientated one), there are module level functions in Bio.Seq will accept plain Python strings, Seq objects (including UnknownSeq objects) or MutableSeq objects:"
     ]
    },
    {
     "cell_type": "code",
     "collapsed": false,
     "input": [
      ">>> from Bio.Seq import reverse_complement, transcribe, back_transcribe, translate\n",
      ">>> my_string = \"GCTGTTATGGGTCGTTGGAAGGGTGGTCGTGCTGCTGGTTAG\"\n",
      ">>> reverse_complement(my_string)"
     ],
     "language": "python",
     "metadata": {},
     "outputs": [
      {
       "metadata": {},
       "output_type": "pyout",
       "prompt_number": 148,
       "text": [
        "'CTAACCAGCAGCACGACCACCCTTCCAACGACCCATAACAGC'"
       ]
      }
     ],
     "prompt_number": 148
    },
    {
     "cell_type": "code",
     "collapsed": false,
     "input": [
      "transcribe(my_string)"
     ],
     "language": "python",
     "metadata": {},
     "outputs": [
      {
       "metadata": {},
       "output_type": "pyout",
       "prompt_number": 149,
       "text": [
        "'GCUGUUAUGGGUCGUUGGAAGGGUGGUCGUGCUGCUGGUUAG'"
       ]
      }
     ],
     "prompt_number": 149
    },
    {
     "cell_type": "code",
     "collapsed": false,
     "input": [
      "back_transcribe(my_string)"
     ],
     "language": "python",
     "metadata": {},
     "outputs": [
      {
       "metadata": {},
       "output_type": "pyout",
       "prompt_number": 150,
       "text": [
        "'GCTGTTATGGGTCGTTGGAAGGGTGGTCGTGCTGCTGGTTAG'"
       ]
      }
     ],
     "prompt_number": 150
    },
    {
     "cell_type": "code",
     "collapsed": false,
     "input": [
      "translate(my_string)"
     ],
     "language": "python",
     "metadata": {},
     "outputs": [
      {
       "metadata": {},
       "output_type": "pyout",
       "prompt_number": 152,
       "text": [
        "'AVMGRWKGGRAAG*'"
       ]
      }
     ],
     "prompt_number": 152
    },
    {
     "cell_type": "markdown",
     "metadata": {},
     "source": [
      "You are, however, encouraged to work with Seq objects by default."
     ]
    },
    {
     "cell_type": "markdown",
     "metadata": {},
     "source": [
      "[Back to Top](#top)"
     ]
    }
   ],
   "metadata": {}
  }
 ]
}