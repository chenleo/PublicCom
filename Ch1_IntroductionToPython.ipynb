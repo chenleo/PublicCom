{
 "metadata": {
  "name": "",
  "signature": "sha256:d6df9d061d159ebe8e54ca62a3ddc8b34f8e7547aecf95c1d4024013b96edee9"
 },
 "nbformat": 3,
 "nbformat_minor": 0,
 "worksheets": [
  {
   "cells": [
    {
     "cell_type": "markdown",
     "metadata": {},
     "source": [
      "<style>\n",
      "div.cell, div.text_cell_render{\n",
      "  max-width:750px;\n",
      "  margin-left:auto;\n",
      "  margin-right:auto;\n",
      "}\n",
      " \n",
      ".rendered_html\n",
      "{\n",
      "  font-size: 140%;\n",
      "  }\n",
      " \n",
      ".rendered_html li\n",
      "{\n",
      "  line-height: 1.8;\n",
      "  }\n",
      " \n",
      ".rendered_html h1, h2 {\n",
      "  text-align:center;\n",
      "  font-familly:\"Charis SIL\", serif;\n",
      "}\n",
      " \n",
      ".input_prompt, .CodeMirror-lines, .output_area\n",
      "{\n",
      "  font-family: Consolas;\n",
      "  font-size: 120%;\n",
      "  }\n",
      "</style>"
     ]
    },
    {
     "cell_type": "markdown",
     "metadata": {},
     "source": [
      "# Introduction to Python\n",
      "\n",
      "[Reference:](http://nbviewer.ipython.org/github/jakevdp/2013_fall_ASTR599/tree/master/notebooks/)"
     ]
    },
    {
     "cell_type": "markdown",
     "metadata": {},
     "source": [
      "<a name=\"top\"></a>\n",
      "## Index:\n",
      "\n",
      "- [Basic Training](#ch1)\n",
      "- [Data Structure](#ch2)\n",
      "- [Matplotlib](#ch3) for selfstudy?"
     ]
    },
    {
     "cell_type": "code",
     "collapsed": false,
     "input": [
      "import this"
     ],
     "language": "python",
     "metadata": {},
     "outputs": [
      {
       "output_type": "stream",
       "stream": "stdout",
       "text": [
        "The Zen of Python, by Tim Peters\n",
        "\n",
        "Beautiful is better than ugly.\n",
        "Explicit is better than implicit.\n",
        "Simple is better than complex.\n",
        "Complex is better than complicated.\n",
        "Flat is better than nested.\n",
        "Sparse is better than dense.\n",
        "Readability counts.\n",
        "Special cases aren't special enough to break the rules.\n",
        "Although practicality beats purity.\n",
        "Errors should never pass silently.\n",
        "Unless explicitly silenced.\n",
        "In the face of ambiguity, refuse the temptation to guess.\n",
        "There should be one-- and preferably only one --obvious way to do it.\n",
        "Although that way may not be obvious at first unless you're Dutch.\n",
        "Now is better than never.\n",
        "Although never is often better than *right* now.\n",
        "If the implementation is hard to explain, it's a bad idea.\n",
        "If the implementation is easy to explain, it may be a good idea.\n",
        "Namespaces are one honking great idea -- let's do more of those!\n"
       ]
      }
     ],
     "prompt_number": 36
    },
    {
     "cell_type": "markdown",
     "metadata": {},
     "source": [
      "<a name=\"ch1\"></a>\n",
      "## Basic Training "
     ]
    },
    {
     "cell_type": "markdown",
     "metadata": {},
     "source": [
      "### Hello World!\n",
      "\n",
      "> We saw before how easy a hello world script is to create in Python:"
     ]
    },
    {
     "cell_type": "code",
     "collapsed": false,
     "input": [
      "print \"Hello World!\""
     ],
     "language": "python",
     "metadata": {},
     "outputs": [
      {
       "output_type": "stream",
       "stream": "stdout",
       "text": [
        "Hello World!\n"
       ]
      }
     ],
     "prompt_number": 3
    },
    {
     "cell_type": "markdown",
     "metadata": {},
     "source": [
      "## Types and Operations: Python as a Calculator\n",
      "\n",
      "### We'll talk about a few types here:\n",
      "\n",
      "- ``int``: integer\n",
      "- ``float``: floating point (decimal)\n",
      "- ``long``: long integer\n",
      "- ``complex``: complex number (decimal, not integer)\n",
      "\n",
      "### We'll also introduce the basic arithmetic operations\n",
      "\n",
      "- ``+`` : addition\n",
      "- ``-``: subtraction\n",
      "- ``/``: division\n",
      "- ``*``: multiplication\n",
      "- ``%``: modulus (remainder)\n",
      "- ``**``: exponentiation\n",
      "\n",
      "> As we go through this, note carefully how these operations interact with various types"
     ]
    },
    {
     "cell_type": "code",
     "collapsed": false,
     "input": [
      "print 2 + 2"
     ],
     "language": "python",
     "metadata": {},
     "outputs": [
      {
       "output_type": "stream",
       "stream": "stdout",
       "text": [
        "4\n"
       ]
      }
     ],
     "prompt_number": 4
    },
    {
     "cell_type": "code",
     "collapsed": false,
     "input": [
      "2 + 2"
     ],
     "language": "python",
     "metadata": {},
     "outputs": [
      {
       "metadata": {},
       "output_type": "pyout",
       "prompt_number": 5,
       "text": [
        "4"
       ]
      }
     ],
     "prompt_number": 5
    },
    {
     "cell_type": "code",
     "collapsed": false,
     "input": [
      "4 / 2"
     ],
     "language": "python",
     "metadata": {},
     "outputs": [
      {
       "metadata": {},
       "output_type": "pyout",
       "prompt_number": 6,
       "text": [
        "2"
       ]
      }
     ],
     "prompt_number": 6
    },
    {
     "cell_type": "code",
     "collapsed": false,
     "input": [
      "5 / 2"
     ],
     "language": "python",
     "metadata": {},
     "outputs": [
      {
       "metadata": {},
       "output_type": "pyout",
       "prompt_number": 7,
       "text": [
        "2"
       ]
      }
     ],
     "prompt_number": 7
    },
    {
     "cell_type": "code",
     "collapsed": false,
     "input": [
      "5.0/2"
     ],
     "language": "python",
     "metadata": {},
     "outputs": [
      {
       "metadata": {},
       "output_type": "pyout",
       "prompt_number": 8,
       "text": [
        "2.5"
       ]
      }
     ],
     "prompt_number": 8
    },
    {
     "cell_type": "code",
     "collapsed": false,
     "input": [
      "# Try yourself here\n",
      "\n"
     ],
     "language": "python",
     "metadata": {},
     "outputs": [],
     "prompt_number": 9
    },
    {
     "cell_type": "markdown",
     "metadata": {},
     "source": [
      "### Indentation Matters!(Use 1 tab or 4 spaces)"
     ]
    },
    {
     "cell_type": "code",
     "collapsed": false,
     "input": [
      "print 2 + 2\n",
      "   3 + 3"
     ],
     "language": "python",
     "metadata": {},
     "outputs": [
      {
       "ename": "IndentationError",
       "evalue": "unexpected indent (<ipython-input-10-a75d2b16761f>, line 2)",
       "output_type": "pyerr",
       "traceback": [
        "\u001b[0;36m  File \u001b[0;32m\"<ipython-input-10-a75d2b16761f>\"\u001b[0;36m, line \u001b[0;32m2\u001b[0m\n\u001b[0;31m    3 + 3\u001b[0m\n\u001b[0m    ^\u001b[0m\n\u001b[0;31mIndentationError\u001b[0m\u001b[0;31m:\u001b[0m unexpected indent\n"
       ]
      }
     ],
     "prompt_number": 10
    },
    {
     "cell_type": "markdown",
     "metadata": {},
     "source": [
      "### Assigning variables"
     ]
    },
    {
     "cell_type": "code",
     "collapsed": false,
     "input": [
      "t = 1.0  # declare a variable t (time)\n",
      "accel = 9.8  # acceleration in units of m/s^2\n",
      "\n",
      "# distance travelled in time t seconds is 1/2 a*t**2\n",
      "dist = 0.5*accel*t*t\n",
      "print dist # this is the distance in meters"
     ],
     "language": "python",
     "metadata": {},
     "outputs": [
      {
       "output_type": "stream",
       "stream": "stdout",
       "text": [
        "4.9\n"
       ]
      }
     ],
     "prompt_number": 11
    },
    {
     "cell_type": "code",
     "collapsed": false,
     "input": [
      "dist1 = accel*(t**2)/2\n",
      "print dist1"
     ],
     "language": "python",
     "metadata": {},
     "outputs": [
      {
       "output_type": "stream",
       "stream": "stdout",
       "text": [
        "4.9\n"
       ]
      }
     ],
     "prompt_number": 12
    },
    {
     "cell_type": "code",
     "collapsed": false,
     "input": [
      "dist2 = 0.5*accel*pow(t,2)\n",
      "print dist2"
     ],
     "language": "python",
     "metadata": {},
     "outputs": [
      {
       "output_type": "stream",
       "stream": "stdout",
       "text": [
        "4.9\n"
       ]
      }
     ],
     "prompt_number": 13
    },
    {
     "cell_type": "markdown",
     "metadata": {},
     "source": [
      "### Comparison operators\n",
      "\n",
      "- ``==``, ``!=``: equal, not equal\n",
      "- ``<``, ``<=``: less than, less than or equal\n",
      "- ``>``, ``>=``: greater than, greater than or equal"
     ]
    },
    {
     "cell_type": "code",
     "collapsed": false,
     "input": [
      "2 < 4"
     ],
     "language": "python",
     "metadata": {},
     "outputs": [
      {
       "metadata": {},
       "output_type": "pyout",
       "prompt_number": 14,
       "text": [
        "True"
       ]
      }
     ],
     "prompt_number": 14
    },
    {
     "cell_type": "code",
     "collapsed": false,
     "input": [
      "3 >= 3"
     ],
     "language": "python",
     "metadata": {},
     "outputs": [
      {
       "metadata": {},
       "output_type": "pyout",
       "prompt_number": 15,
       "text": [
        "True"
       ]
      }
     ],
     "prompt_number": 15
    },
    {
     "cell_type": "code",
     "collapsed": false,
     "input": [
      "5 == 4"
     ],
     "language": "python",
     "metadata": {},
     "outputs": [
      {
       "metadata": {},
       "output_type": "pyout",
       "prompt_number": 16,
       "text": [
        "False"
       ]
      }
     ],
     "prompt_number": 16
    },
    {
     "cell_type": "code",
     "collapsed": false,
     "input": [
      "5 != 4"
     ],
     "language": "python",
     "metadata": {},
     "outputs": [
      {
       "metadata": {},
       "output_type": "pyout",
       "prompt_number": 17,
       "text": [
        "True"
       ]
      }
     ],
     "prompt_number": 17
    },
    {
     "cell_type": "markdown",
     "metadata": {},
     "source": [
      "- [Future Study:](http://nbviewer.ipython.org/github/jakevdp/2013_fall_ASTR599/blob/master/notebooks/01_basic_training.ipynb)\n",
      "- [Back to Top](#top)"
     ]
    },
    {
     "cell_type": "markdown",
     "metadata": {},
     "source": [
      "<a name=\"ch2\"></a>\n",
      "## More Data Structure\n",
      "\n",
      "### There are four types of collections in Python\n",
      "(known as \"Sequence objects\")\n",
      "\n",
      "- ``list`` : a mutable ordered array of data\n",
      "- ``tuple`` : an immutable ordered array of data\n",
      "- ``dict`` : an unordered mapping from keys to values\n",
      "- ``set`` : an unordered collection of unique elements\n",
      "\n",
      "The values in any of these collections can be arbitrary\n",
      "Python objects, and mixing content types is OK.\n",
      "\n",
      "Note that strings are also sequence objects."
     ]
    },
    {
     "cell_type": "markdown",
     "metadata": {},
     "source": [
      "## Tuples\n",
      "\n",
      "Tuples are denoted with parentheses"
     ]
    },
    {
     "cell_type": "code",
     "collapsed": false,
     "input": [
      "t = (12, -1)\n",
      "print type(t)"
     ],
     "language": "python",
     "metadata": {},
     "outputs": [
      {
       "output_type": "stream",
       "stream": "stdout",
       "text": [
        "<type 'tuple'>\n"
       ]
      }
     ],
     "prompt_number": 18
    },
    {
     "cell_type": "code",
     "collapsed": false,
     "input": [
      "print isinstance(t,tuple)\n",
      "print len(t)"
     ],
     "language": "python",
     "metadata": {},
     "outputs": [
      {
       "output_type": "stream",
       "stream": "stdout",
       "text": [
        "True\n",
        "2\n"
       ]
      }
     ],
     "prompt_number": 19
    },
    {
     "cell_type": "markdown",
     "metadata": {},
     "source": [
      "> Can mix types in a tuple"
     ]
    },
    {
     "cell_type": "code",
     "collapsed": false,
     "input": [
      "t = (12, \"monty\", True, -1.23e6)\n",
      "print t[0], t[1], t[2], t[3]"
     ],
     "language": "python",
     "metadata": {},
     "outputs": [
      {
       "output_type": "stream",
       "stream": "stdout",
       "text": [
        "12 monty True -1230000.0\n"
       ]
      }
     ],
     "prompt_number": 22
    },
    {
     "cell_type": "code",
     "collapsed": false,
     "input": [
      "print t[-1], t[-2],t[-3],t[-4]"
     ],
     "language": "python",
     "metadata": {},
     "outputs": [
      {
       "output_type": "stream",
       "stream": "stdout",
       "text": [
        "-1230000.0 True monty 12\n"
       ]
      }
     ],
     "prompt_number": 23
    },
    {
     "cell_type": "code",
     "collapsed": false,
     "input": [
      "print t[4]"
     ],
     "language": "python",
     "metadata": {},
     "outputs": [
      {
       "ename": "IndexError",
       "evalue": "tuple index out of range",
       "output_type": "pyerr",
       "traceback": [
        "\u001b[0;31m---------------------------------------------------------------------------\u001b[0m\n\u001b[0;31mIndexError\u001b[0m                                Traceback (most recent call last)",
        "\u001b[0;32m<ipython-input-25-b5041c091327>\u001b[0m in \u001b[0;36m<module>\u001b[0;34m()\u001b[0m\n\u001b[0;32m----> 1\u001b[0;31m \u001b[0;32mprint\u001b[0m \u001b[0mt\u001b[0m\u001b[0;34m[\u001b[0m\u001b[0;36m4\u001b[0m\u001b[0;34m]\u001b[0m\u001b[0;34m\u001b[0m\u001b[0m\n\u001b[0m",
        "\u001b[0;31mIndexError\u001b[0m: tuple index out of range"
       ]
      }
     ],
     "prompt_number": 25
    },
    {
     "cell_type": "code",
     "collapsed": false,
     "input": [
      "t[-2:]  # get the last two elements, return as a tuple"
     ],
     "language": "python",
     "metadata": {},
     "outputs": [
      {
       "metadata": {},
       "output_type": "pyout",
       "prompt_number": 26,
       "text": [
        "(True, -1230000.0)"
       ]
      }
     ],
     "prompt_number": 26
    },
    {
     "cell_type": "code",
     "collapsed": false,
     "input": [
      "x = (True) ; print type(x)\n",
      "x = (True,) ; print type(x)"
     ],
     "language": "python",
     "metadata": {},
     "outputs": [
      {
       "output_type": "stream",
       "stream": "stdout",
       "text": [
        "<type 'bool'>\n",
        "<type 'tuple'>\n"
       ]
      }
     ],
     "prompt_number": 27
    },
    {
     "cell_type": "code",
     "collapsed": false,
     "input": [
      "y = t[0:2] + (False,) + t[3:]\n",
      "print y"
     ],
     "language": "python",
     "metadata": {},
     "outputs": [
      {
       "output_type": "stream",
       "stream": "stdout",
       "text": [
        "(12, 'monty', False, -1230000.0)\n"
       ]
      }
     ],
     "prompt_number": 28
    },
    {
     "cell_type": "code",
     "collapsed": false,
     "input": [
      "t * 2"
     ],
     "language": "python",
     "metadata": {},
     "outputs": [
      {
       "metadata": {},
       "output_type": "pyout",
       "prompt_number": 29,
       "text": [
        "(12, 'monty', True, -1230000.0, 12, 'monty', True, -1230000.0)"
       ]
      }
     ],
     "prompt_number": 29
    },
    {
     "cell_type": "markdown",
     "metadata": {},
     "source": [
      "## Lists (More commonly used)\n",
      "\n",
      "> Lists are denoted with square brackets"
     ]
    },
    {
     "cell_type": "code",
     "collapsed": false,
     "input": [
      "v = [1,2,3]\n",
      "print len(v)\n",
      "print type(v)"
     ],
     "language": "python",
     "metadata": {},
     "outputs": [
      {
       "output_type": "stream",
       "stream": "stdout",
       "text": [
        "3\n",
        "<type 'list'>\n"
       ]
      }
     ],
     "prompt_number": 41
    },
    {
     "cell_type": "code",
     "collapsed": false,
     "input": [
      "v[0:2]"
     ],
     "language": "python",
     "metadata": {},
     "outputs": [
      {
       "metadata": {},
       "output_type": "pyout",
       "prompt_number": 42,
       "text": [
        "[1, 2]"
       ]
      }
     ],
     "prompt_number": 42
    },
    {
     "cell_type": "code",
     "collapsed": false,
     "input": [
      "v = [\"eggs\", \"spam\", -1, (\"monty\",\"python\"), [-1.2,-3.5]]\n",
      "len(v)"
     ],
     "language": "python",
     "metadata": {},
     "outputs": [
      {
       "metadata": {},
       "output_type": "pyout",
       "prompt_number": 43,
       "text": [
        "5"
       ]
      }
     ],
     "prompt_number": 43
    },
    {
     "cell_type": "code",
     "collapsed": false,
     "input": [
      "v[0] =\"green egg\"\n",
      "v[1] += \",love it.\"\n",
      "v[-1]"
     ],
     "language": "python",
     "metadata": {},
     "outputs": [
      {
       "metadata": {},
       "output_type": "pyout",
       "prompt_number": 44,
       "text": [
        "[-1.2, -3.5]"
       ]
      }
     ],
     "prompt_number": 44
    },
    {
     "cell_type": "code",
     "collapsed": false,
     "input": [
      "v[-1][1] = None\n",
      "print v"
     ],
     "language": "python",
     "metadata": {},
     "outputs": [
      {
       "output_type": "stream",
       "stream": "stdout",
       "text": [
        "['green egg', 'spam,love it.', -1, ('monty', 'python'), [-1.2, None]]\n"
       ]
      }
     ],
     "prompt_number": 45
    },
    {
     "cell_type": "markdown",
     "metadata": {},
     "source": [
      "the main point here: lists are **mutable**"
     ]
    },
    {
     "cell_type": "markdown",
     "metadata": {},
     "source": [
      "### Lists can be Extended and Appended"
     ]
    },
    {
     "cell_type": "code",
     "collapsed": false,
     "input": [
      "v = [1,2,3]\n",
      "v.append(4)\n",
      "v.append([-5])\n",
      "print v"
     ],
     "language": "python",
     "metadata": {},
     "outputs": [
      {
       "output_type": "stream",
       "stream": "stdout",
       "text": [
        "[1, 2, 3, 4, [-5]]\n"
       ]
      }
     ],
     "prompt_number": 46
    },
    {
     "cell_type": "markdown",
     "metadata": {},
     "source": [
      "#### Useful list methods:\n",
      "\n",
      " * `.append()`: adds a new element\n",
      " * `.extend()`: concatenates a list/element\n",
      " * `.pop()`: remove an element"
     ]
    },
    {
     "cell_type": "markdown",
     "metadata": {},
     "source": [
      "### Iterating over Lists"
     ]
    },
    {
     "cell_type": "code",
     "collapsed": false,
     "input": [
      "a = ['cat', 'window', 'defenestrate']\n",
      "for x in a:\n",
      "    print x, len(x)"
     ],
     "language": "python",
     "metadata": {},
     "outputs": [
      {
       "output_type": "stream",
       "stream": "stdout",
       "text": [
        "cat 3\n",
        "window 6\n",
        "defenestrate 12\n"
       ]
      }
     ],
     "prompt_number": 47
    },
    {
     "cell_type": "code",
     "collapsed": false,
     "input": [
      "for i,x in enumerate(a):\n",
      "    print i, x, len(x)"
     ],
     "language": "python",
     "metadata": {},
     "outputs": [
      {
       "output_type": "stream",
       "stream": "stdout",
       "text": [
        "0 cat 3\n",
        "1 window 6\n",
        "2 defenestrate 12\n"
       ]
      }
     ],
     "prompt_number": 48
    },
    {
     "cell_type": "code",
     "collapsed": false,
     "input": [
      "for x in a:\n",
      "    print x,"
     ],
     "language": "python",
     "metadata": {},
     "outputs": [
      {
       "output_type": "stream",
       "stream": "stdout",
       "text": [
        "cat window defenestrate\n"
       ]
      }
     ],
     "prompt_number": 49
    },
    {
     "cell_type": "markdown",
     "metadata": {},
     "source": [
      "### The ``range()`` function"
     ]
    },
    {
     "cell_type": "markdown",
     "metadata": {},
     "source": [
      "> The `range()` function creates a list of integers"
     ]
    },
    {
     "cell_type": "code",
     "collapsed": false,
     "input": [
      "x = range(4)\n",
      "print x"
     ],
     "language": "python",
     "metadata": {},
     "outputs": [
      {
       "output_type": "stream",
       "stream": "stdout",
       "text": [
        "[0, 1, 2, 3]\n"
       ]
      }
     ],
     "prompt_number": 52
    },
    {
     "cell_type": "code",
     "collapsed": false,
     "input": [
      "total = 0\n",
      "for val in range(4):\n",
      "    total += val\n",
      "    print \"By adding \" + str(val) + \\\n",
      "          \" the total is now \" + str(total)"
     ],
     "language": "python",
     "metadata": {},
     "outputs": [
      {
       "output_type": "stream",
       "stream": "stdout",
       "text": [
        "By adding 0 the total is now 0\n",
        "By adding 1 the total is now 1\n",
        "By adding 2 the total is now 3\n",
        "By adding 3 the total is now 6\n"
       ]
      }
     ],
     "prompt_number": 53
    },
    {
     "cell_type": "code",
     "collapsed": false,
     "input": [
      "a = ['Mary', 'had', 'a', 'little', 'lamb']\n",
      "for i in range(len(a)):\n",
      "    print i, a[i]"
     ],
     "language": "python",
     "metadata": {},
     "outputs": [
      {
       "output_type": "stream",
       "stream": "stdout",
       "text": [
        "0 Mary\n",
        "1 had\n",
        "2 a\n",
        "3 little\n",
        "4 lamb\n"
       ]
      }
     ],
     "prompt_number": 54
    },
    {
     "cell_type": "markdown",
     "metadata": {},
     "source": [
      "## List Comprehensions\n",
      "\n",
      "### A pythonic way of creating lists on-the-fly\n",
      "**Example:** imagine you want a list of all numbers from 0 to 100 which are divisible by 7 **or** 11"
     ]
    },
    {
     "cell_type": "code",
     "collapsed": false,
     "input": [
      "L = []\n",
      "for num in range(100):\n",
      "    if (num % 7 == 0) or (num % 11 == 0):\n",
      "        L.append(num)\n",
      "print L"
     ],
     "language": "python",
     "metadata": {},
     "outputs": [
      {
       "output_type": "stream",
       "stream": "stdout",
       "text": [
        "[0, 7, 11, 14, 21, 22, 28, 33, 35, 42, 44, 49, 55, 56, 63, 66, 70, 77, 84, 88, 91, 98, 99]\n"
       ]
      }
     ],
     "prompt_number": 70
    },
    {
     "cell_type": "code",
     "collapsed": false,
     "input": [
      "# A more strange way\n",
      "L = [num for num in range(100)\\\n",
      "     if (num % 7 == 0) or (num % 11 == 0)]\n",
      "print L"
     ],
     "language": "python",
     "metadata": {},
     "outputs": [
      {
       "output_type": "stream",
       "stream": "stdout",
       "text": [
        "[0, 7, 11, 14, 21, 22, 28, 33, 35, 42, 44, 49, 55, 56, 63, 66, 70, 77, 84, 88, 91, 98, 99]\n"
       ]
      }
     ],
     "prompt_number": 72
    },
    {
     "cell_type": "code",
     "collapsed": false,
     "input": [
      "# Can also operate on each element:\n",
      "L = [2 * num for num in range(100)\\\n",
      "     if (num % 7 == 0) or (num % 11 == 0)]\n",
      "print L"
     ],
     "language": "python",
     "metadata": {},
     "outputs": [
      {
       "output_type": "stream",
       "stream": "stdout",
       "text": [
        "[0, 14, 22, 28, 42, 44, 56, 66, 70, 84, 88, 98, 110, 112, 126, 132, 140, 154, 168, 176, 182, 196, 198]\n"
       ]
      }
     ],
     "prompt_number": 73
    },
    {
     "cell_type": "markdown",
     "metadata": {},
     "source": [
      "**Quick Exercise:**\n",
      "\n",
      "Write a loop over the words in this list and print the words longer than three characters in length:"
     ]
    },
    {
     "cell_type": "code",
     "collapsed": false,
     "input": [
      "L = [\"Oh\", \"Say\", \"does\", \"that\", \"star\",\n",
      "     \"spangled\", \"banner\", \"yet\", \"wave\"]"
     ],
     "language": "python",
     "metadata": {},
     "outputs": [],
     "prompt_number": 82
    },
    {
     "cell_type": "code",
     "collapsed": false,
     "input": [
      "# Try yourself here\n",
      "\n"
     ],
     "language": "python",
     "metadata": {},
     "outputs": [],
     "prompt_number": 57
    },
    {
     "cell_type": "markdown",
     "metadata": {},
     "source": [
      "<a name=\"lque\"></a>\n",
      "[Answer](#lans)"
     ]
    },
    {
     "cell_type": "markdown",
     "metadata": {},
     "source": [
      "## Dictionaries\n",
      "We'll show four ways to make a Dictionary"
     ]
    },
    {
     "cell_type": "code",
     "collapsed": false,
     "input": [
      "# number 1... curly braces & colons\n",
      "d = {\"favorite cat\": None,\n",
      "     \"favorite spam\": \"all\"}\n",
      "print d"
     ],
     "language": "python",
     "metadata": {},
     "outputs": [
      {
       "output_type": "stream",
       "stream": "stdout",
       "text": [
        "{'favorite spam': 'all', 'favorite cat': None}\n"
       ]
      }
     ],
     "prompt_number": 59
    },
    {
     "cell_type": "code",
     "collapsed": false,
     "input": [
      "# number 2\n",
      "d = dict(one = 1, two=2, cat='dog')\n",
      "print d"
     ],
     "language": "python",
     "metadata": {},
     "outputs": [
      {
       "output_type": "stream",
       "stream": "stdout",
       "text": [
        "{'cat': 'dog', 'two': 2, 'one': 1}\n"
       ]
      }
     ],
     "prompt_number": 60
    },
    {
     "cell_type": "code",
     "collapsed": false,
     "input": [
      "# number 3 ... just start filling in items/keys\n",
      "d = {}  # empty dictionary\n",
      "d['cat'] = 'dog'\n",
      "d['one'] = 1\n",
      "d['two'] = 2\n",
      "print d"
     ],
     "language": "python",
     "metadata": {},
     "outputs": [
      {
       "output_type": "stream",
       "stream": "stdout",
       "text": [
        "{'one': 1, 'two': 2, 'cat': 'dog'}\n"
       ]
      }
     ],
     "prompt_number": 62
    },
    {
     "cell_type": "code",
     "collapsed": false,
     "input": [
      "# number 4... start with a list of tuples, than transform to dict\n",
      "mylist = [(\"cat\",\"dog\"), (\"one\",1),(\"two\",2)]\n",
      "print dict(mylist)"
     ],
     "language": "python",
     "metadata": {},
     "outputs": [
      {
       "output_type": "stream",
       "stream": "stdout",
       "text": [
        "{'one': 1, 'two': 2, 'cat': 'dog'}\n"
       ]
      }
     ],
     "prompt_number": 64
    },
    {
     "cell_type": "markdown",
     "metadata": {},
     "source": [
      "#### Dictionaries can be complicated (in a good way) ####\n",
      "Note that there is no guaranteed order in a dictionary!"
     ]
    },
    {
     "cell_type": "code",
     "collapsed": false,
     "input": [
      "d = {\"favorite cat\": None, \"favorite spam\": \"all\"}"
     ],
     "language": "python",
     "metadata": {},
     "outputs": [],
     "prompt_number": 66
    },
    {
     "cell_type": "code",
     "collapsed": false,
     "input": [
      "print d[0]  # this breaks!  Dictionaries have no order"
     ],
     "language": "python",
     "metadata": {},
     "outputs": [
      {
       "ename": "KeyError",
       "evalue": "0",
       "output_type": "pyerr",
       "traceback": [
        "\u001b[0;31m---------------------------------------------------------------------------\u001b[0m\n\u001b[0;31mKeyError\u001b[0m                                  Traceback (most recent call last)",
        "\u001b[0;32m<ipython-input-67-21ddf1fce1c6>\u001b[0m in \u001b[0;36m<module>\u001b[0;34m()\u001b[0m\n\u001b[0;32m----> 1\u001b[0;31m \u001b[0;32mprint\u001b[0m \u001b[0md\u001b[0m\u001b[0;34m[\u001b[0m\u001b[0;36m0\u001b[0m\u001b[0;34m]\u001b[0m  \u001b[0;31m# this breaks!  Dictionaries have no order\u001b[0m\u001b[0;34m\u001b[0m\u001b[0m\n\u001b[0m",
        "\u001b[0;31mKeyError\u001b[0m: 0"
       ]
      }
     ],
     "prompt_number": 67
    },
    {
     "cell_type": "code",
     "collapsed": false,
     "input": [
      "d[\"favorite spam\"]"
     ],
     "language": "python",
     "metadata": {},
     "outputs": [
      {
       "metadata": {},
       "output_type": "pyout",
       "prompt_number": 68,
       "text": [
        "'all'"
       ]
      }
     ],
     "prompt_number": 68
    },
    {
     "cell_type": "code",
     "collapsed": false,
     "input": [
      "d[0] = \"this is a zero\"\n",
      "print d"
     ],
     "language": "python",
     "metadata": {},
     "outputs": [
      {
       "output_type": "stream",
       "stream": "stdout",
       "text": [
        "{0: 'this is a zero', 'favorite spam': 'all', 'favorite cat': None}\n"
       ]
      }
     ],
     "prompt_number": 69
    },
    {
     "cell_type": "code",
     "collapsed": false,
     "input": [
      "phone_numbers = {'family': [('mom','642-2322'),('dad','534-2311')],\n",
      "                 'friends': [('Billy','652-2212')]}"
     ],
     "language": "python",
     "metadata": {},
     "outputs": [],
     "prompt_number": 74
    },
    {
     "cell_type": "code",
     "collapsed": false,
     "input": [
      "# this will return a list, but you dont know in what order! \n",
      "phone_numbers.keys()"
     ],
     "language": "python",
     "metadata": {},
     "outputs": [
      {
       "metadata": {},
       "output_type": "pyout",
       "prompt_number": 76,
       "text": [
        "['friends', 'family']"
       ]
      }
     ],
     "prompt_number": 76
    },
    {
     "cell_type": "code",
     "collapsed": false,
     "input": [
      "phone_numbers.values()"
     ],
     "language": "python",
     "metadata": {},
     "outputs": [
      {
       "metadata": {},
       "output_type": "pyout",
       "prompt_number": 77,
       "text": [
        "[[('Billy', '652-2212')], [('mom', '642-2322'), ('dad', '534-2311')]]"
       ]
      }
     ],
     "prompt_number": 77
    },
    {
     "cell_type": "markdown",
     "metadata": {},
     "source": [
      "`.iteritems()` is a handy method,\n",
      "returning key,value pairs with each iteration"
     ]
    },
    {
     "cell_type": "code",
     "collapsed": false,
     "input": [
      "for group_type, vals in phone_numbers.iteritems():\n",
      "    print \"Group \" + group_type + \":\"\n",
      "    for info in vals:\n",
      "        print \" \", info[0],  info[1]"
     ],
     "language": "python",
     "metadata": {},
     "outputs": [
      {
       "output_type": "stream",
       "stream": "stdout",
       "text": [
        "Group friends:\n",
        "  Billy 652-2212\n",
        "Group family:\n",
        "  mom 642-2322\n",
        "  dad 534-2311\n"
       ]
      }
     ],
     "prompt_number": 80
    },
    {
     "cell_type": "markdown",
     "metadata": {},
     "source": [
      "<a name=\"lans\"></a>"
     ]
    },
    {
     "cell_type": "code",
     "collapsed": false,
     "input": [
      "# answer of list question\n",
      "for word in L:\n",
      "    if len(word) >= 3:\n",
      "        print word,"
     ],
     "language": "python",
     "metadata": {},
     "outputs": [
      {
       "output_type": "stream",
       "stream": "stdout",
       "text": [
        "Say does that star spangled banner yet wave\n"
       ]
      }
     ],
     "prompt_number": 83
    },
    {
     "cell_type": "markdown",
     "metadata": {},
     "source": [
      "- [Back to the question](#lque)\n",
      "- [Back to Top](#top)"
     ]
    },
    {
     "cell_type": "markdown",
     "metadata": {},
     "source": [
      "<a name=\"ch3\"></a>\n",
      "# Introduction to matplotlib\n",
      "\n",
      "The [matplotlib](http://matplotlib.org) library is a powerful tool capable of producing complex publication-quality figures with fine layout control in two and three dimensions; here we will only provide a minimal self-contained introduction to its usage that covers the functionality needed for the rest of the book.  We encourage the reader to read the tutorials included with the matplotlib documentation as well as to browse its extensive gallery of examples that include source code.\n",
      "\n",
      "Just as we typically use the shorthand `np` for Numpy, we will use `plt` for the `matplotlib.pyplot` module where the easy-to-use plotting functions reside (the library contains a rich object-oriented architecture that we don't have the space to discuss here):"
     ]
    },
    {
     "cell_type": "code",
     "collapsed": false,
     "input": [
      "# Initialize\n",
      "%matplotlib inline\n",
      "import matplotlib.pyplot as plt\n",
      "import numpy as np"
     ],
     "language": "python",
     "metadata": {},
     "outputs": [],
     "prompt_number": 2
    },
    {
     "cell_type": "code",
     "collapsed": false,
     "input": [
      "import scipy\n",
      "x = scipy.linspace(-2,2,1000)\n",
      "y1 = scipy.sqrt(1-(abs(x)-1)**2)\n",
      "y2 = -3*scipy.sqrt(1-(abs(x)/2)**0.5)\n",
      "plt.fill_between(x, y1, color='red')\n",
      "plt.fill_between(x, y2, color='red')\n",
      "plt.xlim([-2.5, 2.5])\n",
      "plt.title(u\"Happy Woman's Day To All\", fontsize = 18)\n",
      "#plt.text(0, -0.4, 'someone', fontsize=24, fontweight='bold', color='blue', horizontalalignment='center')\n",
      "#plt.show()\n",
      "plt.savefig('HappyWomanSDayToAll.png')"
     ],
     "language": "python",
     "metadata": {},
     "outputs": [
      {
       "metadata": {},
       "output_type": "display_data",
       "png": "[encoded data removed]",
       "text": [
        "<matplotlib.figure.Figure at 0x105309390>"
       ]
      }
     ],
     "prompt_number": 8
    },
    {
     "cell_type": "code",
     "collapsed": false,
     "input": [
      "plt.plot(np.random.rand(100))"
     ],
     "language": "python",
     "metadata": {},
     "outputs": [
      {
       "metadata": {},
       "output_type": "pyout",
       "prompt_number": 95,
       "text": [
        "[<matplotlib.lines.Line2D at 0x105024ed0>]"
       ]
      },
      {
       "metadata": {},
       "output_type": "display_data",
       "png": "[encoded data removed]",
       "text": [
        "<matplotlib.figure.Figure at 0x104dc3090>"
       ]
      }
     ],
     "prompt_number": 95
    },
    {
     "cell_type": "markdown",
     "metadata": {},
     "source": [
      "### Plotting a function: $f(x) = \\sin(x)$"
     ]
    },
    {
     "cell_type": "code",
     "collapsed": false,
     "input": [
      "x = np.linspace(0, 2*np.pi, 300)\n",
      "y = np.sin(x)\n",
      "plt.plot(x, y)"
     ],
     "language": "python",
     "metadata": {},
     "outputs": [
      {
       "metadata": {},
       "output_type": "pyout",
       "prompt_number": 97,
       "text": [
        "[<matplotlib.lines.Line2D at 0x104fb77d0>]"
       ]
      },
      {
       "metadata": {},
       "output_type": "display_data",
       "png": "[encoded data removed]",
       "text": [
        "<matplotlib.figure.Figure at 0x104dcac90>"
       ]
      }
     ],
     "prompt_number": 97
    },
    {
     "cell_type": "markdown",
     "metadata": {},
     "source": [
      "### Titles, labels, etc.\n",
      "\n",
      "The most frequently used function is simply called `plot`, here is how you can make a simple plot of $\\sin(x)$ and $\\sin(x^2)$ for $x \\in [0, 2\\pi]$ with labels and a grid (we use the semicolon in the last line to suppress the display of some information that is unnecessary right now):"
     ]
    },
    {
     "cell_type": "code",
     "collapsed": false,
     "input": [
      "y2 = np.sin(x**2)\n",
      "plt.plot(x, y, label=r'$\\sin(x)$')\n",
      "plt.plot(x, y2, label=r'$\\sin(x^2)$')\n",
      "plt.title('Some functions')\n",
      "plt.xlabel('x')\n",
      "plt.ylabel('y')\n",
      "plt.grid()\n",
      "plt.legend();"
     ],
     "language": "python",
     "metadata": {},
     "outputs": [
      {
       "metadata": {},
       "output_type": "display_data",
       "png": "[encoded data removed]",
       "text": [
        "<matplotlib.figure.Figure at 0x104fc2710>"
       ]
      }
     ],
     "prompt_number": 98
    },
    {
     "cell_type": "markdown",
     "metadata": {},
     "source": [
      "### Controlling lines and markers\n",
      "\n",
      "You can control the style, color and other properties of the markers, for example:"
     ]
    },
    {
     "cell_type": "code",
     "collapsed": false,
     "input": [
      "x = np.linspace(0, 2*np.pi, 50)\n",
      "y = np.sin(x)\n",
      "plt.plot(x, y, linewidth=2);"
     ],
     "language": "python",
     "metadata": {},
     "outputs": [
      {
       "metadata": {},
       "output_type": "display_data",
       "png": "[encoded data removed]",
       "text": [
        "<matplotlib.figure.Figure at 0x104dabbd0>"
       ]
      }
     ],
     "prompt_number": 99
    },
    {
     "cell_type": "code",
     "collapsed": false,
     "input": [
      "plt.plot(x, y, 'o', markersize=5, color='r');"
     ],
     "language": "python",
     "metadata": {},
     "outputs": [
      {
       "metadata": {},
       "output_type": "display_data",
       "png": "[encoded data removed]",
       "text": [
        "<matplotlib.figure.Figure at 0x105045890>"
       ]
      }
     ],
     "prompt_number": 100
    },
    {
     "cell_type": "markdown",
     "metadata": {},
     "source": [
      "## Other plot types\n",
      "\n",
      "### Errorbars\n",
      "\n",
      "We will now see how to create a few other common plot types, such as a simple error plot:"
     ]
    },
    {
     "cell_type": "code",
     "collapsed": false,
     "input": [
      "# example data\n",
      "x = np.arange(0.1, 4, 0.5)\n",
      "y = np.exp(-x)\n",
      "\n",
      "# example variable error bar values\n",
      "yerr = 0.1 + 0.2*np.sqrt(x)\n",
      "xerr = 0.1 + yerr\n",
      "\n",
      "# First illustrate basic pyplot interface, using defaults where possible.\n",
      "plt.figure()\n",
      "plt.errorbar(x, y, xerr=0.2, yerr=0.4)\n",
      "plt.title(\"Simplest errorbars, 0.2 in x, 0.4 in y\");"
     ],
     "language": "python",
     "metadata": {},
     "outputs": [
      {
       "metadata": {},
       "output_type": "display_data",
       "png": "[encoded data removed]",
       "text": [
        "<matplotlib.figure.Figure at 0x104daf6d0>"
       ]
      }
     ],
     "prompt_number": 101
    },
    {
     "cell_type": "markdown",
     "metadata": {},
     "source": [
      "### Histogram\n",
      "\n",
      "A histogram annotated with text inside the plot, using the `text` function:"
     ]
    },
    {
     "cell_type": "code",
     "collapsed": false,
     "input": [
      "mu, sigma = 100, 15\n",
      "x = mu + sigma * np.random.randn(10000)\n",
      "\n",
      "# the histogram of the data\n",
      "n, bins, patches = plt.hist(x, 50, normed=1, facecolor='g', alpha=0.75)\n",
      "\n",
      "plt.xlabel('Smarts')\n",
      "plt.ylabel('Probability')\n",
      "plt.title('Histogram of IQ')\n",
      "# This will put a text fragment at the position given:\n",
      "plt.text(55, .027, r'$\\mu=100,\\ \\sigma=15$', fontsize=14)\n",
      "plt.axis([40, 160, 0, 0.03])\n",
      "plt.grid(True)"
     ],
     "language": "python",
     "metadata": {},
     "outputs": [
      {
       "metadata": {},
       "output_type": "display_data",
       "png": "[encoded data removed]",
       "text": [
        "<matplotlib.figure.Figure at 0x10504c210>"
       ]
      }
     ],
     "prompt_number": 102
    },
    {
     "cell_type": "markdown",
     "metadata": {},
     "source": [
      "## Simple 3d plotting with matplotlib\n",
      "For 3D plots, you must execute at least once in your session:"
     ]
    },
    {
     "cell_type": "code",
     "collapsed": false,
     "input": [
      "from mpl_toolkits.mplot3d import Axes3D"
     ],
     "language": "python",
     "metadata": {},
     "outputs": [],
     "prompt_number": 103
    },
    {
     "cell_type": "markdown",
     "metadata": {},
     "source": [
      "One this has been done, you can create 3d axes with the `projection='3d'` keyword to `add_subplot`:\n",
      "\n",
      "    fig = plt.figure()\n",
      "    fig.add_subplot(...,\n",
      "                    projection='3d')\n",
      "\n",
      "Here is a simple 3D surface plot:"
     ]
    },
    {
     "cell_type": "code",
     "collapsed": false,
     "input": [
      "from mpl_toolkits.mplot3d.axes3d import Axes3D\n",
      "from matplotlib import cm\n",
      "\n",
      "fig = plt.figure()\n",
      "ax = fig.add_subplot(1, 1, 1, projection='3d')\n",
      "X = np.arange(-5, 5, 0.25)\n",
      "Y = np.arange(-5, 5, 0.25)\n",
      "X, Y = np.meshgrid(X, Y)\n",
      "R = np.sqrt(X**2 + Y**2)\n",
      "Z = np.sin(R)\n",
      "surf = ax.plot_surface(X, Y, Z, rstride=1, cstride=1, cmap=cm.jet,\n",
      "        linewidth=0, antialiased=False)\n",
      "ax.set_zlim3d(-1.01, 1.01);"
     ],
     "language": "python",
     "metadata": {},
     "outputs": [
      {
       "metadata": {},
       "output_type": "display_data",
       "png": "[encoded data removed]",
       "text": [
        "<matplotlib.figure.Figure at 0x105044c90>"
       ]
      }
     ],
     "prompt_number": 105
    },
    {
     "cell_type": "markdown",
     "metadata": {},
     "source": [
      "[Further Study](http://nbviewer.ipython.org/github/jakevdp/2013_fall_ASTR599/blob/master/notebooks/06_MatplotlibIntro.ipynb)"
     ]
    },
    {
     "cell_type": "markdown",
     "metadata": {},
     "source": [
      "[Back to Top](#top)"
     ]
    },
    {
     "cell_type": "code",
     "collapsed": false,
     "input": [],
     "language": "python",
     "metadata": {},
     "outputs": []
    }
   ],
   "metadata": {}
  }
 ]
}